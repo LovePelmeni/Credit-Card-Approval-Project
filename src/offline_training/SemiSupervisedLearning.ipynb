{
 "cells": [
  {
   "cell_type": "markdown",
   "metadata": {},
   "source": [
    "Semi-Supervised Learning for Credit-Card Approval Project"
   ]
  },
  {
   "cell_type": "markdown",
   "metadata": {},
   "source": [
    "Introduction: \n",
    "Dataset, that has been retrieved from remote server has over 90% of unlabeled data and \n",
    "at most 10% respectively. We need to predict labels of bad client for over 460000 samples, based on \n",
    "user personal information, provided. This Notebook prepares the dataset for the potential re-tranining by \n",
    "using semi-supervised learning technique"
   ]
  },
  {
   "cell_type": "code",
   "execution_count": 1,
   "metadata": {},
   "outputs": [],
   "source": [
    "# let's start by loading the dataset \n",
    "import pandas, numpy\n",
    "import seaborn as sns \n",
    "\n",
    "applications = pandas.read_csv(\"application_record.csv\")\n",
    "credit_records = pandas.read_csv(\"credit_record.csv\")"
   ]
  },
  {
   "cell_type": "code",
   "execution_count": 2,
   "metadata": {},
   "outputs": [],
   "source": [
    "# labeling data, presented in the credit records \n",
    "\n",
    "# Relabling Credit Records Dataset\n",
    "\n",
    "CREDIT_MAPPING = {\n",
    "    \"ID\": \"client_id\",\n",
    "    \"STATUS\": \"due_status\",\n",
    "    \"MONTHS_BALANCE\": \"balance_month\"\n",
    "}\n",
    "credit_records.rename(columns=CREDIT_MAPPING, inplace=True)\n",
    "\n",
    "# Relabling Applications Records Dataset\n",
    "APPLICATION_MAPPING = {\n",
    "    \"ID\": \"client_id\",\n",
    "    \"CODE_GENDER\": \"gender\",\n",
    "    \"FLAG_OWN_CAR\": \"has_car\",\n",
    "    \"FLAG_OWN_REALTY\": \"has_realty\",\n",
    "    \"CNT_CHILDREN\": \"total_children\",\n",
    "    \"AMT_INCOME_TOTAL\": \"annual_income\",\n",
    "    \"NAME_INCOME_TYPE\": \"income_category\",\n",
    "    \"NAME_EDUCATION_TYPE\": \"education_category\",\n",
    "    \"NAME_FAMILY_STATUS\": \"family_status\",\n",
    "    \"NAME_HOUSING_TYPE\": \"living_place\",\n",
    "    \"DAYS_BIRTH\": \"birthday\",\n",
    "    \"FLAG_MOBIL\": \"has_mobile_phone\",\n",
    "    \"FLAG_PHONE\": \"has_phone_number\",\n",
    "    \"FLAG_WORK_PHONE\": \"has_work_phone\",\n",
    "    \"FLAG_EMAIL\": \"has_email\",\n",
    "    \"CNT_FAM_MEMBERS\": \"family_size\",\n",
    "    \"OCCUPATION_TYPE\": \"job\",\n",
    "    'DAYS_EMPLOYED': 'days_employed',\n",
    "}\n",
    "\n",
    "applications.rename(columns=APPLICATION_MAPPING, inplace=True)\n"
   ]
  },
  {
   "cell_type": "markdown",
   "metadata": {},
   "source": [
    "Null Values handling (Application Records)"
   ]
  },
  {
   "cell_type": "code",
   "execution_count": 3,
   "metadata": {},
   "outputs": [
    {
     "data": {
      "text/plain": [
       "client_id                  0\n",
       "gender                     0\n",
       "has_car                    0\n",
       "has_realty                 0\n",
       "total_children             0\n",
       "annual_income              0\n",
       "income_category            0\n",
       "education_category         0\n",
       "family_status              0\n",
       "living_place               0\n",
       "birthday                   0\n",
       "days_employed              0\n",
       "has_mobile_phone           0\n",
       "has_work_phone             0\n",
       "has_phone_number           0\n",
       "has_email                  0\n",
       "job                   134203\n",
       "family_size                0\n",
       "dtype: int64"
      ]
     },
     "execution_count": 3,
     "metadata": {},
     "output_type": "execute_result"
    }
   ],
   "source": [
    "applications.isnull().sum()"
   ]
  },
  {
   "cell_type": "code",
   "execution_count": 4,
   "metadata": {},
   "outputs": [],
   "source": [
    "missing_job = 'missing'\n",
    "applications['job'].fillna(value=missing_job, inplace=True)"
   ]
  },
  {
   "cell_type": "markdown",
   "metadata": {},
   "source": [
    "Null Values Handling (Credit Records)"
   ]
  },
  {
   "cell_type": "code",
   "execution_count": 5,
   "metadata": {},
   "outputs": [
    {
     "data": {
      "text/plain": [
       "client_id        0\n",
       "balance_month    0\n",
       "due_status       0\n",
       "dtype: int64"
      ]
     },
     "execution_count": 5,
     "metadata": {},
     "output_type": "execute_result"
    }
   ],
   "source": [
    "credit_records.isna().sum()"
   ]
  },
  {
   "cell_type": "markdown",
   "metadata": {},
   "source": [
    "Handling outliers"
   ]
  },
  {
   "cell_type": "code",
   "execution_count": 6,
   "metadata": {},
   "outputs": [
    {
     "data": {
      "text/plain": [
       "Index(['client_id', 'total_children', 'annual_income', 'birthday',\n",
       "       'days_employed', 'has_mobile_phone', 'has_work_phone',\n",
       "       'has_phone_number', 'has_email', 'family_size'],\n",
       "      dtype='object')"
      ]
     },
     "execution_count": 6,
     "metadata": {},
     "output_type": "execute_result"
    }
   ],
   "source": [
    "numeric_features = applications.select_dtypes(include='number').columns\n",
    "numeric_features"
   ]
  },
  {
   "cell_type": "markdown",
   "metadata": {},
   "source": [
    "Total Children"
   ]
  },
  {
   "cell_type": "code",
   "execution_count": 7,
   "metadata": {},
   "outputs": [
    {
     "data": {
      "text/plain": [
       "<Axes: xlabel='total_children'>"
      ]
     },
     "execution_count": 7,
     "metadata": {},
     "output_type": "execute_result"
    },
    {
     "data": {
      "image/png": "[encoded data removed]",
      "text/plain": [
       "<Figure size 640x480 with 1 Axes>"
      ]
     },
     "metadata": {},
     "output_type": "display_data"
    }
   ],
   "source": [
    "sns.boxplot(x=applications['total_children'])"
   ]
  },
  {
   "cell_type": "code",
   "execution_count": 8,
   "metadata": {},
   "outputs": [
    {
     "name": "stdout",
     "output_type": "stream",
     "text": [
      "outliers:  19108\n",
      "total samples:  438557\n"
     ]
    }
   ],
   "source": [
    "low, high = numpy.percentile(applications['annual_income'], [25, 75])\n",
    "iqr = (high - low)\n",
    "low_fence, high_fence = low - (1.5 * iqr), high + (1.5 * iqr)\n",
    "\n",
    "outliers = applications.loc[\n",
    "    (applications[\"annual_income\"] > high_fence) | (applications['annual_income'] < low_fence)\n",
    "]\n",
    "\n",
    "\n",
    "print('outliers: ', outliers.shape[0])\n",
    "print('total samples: ', len(applications))\n",
    "\n"
   ]
  },
  {
   "cell_type": "markdown",
   "metadata": {},
   "source": [
    "Family Size"
   ]
  },
  {
   "cell_type": "code",
   "execution_count": 9,
   "metadata": {},
   "outputs": [
    {
     "data": {
      "text/plain": [
       "<Axes: xlabel='family_size'>"
      ]
     },
     "execution_count": 9,
     "metadata": {},
     "output_type": "execute_result"
    },
    {
     "data": {
      "image/png": "[encoded data removed]",
      "text/plain": [
       "<Figure size 640x480 with 1 Axes>"
      ]
     },
     "metadata": {},
     "output_type": "display_data"
    }
   ],
   "source": [
    "sns.boxplot(x=applications['family_size'])"
   ]
  },
  {
   "cell_type": "markdown",
   "metadata": {},
   "source": [
    "Feature Engineering"
   ]
  },
  {
   "cell_type": "markdown",
   "metadata": {},
   "source": [
    "Application Record Features"
   ]
  },
  {
   "cell_type": "code",
   "execution_count": 10,
   "metadata": {},
   "outputs": [],
   "source": [
    "import math \n",
    "\n",
    "applications = applications.drop_duplicates(subset=[\"client_id\"], keep='last', inplace=False)\n",
    "\n",
    "applications['age'] = applications['birthday'].apply(lambda day: math.floor(abs(day) / 365))\n",
    "applications['employed'] = applications['days_employed'].apply(lambda days: True if days < 0 else False)\n",
    "\n",
    "dup_clients = applications['client_id'].value_counts().to_frame(\"number_of_apps\").reset_index()\n",
    "applications['exp_applicant'] = numpy.where(dup_clients['number_of_apps'] > 1, True, False)\n",
    "\n",
    "applications.drop(columns=['birthday', 'days_employed'], inplace=True)\n",
    "\n",
    "def create_married_feature(applications: pandas.DataFrame):\n",
    "\n",
    "    non_mar_statuses = set(['Single / not married', 'Separated', 'Widow'])\n",
    "    applications['family_status'] = applications['family_status'].apply(\n",
    "        func=lambda status: True if status not in non_mar_statuses else False\n",
    "    )\n",
    "    return applications.rename(columns={'family_status': 'married'}, inplace=False)\n",
    "\n",
    "\n",
    "def create_gender_feature(applications: pandas.DataFrame):\n",
    "\n",
    "    encoded_data = pandas.get_dummies(\n",
    "        applications['gender']\n",
    "    ).rename(columns={'F': 'Female', 'M': 'Male'})\n",
    "\n",
    "    applications = pandas.concat([applications, encoded_data], axis=1)\n",
    "    applications.drop(columns=['gender'], inplace=True)\n",
    "    return applications\n",
    "\n",
    "applications = create_married_feature(applications)\n",
    "applications = create_gender_feature(applications)"
   ]
  },
  {
   "cell_type": "code",
   "execution_count": 11,
   "metadata": {},
   "outputs": [],
   "source": [
    "# Cleansing credit records dataset \n",
    "DUE_DATATYPES = {\n",
    "    \"0\": 0,\n",
    "    \"1\": 0,\n",
    "    \"2\": 1,\n",
    "    \"3\": 1,\n",
    "    \"4\": 1,\n",
    "    \"5\": 1,\n",
    "    \"X\": 0,\n",
    "    \"C\": 0\n",
    "}\n",
    "credit_records['due_status'] = credit_records['due_status'].map(lambda item: DUE_DATATYPES[item])"
   ]
  },
  {
   "cell_type": "markdown",
   "metadata": {},
   "source": [
    "Credit Record Features"
   ]
  },
  {
   "cell_type": "code",
   "execution_count": 12,
   "metadata": {},
   "outputs": [
    {
     "data": {
      "text/plain": [
       "bad_client\n",
       "False    45318\n",
       "True       667\n",
       "Name: count, dtype: int64"
      ]
     },
     "execution_count": 12,
     "metadata": {},
     "output_type": "execute_result"
    }
   ],
   "source": [
    "# introducing credit records features (bad client status)\n",
    "credit_features = pandas.DataFrame()\n",
    "credit_features['client_id'] = credit_records['client_id'].unique()\n",
    "credit_features['overdues'] = pandas.Series(credit_records.groupby('client_id')['due_status'].sum().to_numpy())\n",
    "credit_features['credit_window'] = numpy.abs(credit_records['balance_month'].min())\n",
    "credit_features['overdue_perc'] = numpy.round(credit_features['overdues'] / credit_features['credit_window'], 2)\n",
    "\n",
    "# annotating bad client status\n",
    "credit_features['bad_client'] = numpy.where(credit_features['overdues'] > 0, True, False)\n",
    "credit_features = credit_features[['client_id', 'bad_client']]\n",
    "\n",
    "credit_features['bad_client'].value_counts()"
   ]
  },
  {
   "cell_type": "markdown",
   "metadata": {},
   "source": [
    "Merging tables together"
   ]
  },
  {
   "cell_type": "code",
   "execution_count": 13,
   "metadata": {},
   "outputs": [
    {
     "data": {
      "text/html": [
       "<div>\n",
       "<style scoped>\n",
       "    .dataframe tbody tr th:only-of-type {\n",
       "        vertical-align: middle;\n",
       "    }\n",
       "\n",
       "    .dataframe tbody tr th {\n",
       "        vertical-align: top;\n",
       "    }\n",
       "\n",
       "    .dataframe thead th {\n",
       "        text-align: right;\n",
       "    }\n",
       "</style>\n",
       "<table border=\"1\" class=\"dataframe\">\n",
       "  <thead>\n",
       "    <tr style=\"text-align: right;\">\n",
       "      <th></th>\n",
       "      <th>client_id</th>\n",
       "      <th>has_car</th>\n",
       "      <th>has_realty</th>\n",
       "      <th>total_children</th>\n",
       "      <th>annual_income</th>\n",
       "      <th>income_category</th>\n",
       "      <th>education_category</th>\n",
       "      <th>married</th>\n",
       "      <th>living_place</th>\n",
       "      <th>has_mobile_phone</th>\n",
       "      <th>...</th>\n",
       "      <th>has_phone_number</th>\n",
       "      <th>has_email</th>\n",
       "      <th>job</th>\n",
       "      <th>family_size</th>\n",
       "      <th>age</th>\n",
       "      <th>employed</th>\n",
       "      <th>exp_applicant</th>\n",
       "      <th>Female</th>\n",
       "      <th>Male</th>\n",
       "      <th>bad_client</th>\n",
       "    </tr>\n",
       "  </thead>\n",
       "  <tbody>\n",
       "    <tr>\n",
       "      <th>0</th>\n",
       "      <td>5008804</td>\n",
       "      <td>Y</td>\n",
       "      <td>Y</td>\n",
       "      <td>0</td>\n",
       "      <td>427500.0</td>\n",
       "      <td>Working</td>\n",
       "      <td>Higher education</td>\n",
       "      <td>True</td>\n",
       "      <td>Rented apartment</td>\n",
       "      <td>1</td>\n",
       "      <td>...</td>\n",
       "      <td>0</td>\n",
       "      <td>0</td>\n",
       "      <td>missing</td>\n",
       "      <td>2.0</td>\n",
       "      <td>32</td>\n",
       "      <td>True</td>\n",
       "      <td>False</td>\n",
       "      <td>False</td>\n",
       "      <td>True</td>\n",
       "      <td>False</td>\n",
       "    </tr>\n",
       "    <tr>\n",
       "      <th>1</th>\n",
       "      <td>5008805</td>\n",
       "      <td>Y</td>\n",
       "      <td>Y</td>\n",
       "      <td>0</td>\n",
       "      <td>427500.0</td>\n",
       "      <td>Working</td>\n",
       "      <td>Higher education</td>\n",
       "      <td>True</td>\n",
       "      <td>Rented apartment</td>\n",
       "      <td>1</td>\n",
       "      <td>...</td>\n",
       "      <td>0</td>\n",
       "      <td>0</td>\n",
       "      <td>missing</td>\n",
       "      <td>2.0</td>\n",
       "      <td>32</td>\n",
       "      <td>True</td>\n",
       "      <td>False</td>\n",
       "      <td>False</td>\n",
       "      <td>True</td>\n",
       "      <td>False</td>\n",
       "    </tr>\n",
       "    <tr>\n",
       "      <th>2</th>\n",
       "      <td>5008806</td>\n",
       "      <td>Y</td>\n",
       "      <td>Y</td>\n",
       "      <td>0</td>\n",
       "      <td>112500.0</td>\n",
       "      <td>Working</td>\n",
       "      <td>Secondary / secondary special</td>\n",
       "      <td>True</td>\n",
       "      <td>House / apartment</td>\n",
       "      <td>1</td>\n",
       "      <td>...</td>\n",
       "      <td>0</td>\n",
       "      <td>0</td>\n",
       "      <td>Security staff</td>\n",
       "      <td>2.0</td>\n",
       "      <td>58</td>\n",
       "      <td>True</td>\n",
       "      <td>False</td>\n",
       "      <td>False</td>\n",
       "      <td>True</td>\n",
       "      <td>False</td>\n",
       "    </tr>\n",
       "    <tr>\n",
       "      <th>3</th>\n",
       "      <td>5008808</td>\n",
       "      <td>N</td>\n",
       "      <td>Y</td>\n",
       "      <td>0</td>\n",
       "      <td>270000.0</td>\n",
       "      <td>Commercial associate</td>\n",
       "      <td>Secondary / secondary special</td>\n",
       "      <td>False</td>\n",
       "      <td>House / apartment</td>\n",
       "      <td>1</td>\n",
       "      <td>...</td>\n",
       "      <td>1</td>\n",
       "      <td>1</td>\n",
       "      <td>Sales staff</td>\n",
       "      <td>1.0</td>\n",
       "      <td>52</td>\n",
       "      <td>True</td>\n",
       "      <td>False</td>\n",
       "      <td>True</td>\n",
       "      <td>False</td>\n",
       "      <td>False</td>\n",
       "    </tr>\n",
       "    <tr>\n",
       "      <th>4</th>\n",
       "      <td>5008809</td>\n",
       "      <td>N</td>\n",
       "      <td>Y</td>\n",
       "      <td>0</td>\n",
       "      <td>270000.0</td>\n",
       "      <td>Commercial associate</td>\n",
       "      <td>Secondary / secondary special</td>\n",
       "      <td>False</td>\n",
       "      <td>House / apartment</td>\n",
       "      <td>1</td>\n",
       "      <td>...</td>\n",
       "      <td>1</td>\n",
       "      <td>1</td>\n",
       "      <td>Sales staff</td>\n",
       "      <td>1.0</td>\n",
       "      <td>52</td>\n",
       "      <td>True</td>\n",
       "      <td>False</td>\n",
       "      <td>True</td>\n",
       "      <td>False</td>\n",
       "      <td>False</td>\n",
       "    </tr>\n",
       "    <tr>\n",
       "      <th>...</th>\n",
       "      <td>...</td>\n",
       "      <td>...</td>\n",
       "      <td>...</td>\n",
       "      <td>...</td>\n",
       "      <td>...</td>\n",
       "      <td>...</td>\n",
       "      <td>...</td>\n",
       "      <td>...</td>\n",
       "      <td>...</td>\n",
       "      <td>...</td>\n",
       "      <td>...</td>\n",
       "      <td>...</td>\n",
       "      <td>...</td>\n",
       "      <td>...</td>\n",
       "      <td>...</td>\n",
       "      <td>...</td>\n",
       "      <td>...</td>\n",
       "      <td>...</td>\n",
       "      <td>...</td>\n",
       "      <td>...</td>\n",
       "      <td>...</td>\n",
       "    </tr>\n",
       "    <tr>\n",
       "      <th>438505</th>\n",
       "      <td>6840104</td>\n",
       "      <td>N</td>\n",
       "      <td>Y</td>\n",
       "      <td>0</td>\n",
       "      <td>135000.0</td>\n",
       "      <td>Pensioner</td>\n",
       "      <td>Secondary / secondary special</td>\n",
       "      <td>False</td>\n",
       "      <td>House / apartment</td>\n",
       "      <td>1</td>\n",
       "      <td>...</td>\n",
       "      <td>0</td>\n",
       "      <td>0</td>\n",
       "      <td>missing</td>\n",
       "      <td>1.0</td>\n",
       "      <td>62</td>\n",
       "      <td>False</td>\n",
       "      <td>False</td>\n",
       "      <td>False</td>\n",
       "      <td>True</td>\n",
       "      <td>NaN</td>\n",
       "    </tr>\n",
       "    <tr>\n",
       "      <th>438506</th>\n",
       "      <td>6840222</td>\n",
       "      <td>N</td>\n",
       "      <td>N</td>\n",
       "      <td>0</td>\n",
       "      <td>103500.0</td>\n",
       "      <td>Working</td>\n",
       "      <td>Secondary / secondary special</td>\n",
       "      <td>False</td>\n",
       "      <td>House / apartment</td>\n",
       "      <td>1</td>\n",
       "      <td>...</td>\n",
       "      <td>0</td>\n",
       "      <td>0</td>\n",
       "      <td>Laborers</td>\n",
       "      <td>1.0</td>\n",
       "      <td>43</td>\n",
       "      <td>True</td>\n",
       "      <td>False</td>\n",
       "      <td>True</td>\n",
       "      <td>False</td>\n",
       "      <td>NaN</td>\n",
       "    </tr>\n",
       "    <tr>\n",
       "      <th>438507</th>\n",
       "      <td>6841878</td>\n",
       "      <td>N</td>\n",
       "      <td>N</td>\n",
       "      <td>0</td>\n",
       "      <td>54000.0</td>\n",
       "      <td>Commercial associate</td>\n",
       "      <td>Higher education</td>\n",
       "      <td>False</td>\n",
       "      <td>With parents</td>\n",
       "      <td>1</td>\n",
       "      <td>...</td>\n",
       "      <td>0</td>\n",
       "      <td>0</td>\n",
       "      <td>Sales staff</td>\n",
       "      <td>1.0</td>\n",
       "      <td>22</td>\n",
       "      <td>True</td>\n",
       "      <td>False</td>\n",
       "      <td>True</td>\n",
       "      <td>False</td>\n",
       "      <td>NaN</td>\n",
       "    </tr>\n",
       "    <tr>\n",
       "      <th>438508</th>\n",
       "      <td>6842765</td>\n",
       "      <td>N</td>\n",
       "      <td>Y</td>\n",
       "      <td>0</td>\n",
       "      <td>72000.0</td>\n",
       "      <td>Pensioner</td>\n",
       "      <td>Secondary / secondary special</td>\n",
       "      <td>True</td>\n",
       "      <td>House / apartment</td>\n",
       "      <td>1</td>\n",
       "      <td>...</td>\n",
       "      <td>0</td>\n",
       "      <td>0</td>\n",
       "      <td>missing</td>\n",
       "      <td>2.0</td>\n",
       "      <td>59</td>\n",
       "      <td>False</td>\n",
       "      <td>False</td>\n",
       "      <td>True</td>\n",
       "      <td>False</td>\n",
       "      <td>NaN</td>\n",
       "    </tr>\n",
       "    <tr>\n",
       "      <th>438509</th>\n",
       "      <td>6842885</td>\n",
       "      <td>N</td>\n",
       "      <td>Y</td>\n",
       "      <td>0</td>\n",
       "      <td>121500.0</td>\n",
       "      <td>Working</td>\n",
       "      <td>Secondary / secondary special</td>\n",
       "      <td>True</td>\n",
       "      <td>House / apartment</td>\n",
       "      <td>1</td>\n",
       "      <td>...</td>\n",
       "      <td>1</td>\n",
       "      <td>0</td>\n",
       "      <td>Sales staff</td>\n",
       "      <td>2.0</td>\n",
       "      <td>51</td>\n",
       "      <td>True</td>\n",
       "      <td>False</td>\n",
       "      <td>True</td>\n",
       "      <td>False</td>\n",
       "      <td>NaN</td>\n",
       "    </tr>\n",
       "  </tbody>\n",
       "</table>\n",
       "<p>438510 rows × 21 columns</p>\n",
       "</div>"
      ],
      "text/plain": [
       "        client_id has_car has_realty  total_children  annual_income  \\\n",
       "0         5008804       Y          Y               0       427500.0   \n",
       "1         5008805       Y          Y               0       427500.0   \n",
       "2         5008806       Y          Y               0       112500.0   \n",
       "3         5008808       N          Y               0       270000.0   \n",
       "4         5008809       N          Y               0       270000.0   \n",
       "...           ...     ...        ...             ...            ...   \n",
       "438505    6840104       N          Y               0       135000.0   \n",
       "438506    6840222       N          N               0       103500.0   \n",
       "438507    6841878       N          N               0        54000.0   \n",
       "438508    6842765       N          Y               0        72000.0   \n",
       "438509    6842885       N          Y               0       121500.0   \n",
       "\n",
       "             income_category             education_category  married  \\\n",
       "0                    Working               Higher education     True   \n",
       "1                    Working               Higher education     True   \n",
       "2                    Working  Secondary / secondary special     True   \n",
       "3       Commercial associate  Secondary / secondary special    False   \n",
       "4       Commercial associate  Secondary / secondary special    False   \n",
       "...                      ...                            ...      ...   \n",
       "438505             Pensioner  Secondary / secondary special    False   \n",
       "438506               Working  Secondary / secondary special    False   \n",
       "438507  Commercial associate               Higher education    False   \n",
       "438508             Pensioner  Secondary / secondary special     True   \n",
       "438509               Working  Secondary / secondary special     True   \n",
       "\n",
       "             living_place  has_mobile_phone  ...  has_phone_number  has_email  \\\n",
       "0        Rented apartment                 1  ...                 0          0   \n",
       "1        Rented apartment                 1  ...                 0          0   \n",
       "2       House / apartment                 1  ...                 0          0   \n",
       "3       House / apartment                 1  ...                 1          1   \n",
       "4       House / apartment                 1  ...                 1          1   \n",
       "...                   ...               ...  ...               ...        ...   \n",
       "438505  House / apartment                 1  ...                 0          0   \n",
       "438506  House / apartment                 1  ...                 0          0   \n",
       "438507       With parents                 1  ...                 0          0   \n",
       "438508  House / apartment                 1  ...                 0          0   \n",
       "438509  House / apartment                 1  ...                 1          0   \n",
       "\n",
       "                   job family_size  age  employed  exp_applicant  Female  \\\n",
       "0              missing         2.0   32      True          False   False   \n",
       "1              missing         2.0   32      True          False   False   \n",
       "2       Security staff         2.0   58      True          False   False   \n",
       "3          Sales staff         1.0   52      True          False    True   \n",
       "4          Sales staff         1.0   52      True          False    True   \n",
       "...                ...         ...  ...       ...            ...     ...   \n",
       "438505         missing         1.0   62     False          False   False   \n",
       "438506        Laborers         1.0   43      True          False    True   \n",
       "438507     Sales staff         1.0   22      True          False    True   \n",
       "438508         missing         2.0   59     False          False    True   \n",
       "438509     Sales staff         2.0   51      True          False    True   \n",
       "\n",
       "         Male  bad_client  \n",
       "0        True       False  \n",
       "1        True       False  \n",
       "2        True       False  \n",
       "3       False       False  \n",
       "4       False       False  \n",
       "...       ...         ...  \n",
       "438505   True         NaN  \n",
       "438506  False         NaN  \n",
       "438507  False         NaN  \n",
       "438508  False         NaN  \n",
       "438509  False         NaN  \n",
       "\n",
       "[438510 rows x 21 columns]"
      ]
     },
     "execution_count": 13,
     "metadata": {},
     "output_type": "execute_result"
    }
   ],
   "source": [
    "merged_dataset = applications.merge(credit_features, on='client_id', how='left')\n",
    "merged_dataset"
   ]
  },
  {
   "cell_type": "code",
   "execution_count": 14,
   "metadata": {},
   "outputs": [
    {
     "data": {
      "text/plain": [
       "<Axes: xlabel='annual_income'>"
      ]
     },
     "execution_count": 14,
     "metadata": {},
     "output_type": "execute_result"
    },
    {
     "data": {
      "image/png": "[encoded data removed]",
      "text/plain": [
       "<Figure size 640x480 with 1 Axes>"
      ]
     },
     "metadata": {},
     "output_type": "display_data"
    }
   ],
   "source": [
    "sns.boxplot(x=applications['annual_income'])"
   ]
  },
  {
   "cell_type": "code",
   "execution_count": 15,
   "metadata": {},
   "outputs": [
    {
     "name": "stdout",
     "output_type": "stream",
     "text": [
      "outliers:  19102\n",
      "total samples:  438510\n"
     ]
    }
   ],
   "source": [
    "low, high = numpy.percentile(merged_dataset['annual_income'], [25, 75])\n",
    "iqr = (high - low)\n",
    "low_fence, high_fence = low - (1.5 * iqr), high + (1.5 * iqr)\n",
    "\n",
    "outliers = merged_dataset.loc[\n",
    "    (merged_dataset[\"annual_income\"] > high_fence) | (merged_dataset['annual_income'] < low_fence)\n",
    "]\n",
    "\n",
    "print('outliers: ', outliers.shape[0])\n",
    "print('total samples: ', len(merged_dataset))\n"
   ]
  },
  {
   "cell_type": "code",
   "execution_count": 16,
   "metadata": {},
   "outputs": [
    {
     "data": {
      "text/plain": [
       "bad_client\n",
       "False    1501\n",
       "True       28\n",
       "Name: count, dtype: int64"
      ]
     },
     "execution_count": 16,
     "metadata": {},
     "output_type": "execute_result"
    }
   ],
   "source": [
    "# percentage of positive classes \n",
    "\n",
    "pos_perc = outliers['bad_client'].value_counts()\n",
    "pos_perc"
   ]
  },
  {
   "cell_type": "markdown",
   "metadata": {},
   "source": [
    "Dropping outliers"
   ]
  },
  {
   "cell_type": "code",
   "execution_count": 17,
   "metadata": {},
   "outputs": [
    {
     "data": {
      "text/plain": [
       "bad_client\n",
       "False    34340\n",
       "True       588\n",
       "Name: count, dtype: int64"
      ]
     },
     "execution_count": 17,
     "metadata": {},
     "output_type": "execute_result"
    }
   ],
   "source": [
    "merged_dataset = merged_dataset.loc[\n",
    "    (merged_dataset['annual_income'] < high_fence) & (merged_dataset['annual_income'] > low_fence)\n",
    "]\n",
    "merged_dataset['bad_client'].value_counts()"
   ]
  },
  {
   "cell_type": "markdown",
   "metadata": {},
   "source": [
    "Preparing dataset"
   ]
  },
  {
   "cell_type": "code",
   "execution_count": 18,
   "metadata": {},
   "outputs": [
    {
     "name": "stderr",
     "output_type": "stream",
     "text": [
      "/var/folders/gy/ny3nd_gs15z0x1xkkb7gfh8w0000gn/T/ipykernel_14874/2245522233.py:13: SettingWithCopyWarning: \n",
      "A value is trying to be set on a copy of a slice from a DataFrame.\n",
      "Try using .loc[row_indexer,col_indexer] = value instead\n",
      "\n",
      "See the caveats in the documentation: https://pandas.pydata.org/pandas-docs/stable/user_guide/indexing.html#returning-a-view-versus-a-copy\n",
      "  dataset[feature] = dataset[feature].map(\n",
      "/var/folders/gy/ny3nd_gs15z0x1xkkb7gfh8w0000gn/T/ipykernel_14874/2245522233.py:13: SettingWithCopyWarning: \n",
      "A value is trying to be set on a copy of a slice from a DataFrame.\n",
      "Try using .loc[row_indexer,col_indexer] = value instead\n",
      "\n",
      "See the caveats in the documentation: https://pandas.pydata.org/pandas-docs/stable/user_guide/indexing.html#returning-a-view-versus-a-copy\n",
      "  dataset[feature] = dataset[feature].map(\n",
      "/var/folders/gy/ny3nd_gs15z0x1xkkb7gfh8w0000gn/T/ipykernel_14874/2245522233.py:13: SettingWithCopyWarning: \n",
      "A value is trying to be set on a copy of a slice from a DataFrame.\n",
      "Try using .loc[row_indexer,col_indexer] = value instead\n",
      "\n",
      "See the caveats in the documentation: https://pandas.pydata.org/pandas-docs/stable/user_guide/indexing.html#returning-a-view-versus-a-copy\n",
      "  dataset[feature] = dataset[feature].map(\n",
      "/var/folders/gy/ny3nd_gs15z0x1xkkb7gfh8w0000gn/T/ipykernel_14874/2245522233.py:13: SettingWithCopyWarning: \n",
      "A value is trying to be set on a copy of a slice from a DataFrame.\n",
      "Try using .loc[row_indexer,col_indexer] = value instead\n",
      "\n",
      "See the caveats in the documentation: https://pandas.pydata.org/pandas-docs/stable/user_guide/indexing.html#returning-a-view-versus-a-copy\n",
      "  dataset[feature] = dataset[feature].map(\n",
      "/var/folders/gy/ny3nd_gs15z0x1xkkb7gfh8w0000gn/T/ipykernel_14874/2245522233.py:13: SettingWithCopyWarning: \n",
      "A value is trying to be set on a copy of a slice from a DataFrame.\n",
      "Try using .loc[row_indexer,col_indexer] = value instead\n",
      "\n",
      "See the caveats in the documentation: https://pandas.pydata.org/pandas-docs/stable/user_guide/indexing.html#returning-a-view-versus-a-copy\n",
      "  dataset[feature] = dataset[feature].map(\n",
      "/var/folders/gy/ny3nd_gs15z0x1xkkb7gfh8w0000gn/T/ipykernel_14874/2245522233.py:13: SettingWithCopyWarning: \n",
      "A value is trying to be set on a copy of a slice from a DataFrame.\n",
      "Try using .loc[row_indexer,col_indexer] = value instead\n",
      "\n",
      "See the caveats in the documentation: https://pandas.pydata.org/pandas-docs/stable/user_guide/indexing.html#returning-a-view-versus-a-copy\n",
      "  dataset[feature] = dataset[feature].map(\n"
     ]
    }
   ],
   "source": [
    "def encode_bool_features(dataset: pandas.DataFrame):\n",
    "    \"\"\"\n",
    "    Function standardizes boolean features to the following format \n",
    "        True: (Y, 1)\n",
    "        False: (N, 0)\n",
    "    Args:\n",
    "        dataset: pandas.DataFrame object, containing boolean features\n",
    "    \"\"\"\n",
    "    bool_features = ['has_car', 'has_realty', 'has_phone_number', 'has_email', 'has_mobile_phone', 'has_work_phone']\n",
    "    if not all(feature in dataset.columns for feature in bool_features): return \n",
    "\n",
    "    for feature in bool_features:\n",
    "        dataset[feature] = dataset[feature].map(\n",
    "            {\n",
    "                'Y': True,\n",
    "                'N': False,\n",
    "                1: True,\n",
    "                0: False\n",
    "            }\n",
    "        )\n",
    "\n",
    "def encode_bad_client_status(dataset: pandas.DataFrame):\n",
    "    \"\"\"\n",
    "    Function encodes bad client status by applying new category called 'missing'\n",
    "    \"\"\"\n",
    "\n",
    "encode_bool_features(merged_dataset)"
   ]
  },
  {
   "cell_type": "markdown",
   "metadata": {},
   "source": [
    "Dataset Splitting (training, testing)"
   ]
  },
  {
   "cell_type": "code",
   "execution_count": 19,
   "metadata": {},
   "outputs": [
    {
     "name": "stdout",
     "output_type": "stream",
     "text": [
      "17114 10479 7335\n"
     ]
    },
    {
     "data": {
      "text/html": [
       "<div>\n",
       "<style scoped>\n",
       "    .dataframe tbody tr th:only-of-type {\n",
       "        vertical-align: middle;\n",
       "    }\n",
       "\n",
       "    .dataframe tbody tr th {\n",
       "        vertical-align: top;\n",
       "    }\n",
       "\n",
       "    .dataframe thead th {\n",
       "        text-align: right;\n",
       "    }\n",
       "</style>\n",
       "<table border=\"1\" class=\"dataframe\">\n",
       "  <thead>\n",
       "    <tr style=\"text-align: right;\">\n",
       "      <th></th>\n",
       "      <th>client_id</th>\n",
       "      <th>has_car</th>\n",
       "      <th>has_realty</th>\n",
       "      <th>total_children</th>\n",
       "      <th>annual_income</th>\n",
       "      <th>income_category</th>\n",
       "      <th>education_category</th>\n",
       "      <th>married</th>\n",
       "      <th>living_place</th>\n",
       "      <th>has_mobile_phone</th>\n",
       "      <th>...</th>\n",
       "      <th>has_phone_number</th>\n",
       "      <th>has_email</th>\n",
       "      <th>job</th>\n",
       "      <th>family_size</th>\n",
       "      <th>age</th>\n",
       "      <th>employed</th>\n",
       "      <th>exp_applicant</th>\n",
       "      <th>Female</th>\n",
       "      <th>Male</th>\n",
       "      <th>bad_client</th>\n",
       "    </tr>\n",
       "  </thead>\n",
       "  <tbody>\n",
       "    <tr>\n",
       "      <th>14764</th>\n",
       "      <td>5041918</td>\n",
       "      <td>False</td>\n",
       "      <td>False</td>\n",
       "      <td>0</td>\n",
       "      <td>99000.0</td>\n",
       "      <td>Commercial associate</td>\n",
       "      <td>Secondary / secondary special</td>\n",
       "      <td>True</td>\n",
       "      <td>House / apartment</td>\n",
       "      <td>True</td>\n",
       "      <td>...</td>\n",
       "      <td>False</td>\n",
       "      <td>False</td>\n",
       "      <td>Laborers</td>\n",
       "      <td>2.0</td>\n",
       "      <td>27</td>\n",
       "      <td>True</td>\n",
       "      <td>False</td>\n",
       "      <td>False</td>\n",
       "      <td>True</td>\n",
       "      <td>False</td>\n",
       "    </tr>\n",
       "    <tr>\n",
       "      <th>34930</th>\n",
       "      <td>5117647</td>\n",
       "      <td>False</td>\n",
       "      <td>False</td>\n",
       "      <td>1</td>\n",
       "      <td>135000.0</td>\n",
       "      <td>Working</td>\n",
       "      <td>Secondary / secondary special</td>\n",
       "      <td>True</td>\n",
       "      <td>House / apartment</td>\n",
       "      <td>True</td>\n",
       "      <td>...</td>\n",
       "      <td>False</td>\n",
       "      <td>False</td>\n",
       "      <td>Security staff</td>\n",
       "      <td>3.0</td>\n",
       "      <td>30</td>\n",
       "      <td>True</td>\n",
       "      <td>False</td>\n",
       "      <td>False</td>\n",
       "      <td>True</td>\n",
       "      <td>False</td>\n",
       "    </tr>\n",
       "    <tr>\n",
       "      <th>15967</th>\n",
       "      <td>5045972</td>\n",
       "      <td>True</td>\n",
       "      <td>False</td>\n",
       "      <td>1</td>\n",
       "      <td>90000.0</td>\n",
       "      <td>Working</td>\n",
       "      <td>Secondary / secondary special</td>\n",
       "      <td>True</td>\n",
       "      <td>With parents</td>\n",
       "      <td>True</td>\n",
       "      <td>...</td>\n",
       "      <td>False</td>\n",
       "      <td>False</td>\n",
       "      <td>Laborers</td>\n",
       "      <td>3.0</td>\n",
       "      <td>24</td>\n",
       "      <td>True</td>\n",
       "      <td>False</td>\n",
       "      <td>False</td>\n",
       "      <td>True</td>\n",
       "      <td>False</td>\n",
       "    </tr>\n",
       "    <tr>\n",
       "      <th>7149</th>\n",
       "      <td>5028293</td>\n",
       "      <td>False</td>\n",
       "      <td>True</td>\n",
       "      <td>0</td>\n",
       "      <td>292500.0</td>\n",
       "      <td>Working</td>\n",
       "      <td>Higher education</td>\n",
       "      <td>False</td>\n",
       "      <td>House / apartment</td>\n",
       "      <td>True</td>\n",
       "      <td>...</td>\n",
       "      <td>True</td>\n",
       "      <td>False</td>\n",
       "      <td>Core staff</td>\n",
       "      <td>1.0</td>\n",
       "      <td>54</td>\n",
       "      <td>True</td>\n",
       "      <td>False</td>\n",
       "      <td>True</td>\n",
       "      <td>False</td>\n",
       "      <td>False</td>\n",
       "    </tr>\n",
       "    <tr>\n",
       "      <th>17304</th>\n",
       "      <td>5050635</td>\n",
       "      <td>False</td>\n",
       "      <td>False</td>\n",
       "      <td>0</td>\n",
       "      <td>225000.0</td>\n",
       "      <td>State servant</td>\n",
       "      <td>Secondary / secondary special</td>\n",
       "      <td>True</td>\n",
       "      <td>House / apartment</td>\n",
       "      <td>True</td>\n",
       "      <td>...</td>\n",
       "      <td>False</td>\n",
       "      <td>False</td>\n",
       "      <td>Managers</td>\n",
       "      <td>2.0</td>\n",
       "      <td>37</td>\n",
       "      <td>True</td>\n",
       "      <td>False</td>\n",
       "      <td>True</td>\n",
       "      <td>False</td>\n",
       "      <td>False</td>\n",
       "    </tr>\n",
       "    <tr>\n",
       "      <th>...</th>\n",
       "      <td>...</td>\n",
       "      <td>...</td>\n",
       "      <td>...</td>\n",
       "      <td>...</td>\n",
       "      <td>...</td>\n",
       "      <td>...</td>\n",
       "      <td>...</td>\n",
       "      <td>...</td>\n",
       "      <td>...</td>\n",
       "      <td>...</td>\n",
       "      <td>...</td>\n",
       "      <td>...</td>\n",
       "      <td>...</td>\n",
       "      <td>...</td>\n",
       "      <td>...</td>\n",
       "      <td>...</td>\n",
       "      <td>...</td>\n",
       "      <td>...</td>\n",
       "      <td>...</td>\n",
       "      <td>...</td>\n",
       "      <td>...</td>\n",
       "    </tr>\n",
       "    <tr>\n",
       "      <th>45319</th>\n",
       "      <td>5136019</td>\n",
       "      <td>True</td>\n",
       "      <td>False</td>\n",
       "      <td>1</td>\n",
       "      <td>351000.0</td>\n",
       "      <td>Commercial associate</td>\n",
       "      <td>Secondary / secondary special</td>\n",
       "      <td>True</td>\n",
       "      <td>House / apartment</td>\n",
       "      <td>True</td>\n",
       "      <td>...</td>\n",
       "      <td>False</td>\n",
       "      <td>False</td>\n",
       "      <td>Private service staff</td>\n",
       "      <td>3.0</td>\n",
       "      <td>44</td>\n",
       "      <td>True</td>\n",
       "      <td>False</td>\n",
       "      <td>False</td>\n",
       "      <td>True</td>\n",
       "      <td>False</td>\n",
       "    </tr>\n",
       "    <tr>\n",
       "      <th>2149</th>\n",
       "      <td>5021288</td>\n",
       "      <td>False</td>\n",
       "      <td>True</td>\n",
       "      <td>2</td>\n",
       "      <td>135000.0</td>\n",
       "      <td>Pensioner</td>\n",
       "      <td>Secondary / secondary special</td>\n",
       "      <td>True</td>\n",
       "      <td>House / apartment</td>\n",
       "      <td>True</td>\n",
       "      <td>...</td>\n",
       "      <td>False</td>\n",
       "      <td>False</td>\n",
       "      <td>missing</td>\n",
       "      <td>4.0</td>\n",
       "      <td>60</td>\n",
       "      <td>False</td>\n",
       "      <td>False</td>\n",
       "      <td>True</td>\n",
       "      <td>False</td>\n",
       "      <td>False</td>\n",
       "    </tr>\n",
       "    <tr>\n",
       "      <th>21094</th>\n",
       "      <td>5062026</td>\n",
       "      <td>False</td>\n",
       "      <td>True</td>\n",
       "      <td>0</td>\n",
       "      <td>139500.0</td>\n",
       "      <td>Commercial associate</td>\n",
       "      <td>Secondary / secondary special</td>\n",
       "      <td>True</td>\n",
       "      <td>House / apartment</td>\n",
       "      <td>True</td>\n",
       "      <td>...</td>\n",
       "      <td>True</td>\n",
       "      <td>False</td>\n",
       "      <td>missing</td>\n",
       "      <td>2.0</td>\n",
       "      <td>56</td>\n",
       "      <td>True</td>\n",
       "      <td>False</td>\n",
       "      <td>True</td>\n",
       "      <td>False</td>\n",
       "      <td>False</td>\n",
       "    </tr>\n",
       "    <tr>\n",
       "      <th>31473</th>\n",
       "      <td>5091857</td>\n",
       "      <td>True</td>\n",
       "      <td>True</td>\n",
       "      <td>0</td>\n",
       "      <td>135000.0</td>\n",
       "      <td>Working</td>\n",
       "      <td>Incomplete higher</td>\n",
       "      <td>True</td>\n",
       "      <td>House / apartment</td>\n",
       "      <td>True</td>\n",
       "      <td>...</td>\n",
       "      <td>False</td>\n",
       "      <td>True</td>\n",
       "      <td>Laborers</td>\n",
       "      <td>2.0</td>\n",
       "      <td>34</td>\n",
       "      <td>True</td>\n",
       "      <td>False</td>\n",
       "      <td>False</td>\n",
       "      <td>True</td>\n",
       "      <td>False</td>\n",
       "    </tr>\n",
       "    <tr>\n",
       "      <th>3649</th>\n",
       "      <td>5023035</td>\n",
       "      <td>False</td>\n",
       "      <td>True</td>\n",
       "      <td>0</td>\n",
       "      <td>112500.0</td>\n",
       "      <td>Working</td>\n",
       "      <td>Secondary / secondary special</td>\n",
       "      <td>True</td>\n",
       "      <td>House / apartment</td>\n",
       "      <td>True</td>\n",
       "      <td>...</td>\n",
       "      <td>False</td>\n",
       "      <td>False</td>\n",
       "      <td>Laborers</td>\n",
       "      <td>2.0</td>\n",
       "      <td>48</td>\n",
       "      <td>True</td>\n",
       "      <td>False</td>\n",
       "      <td>False</td>\n",
       "      <td>True</td>\n",
       "      <td>False</td>\n",
       "    </tr>\n",
       "  </tbody>\n",
       "</table>\n",
       "<p>17114 rows × 21 columns</p>\n",
       "</div>"
      ],
      "text/plain": [
       "       client_id  has_car  has_realty  total_children  annual_income  \\\n",
       "14764    5041918    False       False               0        99000.0   \n",
       "34930    5117647    False       False               1       135000.0   \n",
       "15967    5045972     True       False               1        90000.0   \n",
       "7149     5028293    False        True               0       292500.0   \n",
       "17304    5050635    False       False               0       225000.0   \n",
       "...          ...      ...         ...             ...            ...   \n",
       "45319    5136019     True       False               1       351000.0   \n",
       "2149     5021288    False        True               2       135000.0   \n",
       "21094    5062026    False        True               0       139500.0   \n",
       "31473    5091857     True        True               0       135000.0   \n",
       "3649     5023035    False        True               0       112500.0   \n",
       "\n",
       "            income_category             education_category  married  \\\n",
       "14764  Commercial associate  Secondary / secondary special     True   \n",
       "34930               Working  Secondary / secondary special     True   \n",
       "15967               Working  Secondary / secondary special     True   \n",
       "7149                Working               Higher education    False   \n",
       "17304         State servant  Secondary / secondary special     True   \n",
       "...                     ...                            ...      ...   \n",
       "45319  Commercial associate  Secondary / secondary special     True   \n",
       "2149              Pensioner  Secondary / secondary special     True   \n",
       "21094  Commercial associate  Secondary / secondary special     True   \n",
       "31473               Working              Incomplete higher     True   \n",
       "3649                Working  Secondary / secondary special     True   \n",
       "\n",
       "            living_place  has_mobile_phone  ...  has_phone_number  has_email  \\\n",
       "14764  House / apartment              True  ...             False      False   \n",
       "34930  House / apartment              True  ...             False      False   \n",
       "15967       With parents              True  ...             False      False   \n",
       "7149   House / apartment              True  ...              True      False   \n",
       "17304  House / apartment              True  ...             False      False   \n",
       "...                  ...               ...  ...               ...        ...   \n",
       "45319  House / apartment              True  ...             False      False   \n",
       "2149   House / apartment              True  ...             False      False   \n",
       "21094  House / apartment              True  ...              True      False   \n",
       "31473  House / apartment              True  ...             False       True   \n",
       "3649   House / apartment              True  ...             False      False   \n",
       "\n",
       "                         job family_size  age  employed  exp_applicant  \\\n",
       "14764               Laborers         2.0   27      True          False   \n",
       "34930         Security staff         3.0   30      True          False   \n",
       "15967               Laborers         3.0   24      True          False   \n",
       "7149              Core staff         1.0   54      True          False   \n",
       "17304               Managers         2.0   37      True          False   \n",
       "...                      ...         ...  ...       ...            ...   \n",
       "45319  Private service staff         3.0   44      True          False   \n",
       "2149                 missing         4.0   60     False          False   \n",
       "21094                missing         2.0   56      True          False   \n",
       "31473               Laborers         2.0   34      True          False   \n",
       "3649                Laborers         2.0   48      True          False   \n",
       "\n",
       "       Female   Male  bad_client  \n",
       "14764   False   True       False  \n",
       "34930   False   True       False  \n",
       "15967   False   True       False  \n",
       "7149     True  False       False  \n",
       "17304    True  False       False  \n",
       "...       ...    ...         ...  \n",
       "45319   False   True       False  \n",
       "2149     True  False       False  \n",
       "21094    True  False       False  \n",
       "31473   False   True       False  \n",
       "3649    False   True       False  \n",
       "\n",
       "[17114 rows x 21 columns]"
      ]
     },
     "execution_count": 19,
     "metadata": {},
     "output_type": "execute_result"
    }
   ],
   "source": [
    "from sklearn.model_selection import train_test_split \n",
    "\n",
    "labeled_data = merged_dataset[merged_dataset['bad_client'].notnull()]\n",
    "unlabeled_data = merged_dataset[merged_dataset['bad_client'].isnull()]\n",
    "\n",
    "X_labeled = labeled_data.drop(columns=['bad_client'], inplace=False)\n",
    "Y_labeled = labeled_data['bad_client']\n",
    "\n",
    "\n",
    "x_train, x_test, y_train, y_test = train_test_split(\n",
    "    X_labeled, Y_labeled, stratify=Y_labeled, test_size=0.3, random_state=42\n",
    ")\n",
    "\n",
    "x_train, x_validation, y_train, y_validation = train_test_split(\n",
    "    x_train, y_train, stratify=y_train, test_size=0.3, random_state=42\n",
    ")\n",
    "\n",
    "training_set = pandas.concat([x_train, y_train], axis=1)\n",
    "testing_set = pandas.concat([x_test, y_test], axis=1)\n",
    "validation_set = pandas.concat([x_validation, y_validation], axis=1)\n",
    "\n",
    "print(len(training_set), len(testing_set), len(validation_set))\n",
    "\n",
    "training_set"
   ]
  },
  {
   "cell_type": "markdown",
   "metadata": {},
   "source": [
    "Feature Encoding"
   ]
  },
  {
   "cell_type": "code",
   "execution_count": 20,
   "metadata": {},
   "outputs": [
    {
     "name": "stdout",
     "output_type": "stream",
     "text": [
      "17114 10479\n"
     ]
    },
    {
     "name": "stderr",
     "output_type": "stream",
     "text": [
      "/var/folders/gy/ny3nd_gs15z0x1xkkb7gfh8w0000gn/T/ipykernel_14874/2036045436.py:13: SettingWithCopyWarning: \n",
      "A value is trying to be set on a copy of a slice from a DataFrame.\n",
      "Try using .loc[row_indexer,col_indexer] = value instead\n",
      "\n",
      "See the caveats in the documentation: https://pandas.pydata.org/pandas-docs/stable/user_guide/indexing.html#returning-a-view-versus-a-copy\n",
      "  dataset['job'] = dataset['job'].map(frequencies)\n",
      "/var/folders/gy/ny3nd_gs15z0x1xkkb7gfh8w0000gn/T/ipykernel_14874/2036045436.py:30: SettingWithCopyWarning: \n",
      "A value is trying to be set on a copy of a slice from a DataFrame.\n",
      "Try using .loc[row_indexer,col_indexer] = value instead\n",
      "\n",
      "See the caveats in the documentation: https://pandas.pydata.org/pandas-docs/stable/user_guide/indexing.html#returning-a-view-versus-a-copy\n",
      "  dataset['education_category'] = dataset['education_category'].map({\n",
      "/var/folders/gy/ny3nd_gs15z0x1xkkb7gfh8w0000gn/T/ipykernel_14874/2036045436.py:47: SettingWithCopyWarning: \n",
      "A value is trying to be set on a copy of a slice from a DataFrame.\n",
      "Try using .loc[row_indexer,col_indexer] = value instead\n",
      "\n",
      "See the caveats in the documentation: https://pandas.pydata.org/pandas-docs/stable/user_guide/indexing.html#returning-a-view-versus-a-copy\n",
      "  dataset['education_category'] = encoder.fit_transform(dataset[['education_category']])\n",
      "/var/folders/gy/ny3nd_gs15z0x1xkkb7gfh8w0000gn/T/ipykernel_14874/2036045436.py:66: SettingWithCopyWarning: \n",
      "A value is trying to be set on a copy of a slice from a DataFrame.\n",
      "Try using .loc[row_indexer,col_indexer] = value instead\n",
      "\n",
      "See the caveats in the documentation: https://pandas.pydata.org/pandas-docs/stable/user_guide/indexing.html#returning-a-view-versus-a-copy\n",
      "  dataset['living_place'] = encoder.fit_transform(dataset[['living_place']])\n",
      "/var/folders/gy/ny3nd_gs15z0x1xkkb7gfh8w0000gn/T/ipykernel_14874/2036045436.py:90: SettingWithCopyWarning: \n",
      "A value is trying to be set on a copy of a slice from a DataFrame.\n",
      "Try using .loc[row_indexer,col_indexer] = value instead\n",
      "\n",
      "See the caveats in the documentation: https://pandas.pydata.org/pandas-docs/stable/user_guide/indexing.html#returning-a-view-versus-a-copy\n",
      "  dataset['income_category'] = dataset['income_category'].apply(lambda value: value.replace(\" \", \"_\").lower())\n",
      "/var/folders/gy/ny3nd_gs15z0x1xkkb7gfh8w0000gn/T/ipykernel_14874/2036045436.py:95: SettingWithCopyWarning: \n",
      "A value is trying to be set on a copy of a slice from a DataFrame\n",
      "\n",
      "See the caveats in the documentation: https://pandas.pydata.org/pandas-docs/stable/user_guide/indexing.html#returning-a-view-versus-a-copy\n",
      "  dataset.drop(columns=['income_category'], inplace=True)\n"
     ]
    }
   ],
   "source": [
    "from sklearn.preprocessing import OrdinalEncoder\n",
    "from sklearn.model_selection import StratifiedKFold\n",
    "\n",
    "def encode_job_feature(dataset: pandas.DataFrame):\n",
    "    \"\"\"\n",
    "    Function encodes job feature using Label Encoder\n",
    "\n",
    "    Args:\n",
    "        dataset: pandas.DataFrame object, containing job feature\n",
    "    \"\"\"\n",
    "    if not 'job' in dataset.columns: return \n",
    "    frequencies = dataset['job'].value_counts().to_dict()\n",
    "    dataset['job'] = dataset['job'].map(frequencies)\n",
    "\n",
    "def encode_education_feature(dataset: pandas.DataFrame):\n",
    "    \"\"\"\n",
    "    Function encodes education category feature using Ordinal Encoding \n",
    "\n",
    "    What steps function performs:\n",
    "\n",
    "        1. Cleans and upgrades category labels \n",
    "        2. Selects the right education order (hierarchy) in descending order (Academic Degree, Higher Education, ...)\n",
    "        3. Encodes Categories \n",
    "\n",
    "    Args:\n",
    "        dataset: pandas.DataFrame object, containing education feature\n",
    "    \"\"\"\n",
    "    if not 'education_category' in dataset.columns: return \n",
    "\n",
    "    dataset['education_category'] = dataset['education_category'].map({\n",
    "    'Secondary / secondary special': 'special secondary',\n",
    "    'Incomplete higher': 'incomplete higher education',\n",
    "    'Academic degree': 'academic degree',\n",
    "    'Higher education': 'higher education',\n",
    "    'Lower secondary': 'lower secondary'\n",
    "    })\n",
    "\n",
    "    education_categories = [\n",
    "        \"academic degree\",\n",
    "        \"higher education\",\n",
    "        \"incomplete higher education\",\n",
    "        \"special secondary\",\n",
    "        \"lower secondary\",\n",
    "    ]\n",
    "\n",
    "    encoder = OrdinalEncoder(categories=[education_categories], dtype=numpy.int8)\n",
    "    dataset['education_category'] = encoder.fit_transform(dataset[['education_category']])\n",
    "\n",
    "def encode_living_place_feature(dataset: pandas.DataFrame):\n",
    "    \"\"\"\n",
    "    Function encodes `living place` dataset using Ordinal Encoding \n",
    "    \n",
    "    Args:\n",
    "        dataset: pandas.DataFrame object, containing living_place feature\n",
    "    \"\"\"\n",
    "    if not 'living_place' in dataset.columns: return \n",
    "    living_categories = [\n",
    "        'Co-op apartment',\n",
    "        'Office apartment',\n",
    "        'Municipal apartment',\n",
    "        'Rented apartment', \n",
    "        'House / apartment',\n",
    "        'With parents',\n",
    "    ]\n",
    "    encoder = OrdinalEncoder(dtype=numpy.int8, categories=[living_categories])\n",
    "    dataset['living_place'] = encoder.fit_transform(dataset[['living_place']])\n",
    "\n",
    "\n",
    "def encode_income_category_feature(dataset: pandas.DataFrame):\n",
    "    \"\"\"\n",
    "    Function encodes income category feature using One Hot Encoding\n",
    "\n",
    "    Args:\n",
    "        dataset: pandas.DataFrame object, containing income category feature\n",
    "        \n",
    "    NOTE:\n",
    "        after applying this function, each income category get's prefix 'is_'\n",
    "        \n",
    "        example: \n",
    "            cats = [\"Student\", \"Working\"]\n",
    "            \n",
    "        output:\n",
    "            [\"is_Student\", \"is_Working\"]\n",
    "            \n",
    "    Returns:\n",
    "        updated version of the dataset, containing new values \n",
    "    \"\"\"\n",
    "    if not 'income_category' in dataset.columns: return \n",
    " \n",
    "    dataset['income_category'] = dataset['income_category'].apply(lambda value: value.replace(\" \", \"_\").lower())\n",
    "    \n",
    "    encoded_data = pandas.get_dummies(dataset['income_category'])\n",
    "    encoded_data.columns = [\"is_\"] + encoded_data.columns\n",
    "    \n",
    "    dataset.drop(columns=['income_category'], inplace=True)\n",
    "    \n",
    "    new_dataset = pandas.concat([dataset, encoded_data], axis=1)\n",
    "    return new_dataset\n",
    "\n",
    "\n",
    "def encode_dataset(merged_dataset: pandas.DataFrame):\n",
    "    \"\"\"\n",
    "    Encodes all feature dataset using appropriate\n",
    "    feature encoding techniques \n",
    "    \"\"\"\n",
    "    encode_job_feature(merged_dataset)\n",
    "    encode_education_feature(merged_dataset)\n",
    "    encode_living_place_feature(merged_dataset)\n",
    "    merged_dataset = encode_income_category_feature(merged_dataset)\n",
    "    return merged_dataset\n",
    "\n",
    "print(len(training_set), len(testing_set))\n",
    "\n",
    "training_set = encode_dataset(training_set)\n",
    "testing_set = encode_dataset(testing_set)\n",
    "validation_set = encode_dataset(validation_set)\n",
    "\n",
    "unlabeled_data = encode_dataset(unlabeled_data)"
   ]
  },
  {
   "cell_type": "markdown",
   "metadata": {},
   "source": [
    "Standardization"
   ]
  },
  {
   "cell_type": "code",
   "execution_count": 21,
   "metadata": {},
   "outputs": [],
   "source": [
    "# before training models, we need to make sure, that numeric data falls in the same scales \n",
    "# otherwise some machine learning algorithms might end up having poor prediction ability \n",
    "\n",
    "from sklearn.preprocessing import StandardScaler \n",
    "\n",
    "def get_scaled_dataset(feature_dataset: pandas.DataFrame) -> pandas.DataFrame:\n",
    "    \"\"\"\n",
    "    Function scales numeric features using Standard Scaler \n",
    "    std = 1, mean = 0\n",
    "\n",
    "    Args:\n",
    "        feature_dataset: dataset for scaling\n",
    "        \n",
    "    Returns:\n",
    "        dataset with scaled numeric data\n",
    "    \"\"\"\n",
    "    numeric_features = feature_dataset.select_dtypes(include='number').drop(columns=['client_id'], inplace=False).columns\n",
    "    other_features = feature_dataset.drop(columns=numeric_features, inplace=False).columns\n",
    "\n",
    "    scaler = StandardScaler()\n",
    "    df = pandas.DataFrame(\n",
    "    data=scaler.fit_transform(feature_dataset[numeric_features]), \n",
    "    columns=numeric_features, index=feature_dataset.index)\n",
    "    return pandas.concat([df, feature_dataset[other_features]], axis=1)\n",
    "\n",
    "training_set = get_scaled_dataset(\n",
    "    feature_dataset=training_set\n",
    ")\n",
    "\n",
    "testing_set = get_scaled_dataset(\n",
    "    feature_dataset=testing_set\n",
    ")\n",
    "\n",
    "validation_set = get_scaled_dataset(\n",
    "    feature_dataset=validation_set\n",
    ")\n",
    "unlabeled_data = get_scaled_dataset(\n",
    "    feature_dataset=unlabeled_data\n",
    ")"
   ]
  },
  {
   "cell_type": "markdown",
   "metadata": {},
   "source": [
    "Removing Redundant and Unncessesary Features"
   ]
  },
  {
   "cell_type": "code",
   "execution_count": 22,
   "metadata": {},
   "outputs": [],
   "source": [
    "for dataset in [\n",
    "    training_set, testing_set, validation_set, unlabeled_data\n",
    "]:\n",
    "    dataset.drop(\n",
    "        columns=[\n",
    "            \"client_id\",\n",
    "            \"job\",\n",
    "            'has_work_phone',\n",
    "            'married',\n",
    "            'family_size',\n",
    "            'Male',\n",
    "            'Female',\n",
    "            'has_phone_number',\n",
    "            'has_email'\n",
    "        ], inplace=True\n",
    "    )"
   ]
  },
  {
   "cell_type": "code",
   "execution_count": 23,
   "metadata": {},
   "outputs": [
    {
     "data": {
      "text/plain": [
       "Index(['total_children', 'annual_income', 'education_category', 'living_place',\n",
       "       'age', 'has_car', 'has_realty', 'has_mobile_phone', 'employed',\n",
       "       'exp_applicant', 'bad_client', 'is_commercial_associate',\n",
       "       'is_pensioner', 'is_state_servant', 'is_student', 'is_working'],\n",
       "      dtype='object')"
      ]
     },
     "execution_count": 23,
     "metadata": {},
     "output_type": "execute_result"
    }
   ],
   "source": [
    "training_set.columns"
   ]
  },
  {
   "cell_type": "markdown",
   "metadata": {},
   "source": [
    "Semi Supervised Learning Analysis"
   ]
  },
  {
   "cell_type": "code",
   "execution_count": 24,
   "metadata": {},
   "outputs": [],
   "source": [
    "# Separating data into labeled and unlabeled datasets \n",
    "\n",
    "labeled_data = training_set\n",
    "unlabeled_data = unlabeled_data"
   ]
  },
  {
   "cell_type": "code",
   "execution_count": 25,
   "metadata": {},
   "outputs": [],
   "source": [
    "# Splitting data into training and testing sets on labeled data for estimating Label Propagation Algorithm"
   ]
  },
  {
   "cell_type": "code",
   "execution_count": 26,
   "metadata": {},
   "outputs": [],
   "source": [
    "from sklearn.model_selection import train_test_split \n",
    "Xl_data, Yl_data = labeled_data.drop(columns=['bad_client']), labeled_data['bad_client']\n",
    "\n",
    "X_train, X_test, Y_train, Y_test = train_test_split(Xl_data, Yl_data, stratify=Yl_data, test_size=0.4)\n",
    "\n",
    "# Splitting into training and validation sets \n",
    "\n",
    "training_tuple = (X_train, Y_train.astype(numpy.bool_))\n",
    "test_tuple = (X_test, Y_test.astype(numpy.bool_))"
   ]
  },
  {
   "cell_type": "code",
   "execution_count": 27,
   "metadata": {},
   "outputs": [],
   "source": [
    "# splitting unlabeled data\n",
    "X_unlabeled_data = unlabeled_data.drop(columns=['bad_client'], inplace=False)"
   ]
  },
  {
   "cell_type": "markdown",
   "metadata": {},
   "source": [
    "Semi Supervised Learning (Learning on Labeled Data)"
   ]
  },
  {
   "cell_type": "code",
   "execution_count": 28,
   "metadata": {},
   "outputs": [
    {
     "data": {
      "text/plain": [
       "'             precision    recall  f1-score   support\\n  bad_client       0.89      0.95      0.92     14337\\n  good_client      0.95      0.88      0.91     14336\\n  \\n  accuracy                            0.92     28673\\n  macro avg       0.92      0.92      0.92     28673\\n  weighted avg    0.92      0.92      0.92     28673\\n'"
      ]
     },
     "execution_count": 28,
     "metadata": {},
     "output_type": "execute_result"
    }
   ],
   "source": [
    "from sklearn.semi_supervised import LabelPropagation\n",
    "import sklearn.exceptions, logging\n",
    "from sklearn.metrics import classification_report\n",
    "import typing\n",
    "\n",
    "Logger = logging.getLogger(__name__)\n",
    "\n",
    "prop_params = {\n",
    "    'kernel': 'knn',\n",
    "    'n_neighbors': 4,\n",
    "    'n_jobs': 2,\n",
    "}\n",
    "\n",
    "prop = LabelPropagation(**prop_params)\n",
    "# training classifier propagation using training set \n",
    "prop.fit(training_tuple[0], training_tuple[1])\n",
    "\n",
    "predicted_labels = pandas.DataFrame() \n",
    "\n",
    "def predict_evaluation_set(testing_tuple: typing.Tuple):\n",
    "    \"\"\"\n",
    "    Function predicts target variable (bad_client) based on testing dataset\n",
    "    Method used exceptionally for evaluation purposes to get an Idea of how great \n",
    "    Label Propagation works \n",
    "    \n",
    "    Args:\n",
    "        testing_tuple: \n",
    "            Tuple Object, containg X and Y variables \n",
    "            \n",
    "            testing_tuple[0] - X variables \n",
    "            testing_tuple[1] - Y variable\n",
    "    \"\"\"\n",
    "    try:\n",
    "        probs = numpy.array(prop.predict_proba(testing_tuple[0]))\n",
    "        predicted_labels['value'] = prop.predict(testing_tuple[0])\n",
    "        \n",
    "    except(sklearn.exceptions.NotFittedError) as fit_err:\n",
    "        Logger.debug(\"unlabeled data is invalid. %s\" % fit_err)\n",
    "        raise RuntimeError(\"Failed to label data\")\n",
    "\n",
    "predict_evaluation_set(test_tuple)\n",
    "\n",
    "classification_report(\n",
    "    y_true=test_tuple[1], \n",
    "    y_pred=predicted_labels['value'],\n",
    "    target_names=['bad_client', 'good_client']\n",
    ")\n",
    "\n",
    "\"\"\"             precision    recall  f1-score   support\n",
    "  bad_client       0.89      0.95      0.92     14337\n",
    "  good_client      0.95      0.88      0.91     14336\n",
    "  \n",
    "  accuracy                            0.92     28673\n",
    "  macro avg       0.92      0.92      0.92     28673\n",
    "  weighted avg    0.92      0.92      0.92     28673\n",
    "\"\"\""
   ]
  },
  {
   "cell_type": "markdown",
   "metadata": {},
   "source": [
    "Predicting Labels"
   ]
  },
  {
   "cell_type": "code",
   "execution_count": 29,
   "metadata": {},
   "outputs": [
    {
     "data": {
      "text/plain": [
       "value\n",
       "False    383770\n",
       "True        710\n",
       "Name: count, dtype: int64"
      ]
     },
     "execution_count": 29,
     "metadata": {},
     "output_type": "execute_result"
    }
   ],
   "source": [
    "unlabeled_metrics = pandas.DataFrame()\n",
    "\n",
    "unlabeled_metrics['prob'] = numpy.array(prop.predict_proba(X_unlabeled_data))[:, 1]\n",
    "unlabeled_metrics['value'] = prop.predict(X_unlabeled_data)\n",
    "\n",
    "unlabeled_metrics\n",
    "\n",
    "unlabeled_metrics['value'].value_counts()"
   ]
  },
  {
   "cell_type": "markdown",
   "metadata": {},
   "source": [
    "Setting up missing labels"
   ]
  },
  {
   "cell_type": "code",
   "execution_count": 30,
   "metadata": {},
   "outputs": [
    {
     "name": "stdout",
     "output_type": "stream",
     "text": [
      "total_children             0\n",
      "annual_income              0\n",
      "education_category         0\n",
      "living_place               0\n",
      "age                        0\n",
      "has_car                    0\n",
      "has_realty                 0\n",
      "has_mobile_phone           0\n",
      "employed                   0\n",
      "exp_applicant              0\n",
      "bad_client                 0\n",
      "is_commercial_associate    0\n",
      "is_pensioner               0\n",
      "is_state_servant           0\n",
      "is_student                 0\n",
      "is_working                 0\n",
      "dtype: int64\n",
      "total_children             0\n",
      "annual_income              0\n",
      "education_category         0\n",
      "living_place               0\n",
      "age                        0\n",
      "has_car                    0\n",
      "has_realty                 0\n",
      "has_mobile_phone           0\n",
      "employed                   0\n",
      "exp_applicant              0\n",
      "bad_client                 0\n",
      "is_commercial_associate    0\n",
      "is_pensioner               0\n",
      "is_state_servant           0\n",
      "is_student                 0\n",
      "is_working                 0\n",
      "dtype: int64\n"
     ]
    }
   ],
   "source": [
    "unlabeled_metrics.set_index(unlabeled_data.index, inplace=True)\n",
    "\n",
    "unlabeled_data.loc[:, 'bad_client'] = unlabeled_metrics['value']\n",
    "\n",
    "print(unlabeled_data.isna().sum())\n",
    "print(training_set.isna().sum())"
   ]
  },
  {
   "cell_type": "markdown",
   "metadata": {},
   "source": [
    "Creating new training set (merging labeled data and existing training set)"
   ]
  },
  {
   "cell_type": "code",
   "execution_count": 31,
   "metadata": {},
   "outputs": [],
   "source": [
    "training_set = pandas.concat([training_set, unlabeled_data], axis=0)"
   ]
  },
  {
   "cell_type": "code",
   "execution_count": 32,
   "metadata": {},
   "outputs": [
    {
     "data": {
      "text/plain": [
       "total_children             0\n",
       "annual_income              0\n",
       "education_category         0\n",
       "living_place               0\n",
       "age                        0\n",
       "has_car                    0\n",
       "has_realty                 0\n",
       "has_mobile_phone           0\n",
       "employed                   0\n",
       "exp_applicant              0\n",
       "bad_client                 0\n",
       "is_commercial_associate    0\n",
       "is_pensioner               0\n",
       "is_state_servant           0\n",
       "is_student                 0\n",
       "is_working                 0\n",
       "dtype: int64"
      ]
     },
     "execution_count": 32,
     "metadata": {},
     "output_type": "execute_result"
    }
   ],
   "source": [
    "training_set.isna().sum()"
   ]
  },
  {
   "cell_type": "markdown",
   "metadata": {},
   "source": [
    "Setting Datatypes"
   ]
  },
  {
   "cell_type": "code",
   "execution_count": 33,
   "metadata": {},
   "outputs": [],
   "source": [
    "def set_datatypes(df):\n",
    "    # Numeric Data\n",
    "    df['total_children'] = df['total_children'].astype(numpy.int8)\n",
    "    df['annual_income'] = df['annual_income'].astype(numpy.int64)\n",
    "    df['age'] = df['age'].astype(numpy.int8)\n",
    "\n",
    "    # Boolean Data\n",
    "    df['employed'] = df['employed'].astype(numpy.bool_)\n",
    "    df['exp_applicant'] = df['exp_applicant'].astype(numpy.bool_)\n",
    "\n",
    "    # Categorical Data\n",
    "    df['living_place'] = df['living_place'].astype(numpy.int8)\n",
    "    df['education_category'] = df['education_category'].astype(numpy.int8)\n",
    "\n",
    "set_datatypes(training_set)\n",
    "set_datatypes(testing_set)\n",
    "set_datatypes(validation_set)"
   ]
  },
  {
   "cell_type": "markdown",
   "metadata": {},
   "source": [
    "Class Imbalance Handling"
   ]
  },
  {
   "cell_type": "code",
   "execution_count": 34,
   "metadata": {},
   "outputs": [],
   "source": [
    "# Splitting data\n",
    "\n",
    "from imblearn.over_sampling import SMOTE \n",
    "\n",
    "\n",
    "def balance_dataset(encoded_dataset: pandas.DataFrame):\n",
    "    X_data = encoded_dataset.drop(columns=['bad_client'], inplace=False)\n",
    "    Y_data = encoded_dataset['bad_client'].astype(numpy.bool_)\n",
    "\n",
    "    smote_classifier = SMOTE(k_neighbors=5, random_state=42)\n",
    "    X_sampled, Y_sampled = smote_classifier.fit_resample(X_data, Y_data)\n",
    "    balanced_set = pandas.concat([X_sampled, Y_sampled], axis=1)\n",
    "    return balanced_set \n",
    "\n",
    "\n",
    "training_set = balance_dataset(training_set)"
   ]
  },
  {
   "cell_type": "markdown",
   "metadata": {},
   "source": [
    "Checking Class Imbalance using visualization libraries"
   ]
  },
  {
   "cell_type": "code",
   "execution_count": 35,
   "metadata": {},
   "outputs": [],
   "source": [
    "import seaborn as sns"
   ]
  },
  {
   "cell_type": "code",
   "execution_count": 36,
   "metadata": {},
   "outputs": [
    {
     "data": {
      "text/plain": [
       "<Axes: xlabel='bad_client', ylabel='count'>"
      ]
     },
     "execution_count": 36,
     "metadata": {},
     "output_type": "execute_result"
    },
    {
     "data": {
      "image/png": "[encoded data removed]",
      "text/plain": [
       "<Figure size 640x480 with 1 Axes>"
      ]
     },
     "metadata": {},
     "output_type": "display_data"
    }
   ],
   "source": [
    "sns.countplot(data=training_set, x='bad_client')"
   ]
  },
  {
   "cell_type": "code",
   "execution_count": 37,
   "metadata": {},
   "outputs": [
    {
     "data": {
      "text/plain": [
       "<Axes: xlabel='bad_client', ylabel='count'>"
      ]
     },
     "execution_count": 37,
     "metadata": {},
     "output_type": "execute_result"
    },
    {
     "data": {
      "image/png": "[encoded data removed]",
      "text/plain": [
       "<Figure size 640x480 with 1 Axes>"
      ]
     },
     "metadata": {},
     "output_type": "display_data"
    }
   ],
   "source": [
    "sns.countplot(data=testing_set, x='bad_client')"
   ]
  },
  {
   "cell_type": "code",
   "execution_count": 38,
   "metadata": {
    "scrolled": true
   },
   "outputs": [
    {
     "data": {
      "text/plain": [
       "<Axes: xlabel='bad_client', ylabel='count'>"
      ]
     },
     "execution_count": 38,
     "metadata": {},
     "output_type": "execute_result"
    },
    {
     "data": {
      "image/png": "[encoded data removed]",
      "text/plain": [
       "<Figure size 640x480 with 1 Axes>"
      ]
     },
     "metadata": {},
     "output_type": "display_data"
    }
   ],
   "source": [
    "sns.countplot(data=validation_set, x='bad_client')"
   ]
  },
  {
   "cell_type": "code",
   "execution_count": 39,
   "metadata": {},
   "outputs": [
    {
     "name": "stdout",
     "output_type": "stream",
     "text": [
      "801192 10479 7335\n"
     ]
    }
   ],
   "source": [
    "print(len(training_set), len(testing_set), len(validation_set))"
   ]
  },
  {
   "cell_type": "markdown",
   "metadata": {},
   "source": [
    "Applying stratified sampling to training set"
   ]
  },
  {
   "cell_type": "code",
   "execution_count": 45,
   "metadata": {},
   "outputs": [],
   "source": [
    "X_data, Y_data = training_set.drop(columns=['bad_client'], inplace=False), training_set['bad_client']\n",
    "x_train, _, y_train, _ = train_test_split(X_data, Y_data, stratify=Y_data, test_size=0.8)\n",
    "\n",
    "training_set = pandas.concat([x_train, y_train], axis=1)"
   ]
  },
  {
   "cell_type": "code",
   "execution_count": 46,
   "metadata": {},
   "outputs": [
    {
     "name": "stdout",
     "output_type": "stream",
     "text": [
      "48071 10479 7335\n"
     ]
    }
   ],
   "source": [
    "print(len(training_set), len(testing_set), len(validation_set))"
   ]
  },
  {
   "cell_type": "markdown",
   "metadata": {},
   "source": [
    "Saving new datasets to a CSV Files"
   ]
  },
  {
   "cell_type": "code",
   "execution_count": 42,
   "metadata": {},
   "outputs": [],
   "source": [
    "training_set.to_csv(\"training_set.csv\")\n",
    "testing_set.to_csv('testing_set.csv')\n",
    "validation_set.to_csv(\"validation_set.csv\")"
   ]
  },
  {
   "cell_type": "code",
   "execution_count": null,
   "metadata": {},
   "outputs": [],
   "source": []
  }
 ],
 "metadata": {
  "interpreter": {
   "hash": "8252c0822ef2cc02cb796b0288f75636af74a30098a4c3aaa4f4b3a8d9ec3a9e"
  },
  "kernelspec": {
   "display_name": "Python 3 (ipykernel)",
   "language": "python",
   "name": "python3"
  },
  "language_info": {
   "codemirror_mode": {
    "name": "ipython",
    "version": 3
   },
   "file_extension": ".py",
   "mimetype": "text/x-python",
   "name": "python",
   "nbconvert_exporter": "python",
   "pygments_lexer": "ipython3",
   "version": "3.10.9"
  }
 },
 "nbformat": 4,
 "nbformat_minor": 2
}
