{
 "cells": [
  {
   "cell_type": "markdown",
   "metadata": {},
   "source": [
    "Semi-Supervised Learning for Credit-Card Approval Project"
   ]
  },
  {
   "cell_type": "markdown",
   "metadata": {},
   "source": [
    "Introduction: \n",
    "Dataset, that has been retrieved from remote server has over 90% of unlabeled data and \n",
    "at most 10% respectively. We need to predict labels of bad client for over 460000 samples, based on \n",
    "user personal information, provided. This Notebook prepares the dataset for the potential re-tranining by \n",
    "using semi-supervised learning technique"
   ]
  },
  {
   "cell_type": "code",
   "execution_count": 269,
   "metadata": {},
   "outputs": [],
   "source": [
    "# let's start by loading the dataset \n",
    "import pandas, numpy\n",
    "import seaborn as sns \n",
    "\n",
    "applications = pandas.read_csv(\"application_record.csv\")\n",
    "credit_records = pandas.read_csv(\"credit_record.csv\")"
   ]
  },
  {
   "cell_type": "code",
   "execution_count": 270,
   "metadata": {},
   "outputs": [],
   "source": [
    "# labeling data, presented in the credit records \n",
    "\n",
    "# Relabling Credit Records Dataset\n",
    "\n",
    "CREDIT_MAPPING = {\n",
    "    \"ID\": \"client_id\",\n",
    "    \"STATUS\": \"due_status\",\n",
    "    \"MONTHS_BALANCE\": \"balance_month\"\n",
    "}\n",
    "credit_records.rename(columns=CREDIT_MAPPING, inplace=True)\n",
    "\n",
    "# Relabling Applications Records Dataset\n",
    "APPLICATION_MAPPING = {\n",
    "    \"ID\": \"client_id\",\n",
    "    \"CODE_GENDER\": \"gender\",\n",
    "    \"FLAG_OWN_CAR\": \"has_car\",\n",
    "    \"FLAG_OWN_REALTY\": \"has_realty\",\n",
    "    \"CNT_CHILDREN\": \"total_children\",\n",
    "    \"AMT_INCOME_TOTAL\": \"annual_income\",\n",
    "    \"NAME_INCOME_TYPE\": \"income_category\",\n",
    "    \"NAME_EDUCATION_TYPE\": \"education_category\",\n",
    "    \"NAME_FAMILY_STATUS\": \"family_status\",\n",
    "    \"NAME_HOUSING_TYPE\": \"living_place\",\n",
    "    \"DAYS_BIRTH\": \"birthday\",\n",
    "    \"FLAG_MOBIL\": \"has_mobile_phone\",\n",
    "    \"FLAG_PHONE\": \"has_phone_number\",\n",
    "    \"FLAG_WORK_PHONE\": \"has_work_phone\",\n",
    "    \"FLAG_EMAIL\": \"has_email\",\n",
    "    \"CNT_FAM_MEMBERS\": \"family_size\",\n",
    "    \"OCCUPATION_TYPE\": \"job\",\n",
    "    'DAYS_EMPLOYED': 'days_employed',\n",
    "}\n",
    "\n",
    "applications.rename(columns=APPLICATION_MAPPING, inplace=True)\n"
   ]
  },
  {
   "cell_type": "markdown",
   "metadata": {},
   "source": [
    "Null Values handling (Application Records)"
   ]
  },
  {
   "cell_type": "code",
   "execution_count": 271,
   "metadata": {},
   "outputs": [
    {
     "data": {
      "text/plain": [
       "client_id                  0\n",
       "gender                     0\n",
       "has_car                    0\n",
       "has_realty                 0\n",
       "total_children             0\n",
       "annual_income              0\n",
       "income_category            0\n",
       "education_category         0\n",
       "family_status              0\n",
       "living_place               0\n",
       "birthday                   0\n",
       "days_employed              0\n",
       "has_mobile_phone           0\n",
       "has_work_phone             0\n",
       "has_phone_number           0\n",
       "has_email                  0\n",
       "job                   134203\n",
       "family_size                0\n",
       "dtype: int64"
      ]
     },
     "execution_count": 271,
     "metadata": {},
     "output_type": "execute_result"
    }
   ],
   "source": [
    "applications.isnull().sum()"
   ]
  },
  {
   "cell_type": "code",
   "execution_count": 272,
   "metadata": {},
   "outputs": [],
   "source": [
    "missing_job = 'missing'\n",
    "applications['job'].fillna(value=missing_job, inplace=True)"
   ]
  },
  {
   "cell_type": "markdown",
   "metadata": {},
   "source": [
    "Null Values Handling (Credit Records)"
   ]
  },
  {
   "cell_type": "code",
   "execution_count": 273,
   "metadata": {},
   "outputs": [
    {
     "data": {
      "text/plain": [
       "client_id        0\n",
       "balance_month    0\n",
       "due_status       0\n",
       "dtype: int64"
      ]
     },
     "execution_count": 273,
     "metadata": {},
     "output_type": "execute_result"
    }
   ],
   "source": [
    "credit_records.isna().sum()"
   ]
  },
  {
   "cell_type": "markdown",
   "metadata": {},
   "source": [
    "Handling outliers"
   ]
  },
  {
   "cell_type": "code",
   "execution_count": 274,
   "metadata": {},
   "outputs": [
    {
     "data": {
      "text/plain": [
       "Index(['client_id', 'total_children', 'annual_income', 'birthday',\n",
       "       'days_employed', 'has_mobile_phone', 'has_work_phone',\n",
       "       'has_phone_number', 'has_email', 'family_size'],\n",
       "      dtype='object')"
      ]
     },
     "execution_count": 274,
     "metadata": {},
     "output_type": "execute_result"
    }
   ],
   "source": [
    "numeric_features = applications.select_dtypes(include='number').columns\n",
    "numeric_features"
   ]
  },
  {
   "cell_type": "markdown",
   "metadata": {},
   "source": [
    "Total Children"
   ]
  },
  {
   "cell_type": "code",
   "execution_count": 275,
   "metadata": {},
   "outputs": [
    {
     "data": {
      "text/plain": [
       "<Axes: xlabel='total_children'>"
      ]
     },
     "execution_count": 275,
     "metadata": {},
     "output_type": "execute_result"
    },
    {
     "data": {
      "image/png": "[encoded data removed]",
      "text/plain": [
       "<Figure size 640x480 with 1 Axes>"
      ]
     },
     "metadata": {},
     "output_type": "display_data"
    }
   ],
   "source": [
    "sns.boxplot(x=applications['total_children'])"
   ]
  },
  {
   "cell_type": "code",
   "execution_count": 276,
   "metadata": {},
   "outputs": [
    {
     "name": "stdout",
     "output_type": "stream",
     "text": [
      "outliers:  19108\n",
      "total samples:  438557\n"
     ]
    }
   ],
   "source": [
    "low, high = numpy.percentile(applications['annual_income'], [25, 75])\n",
    "iqr = (high - low)\n",
    "low_fence, high_fence = low - (1.5 * iqr), high + (1.5 * iqr)\n",
    "\n",
    "outliers = applications.loc[\n",
    "    (applications[\"annual_income\"] > high_fence) | (applications['annual_income'] < low_fence)\n",
    "]\n",
    "\n",
    "\n",
    "print('outliers: ', outliers.shape[0])\n",
    "print('total samples: ', len(applications))\n",
    "\n"
   ]
  },
  {
   "cell_type": "markdown",
   "metadata": {},
   "source": [
    "Family Size"
   ]
  },
  {
   "cell_type": "code",
   "execution_count": 277,
   "metadata": {},
   "outputs": [
    {
     "data": {
      "text/plain": [
       "<Axes: xlabel='family_size'>"
      ]
     },
     "execution_count": 277,
     "metadata": {},
     "output_type": "execute_result"
    },
    {
     "data": {
      "image/png": "[encoded data removed]",
      "text/plain": [
       "<Figure size 640x480 with 1 Axes>"
      ]
     },
     "metadata": {},
     "output_type": "display_data"
    }
   ],
   "source": [
    "sns.boxplot(x=applications['family_size'])"
   ]
  },
  {
   "cell_type": "markdown",
   "metadata": {},
   "source": [
    "Feature Engineering"
   ]
  },
  {
   "cell_type": "markdown",
   "metadata": {},
   "source": [
    "Application Record Features"
   ]
  },
  {
   "cell_type": "code",
   "execution_count": 278,
   "metadata": {},
   "outputs": [],
   "source": [
    "import math \n",
    "\n",
    "applications = applications.drop_duplicates(subset=[\"client_id\"], keep='last', inplace=False)\n",
    "\n",
    "applications['age'] = applications['birthday'].apply(lambda day: math.floor(abs(day) / 365))\n",
    "applications['employed'] = applications['days_employed'].apply(lambda days: True if days < 0 else False)\n",
    "\n",
    "dup_clients = applications['client_id'].value_counts().to_frame(\"number_of_apps\").reset_index()\n",
    "applications['exp_applicant'] = numpy.where(dup_clients['number_of_apps'] > 1, True, False)\n",
    "\n",
    "applications.drop(columns=['birthday', 'days_employed'], inplace=True)\n",
    "\n",
    "def create_married_feature(applications: pandas.DataFrame):\n",
    "\n",
    "    non_mar_statuses = set(['Single / not married', 'Separated', 'Widow'])\n",
    "    applications['family_status'] = applications['family_status'].apply(\n",
    "        func=lambda status: True if status not in non_mar_statuses else False\n",
    "    )\n",
    "    return applications.rename(columns={'family_status': 'married'}, inplace=False)\n",
    "\n",
    "\n",
    "def create_gender_feature(applications: pandas.DataFrame):\n",
    "\n",
    "    encoded_data = pandas.get_dummies(\n",
    "        applications['gender']\n",
    "    ).rename(columns={'F': 'Female', 'M': 'Male'})\n",
    "\n",
    "    applications = pandas.concat([applications, encoded_data], axis=1)\n",
    "    applications.drop(columns=['gender'], inplace=True)\n",
    "    return applications\n",
    "\n",
    "applications = create_married_feature(applications)\n",
    "applications = create_gender_feature(applications)"
   ]
  },
  {
   "cell_type": "code",
   "execution_count": 279,
   "metadata": {},
   "outputs": [],
   "source": [
    "# Cleansing credit records dataset \n",
    "DUE_DATATYPES = {\n",
    "    \"0\": 0,\n",
    "    \"1\": 0,\n",
    "    \"2\": 1,\n",
    "    \"3\": 1,\n",
    "    \"4\": 1,\n",
    "    \"5\": 1,\n",
    "    \"X\": 0,\n",
    "    \"C\": 0\n",
    "}\n",
    "credit_records['due_status'] = credit_records['due_status'].map(lambda item: DUE_DATATYPES[item])"
   ]
  },
  {
   "cell_type": "markdown",
   "metadata": {},
   "source": [
    "Credit Record Features"
   ]
  },
  {
   "cell_type": "code",
   "execution_count": 280,
   "metadata": {},
   "outputs": [
    {
     "data": {
      "text/plain": [
       "bad_client\n",
       "False    45318\n",
       "True       667\n",
       "Name: count, dtype: int64"
      ]
     },
     "execution_count": 280,
     "metadata": {},
     "output_type": "execute_result"
    }
   ],
   "source": [
    "# introducing credit records features (bad client status)\n",
    "credit_features = pandas.DataFrame()\n",
    "credit_features['client_id'] = credit_records['client_id'].unique()\n",
    "credit_features['overdues'] = pandas.Series(credit_records.groupby('client_id')['due_status'].sum().to_numpy())\n",
    "credit_features['credit_window'] = numpy.abs(credit_records['balance_month'].min())\n",
    "credit_features['overdue_perc'] = numpy.round(credit_features['overdues'] / credit_features['credit_window'], 2)\n",
    "\n",
    "# annotating bad client status\n",
    "credit_features['bad_client'] = numpy.where(credit_features['overdues'] > 0, True, False)\n",
    "credit_features = credit_features[['client_id', 'bad_client']]\n",
    "\n",
    "credit_features['bad_client'].value_counts()"
   ]
  },
  {
   "cell_type": "markdown",
   "metadata": {},
   "source": [
    "Merging tables together"
   ]
  },
  {
   "cell_type": "code",
   "execution_count": 281,
   "metadata": {},
   "outputs": [
    {
     "data": {
      "text/html": [
       "<div>\n",
       "<style scoped>\n",
       "    .dataframe tbody tr th:only-of-type {\n",
       "        vertical-align: middle;\n",
       "    }\n",
       "\n",
       "    .dataframe tbody tr th {\n",
       "        vertical-align: top;\n",
       "    }\n",
       "\n",
       "    .dataframe thead th {\n",
       "        text-align: right;\n",
       "    }\n",
       "</style>\n",
       "<table border=\"1\" class=\"dataframe\">\n",
       "  <thead>\n",
       "    <tr style=\"text-align: right;\">\n",
       "      <th></th>\n",
       "      <th>client_id</th>\n",
       "      <th>has_car</th>\n",
       "      <th>has_realty</th>\n",
       "      <th>total_children</th>\n",
       "      <th>annual_income</th>\n",
       "      <th>income_category</th>\n",
       "      <th>education_category</th>\n",
       "      <th>married</th>\n",
       "      <th>living_place</th>\n",
       "      <th>has_mobile_phone</th>\n",
       "      <th>...</th>\n",
       "      <th>has_phone_number</th>\n",
       "      <th>has_email</th>\n",
       "      <th>job</th>\n",
       "      <th>family_size</th>\n",
       "      <th>age</th>\n",
       "      <th>employed</th>\n",
       "      <th>exp_applicant</th>\n",
       "      <th>Female</th>\n",
       "      <th>Male</th>\n",
       "      <th>bad_client</th>\n",
       "    </tr>\n",
       "  </thead>\n",
       "  <tbody>\n",
       "    <tr>\n",
       "      <th>0</th>\n",
       "      <td>5008804</td>\n",
       "      <td>Y</td>\n",
       "      <td>Y</td>\n",
       "      <td>0</td>\n",
       "      <td>427500.0</td>\n",
       "      <td>Working</td>\n",
       "      <td>Higher education</td>\n",
       "      <td>True</td>\n",
       "      <td>Rented apartment</td>\n",
       "      <td>1</td>\n",
       "      <td>...</td>\n",
       "      <td>0</td>\n",
       "      <td>0</td>\n",
       "      <td>missing</td>\n",
       "      <td>2.0</td>\n",
       "      <td>32</td>\n",
       "      <td>True</td>\n",
       "      <td>False</td>\n",
       "      <td>False</td>\n",
       "      <td>True</td>\n",
       "      <td>False</td>\n",
       "    </tr>\n",
       "    <tr>\n",
       "      <th>1</th>\n",
       "      <td>5008805</td>\n",
       "      <td>Y</td>\n",
       "      <td>Y</td>\n",
       "      <td>0</td>\n",
       "      <td>427500.0</td>\n",
       "      <td>Working</td>\n",
       "      <td>Higher education</td>\n",
       "      <td>True</td>\n",
       "      <td>Rented apartment</td>\n",
       "      <td>1</td>\n",
       "      <td>...</td>\n",
       "      <td>0</td>\n",
       "      <td>0</td>\n",
       "      <td>missing</td>\n",
       "      <td>2.0</td>\n",
       "      <td>32</td>\n",
       "      <td>True</td>\n",
       "      <td>False</td>\n",
       "      <td>False</td>\n",
       "      <td>True</td>\n",
       "      <td>False</td>\n",
       "    </tr>\n",
       "    <tr>\n",
       "      <th>2</th>\n",
       "      <td>5008806</td>\n",
       "      <td>Y</td>\n",
       "      <td>Y</td>\n",
       "      <td>0</td>\n",
       "      <td>112500.0</td>\n",
       "      <td>Working</td>\n",
       "      <td>Secondary / secondary special</td>\n",
       "      <td>True</td>\n",
       "      <td>House / apartment</td>\n",
       "      <td>1</td>\n",
       "      <td>...</td>\n",
       "      <td>0</td>\n",
       "      <td>0</td>\n",
       "      <td>Security staff</td>\n",
       "      <td>2.0</td>\n",
       "      <td>58</td>\n",
       "      <td>True</td>\n",
       "      <td>False</td>\n",
       "      <td>False</td>\n",
       "      <td>True</td>\n",
       "      <td>False</td>\n",
       "    </tr>\n",
       "    <tr>\n",
       "      <th>3</th>\n",
       "      <td>5008808</td>\n",
       "      <td>N</td>\n",
       "      <td>Y</td>\n",
       "      <td>0</td>\n",
       "      <td>270000.0</td>\n",
       "      <td>Commercial associate</td>\n",
       "      <td>Secondary / secondary special</td>\n",
       "      <td>False</td>\n",
       "      <td>House / apartment</td>\n",
       "      <td>1</td>\n",
       "      <td>...</td>\n",
       "      <td>1</td>\n",
       "      <td>1</td>\n",
       "      <td>Sales staff</td>\n",
       "      <td>1.0</td>\n",
       "      <td>52</td>\n",
       "      <td>True</td>\n",
       "      <td>False</td>\n",
       "      <td>True</td>\n",
       "      <td>False</td>\n",
       "      <td>False</td>\n",
       "    </tr>\n",
       "    <tr>\n",
       "      <th>4</th>\n",
       "      <td>5008809</td>\n",
       "      <td>N</td>\n",
       "      <td>Y</td>\n",
       "      <td>0</td>\n",
       "      <td>270000.0</td>\n",
       "      <td>Commercial associate</td>\n",
       "      <td>Secondary / secondary special</td>\n",
       "      <td>False</td>\n",
       "      <td>House / apartment</td>\n",
       "      <td>1</td>\n",
       "      <td>...</td>\n",
       "      <td>1</td>\n",
       "      <td>1</td>\n",
       "      <td>Sales staff</td>\n",
       "      <td>1.0</td>\n",
       "      <td>52</td>\n",
       "      <td>True</td>\n",
       "      <td>False</td>\n",
       "      <td>True</td>\n",
       "      <td>False</td>\n",
       "      <td>False</td>\n",
       "    </tr>\n",
       "    <tr>\n",
       "      <th>...</th>\n",
       "      <td>...</td>\n",
       "      <td>...</td>\n",
       "      <td>...</td>\n",
       "      <td>...</td>\n",
       "      <td>...</td>\n",
       "      <td>...</td>\n",
       "      <td>...</td>\n",
       "      <td>...</td>\n",
       "      <td>...</td>\n",
       "      <td>...</td>\n",
       "      <td>...</td>\n",
       "      <td>...</td>\n",
       "      <td>...</td>\n",
       "      <td>...</td>\n",
       "      <td>...</td>\n",
       "      <td>...</td>\n",
       "      <td>...</td>\n",
       "      <td>...</td>\n",
       "      <td>...</td>\n",
       "      <td>...</td>\n",
       "      <td>...</td>\n",
       "    </tr>\n",
       "    <tr>\n",
       "      <th>438505</th>\n",
       "      <td>6840104</td>\n",
       "      <td>N</td>\n",
       "      <td>Y</td>\n",
       "      <td>0</td>\n",
       "      <td>135000.0</td>\n",
       "      <td>Pensioner</td>\n",
       "      <td>Secondary / secondary special</td>\n",
       "      <td>False</td>\n",
       "      <td>House / apartment</td>\n",
       "      <td>1</td>\n",
       "      <td>...</td>\n",
       "      <td>0</td>\n",
       "      <td>0</td>\n",
       "      <td>missing</td>\n",
       "      <td>1.0</td>\n",
       "      <td>62</td>\n",
       "      <td>False</td>\n",
       "      <td>False</td>\n",
       "      <td>False</td>\n",
       "      <td>True</td>\n",
       "      <td>NaN</td>\n",
       "    </tr>\n",
       "    <tr>\n",
       "      <th>438506</th>\n",
       "      <td>6840222</td>\n",
       "      <td>N</td>\n",
       "      <td>N</td>\n",
       "      <td>0</td>\n",
       "      <td>103500.0</td>\n",
       "      <td>Working</td>\n",
       "      <td>Secondary / secondary special</td>\n",
       "      <td>False</td>\n",
       "      <td>House / apartment</td>\n",
       "      <td>1</td>\n",
       "      <td>...</td>\n",
       "      <td>0</td>\n",
       "      <td>0</td>\n",
       "      <td>Laborers</td>\n",
       "      <td>1.0</td>\n",
       "      <td>43</td>\n",
       "      <td>True</td>\n",
       "      <td>False</td>\n",
       "      <td>True</td>\n",
       "      <td>False</td>\n",
       "      <td>NaN</td>\n",
       "    </tr>\n",
       "    <tr>\n",
       "      <th>438507</th>\n",
       "      <td>6841878</td>\n",
       "      <td>N</td>\n",
       "      <td>N</td>\n",
       "      <td>0</td>\n",
       "      <td>54000.0</td>\n",
       "      <td>Commercial associate</td>\n",
       "      <td>Higher education</td>\n",
       "      <td>False</td>\n",
       "      <td>With parents</td>\n",
       "      <td>1</td>\n",
       "      <td>...</td>\n",
       "      <td>0</td>\n",
       "      <td>0</td>\n",
       "      <td>Sales staff</td>\n",
       "      <td>1.0</td>\n",
       "      <td>22</td>\n",
       "      <td>True</td>\n",
       "      <td>False</td>\n",
       "      <td>True</td>\n",
       "      <td>False</td>\n",
       "      <td>NaN</td>\n",
       "    </tr>\n",
       "    <tr>\n",
       "      <th>438508</th>\n",
       "      <td>6842765</td>\n",
       "      <td>N</td>\n",
       "      <td>Y</td>\n",
       "      <td>0</td>\n",
       "      <td>72000.0</td>\n",
       "      <td>Pensioner</td>\n",
       "      <td>Secondary / secondary special</td>\n",
       "      <td>True</td>\n",
       "      <td>House / apartment</td>\n",
       "      <td>1</td>\n",
       "      <td>...</td>\n",
       "      <td>0</td>\n",
       "      <td>0</td>\n",
       "      <td>missing</td>\n",
       "      <td>2.0</td>\n",
       "      <td>59</td>\n",
       "      <td>False</td>\n",
       "      <td>False</td>\n",
       "      <td>True</td>\n",
       "      <td>False</td>\n",
       "      <td>NaN</td>\n",
       "    </tr>\n",
       "    <tr>\n",
       "      <th>438509</th>\n",
       "      <td>6842885</td>\n",
       "      <td>N</td>\n",
       "      <td>Y</td>\n",
       "      <td>0</td>\n",
       "      <td>121500.0</td>\n",
       "      <td>Working</td>\n",
       "      <td>Secondary / secondary special</td>\n",
       "      <td>True</td>\n",
       "      <td>House / apartment</td>\n",
       "      <td>1</td>\n",
       "      <td>...</td>\n",
       "      <td>1</td>\n",
       "      <td>0</td>\n",
       "      <td>Sales staff</td>\n",
       "      <td>2.0</td>\n",
       "      <td>51</td>\n",
       "      <td>True</td>\n",
       "      <td>False</td>\n",
       "      <td>True</td>\n",
       "      <td>False</td>\n",
       "      <td>NaN</td>\n",
       "    </tr>\n",
       "  </tbody>\n",
       "</table>\n",
       "<p>438510 rows × 21 columns</p>\n",
       "</div>"
      ],
      "text/plain": [
       "        client_id has_car has_realty  total_children  annual_income  \\\n",
       "0         5008804       Y          Y               0       427500.0   \n",
       "1         5008805       Y          Y               0       427500.0   \n",
       "2         5008806       Y          Y               0       112500.0   \n",
       "3         5008808       N          Y               0       270000.0   \n",
       "4         5008809       N          Y               0       270000.0   \n",
       "...           ...     ...        ...             ...            ...   \n",
       "438505    6840104       N          Y               0       135000.0   \n",
       "438506    6840222       N          N               0       103500.0   \n",
       "438507    6841878       N          N               0        54000.0   \n",
       "438508    6842765       N          Y               0        72000.0   \n",
       "438509    6842885       N          Y               0       121500.0   \n",
       "\n",
       "             income_category             education_category  married  \\\n",
       "0                    Working               Higher education     True   \n",
       "1                    Working               Higher education     True   \n",
       "2                    Working  Secondary / secondary special     True   \n",
       "3       Commercial associate  Secondary / secondary special    False   \n",
       "4       Commercial associate  Secondary / secondary special    False   \n",
       "...                      ...                            ...      ...   \n",
       "438505             Pensioner  Secondary / secondary special    False   \n",
       "438506               Working  Secondary / secondary special    False   \n",
       "438507  Commercial associate               Higher education    False   \n",
       "438508             Pensioner  Secondary / secondary special     True   \n",
       "438509               Working  Secondary / secondary special     True   \n",
       "\n",
       "             living_place  has_mobile_phone  ...  has_phone_number  has_email  \\\n",
       "0        Rented apartment                 1  ...                 0          0   \n",
       "1        Rented apartment                 1  ...                 0          0   \n",
       "2       House / apartment                 1  ...                 0          0   \n",
       "3       House / apartment                 1  ...                 1          1   \n",
       "4       House / apartment                 1  ...                 1          1   \n",
       "...                   ...               ...  ...               ...        ...   \n",
       "438505  House / apartment                 1  ...                 0          0   \n",
       "438506  House / apartment                 1  ...                 0          0   \n",
       "438507       With parents                 1  ...                 0          0   \n",
       "438508  House / apartment                 1  ...                 0          0   \n",
       "438509  House / apartment                 1  ...                 1          0   \n",
       "\n",
       "                   job family_size  age  employed  exp_applicant  Female  \\\n",
       "0              missing         2.0   32      True          False   False   \n",
       "1              missing         2.0   32      True          False   False   \n",
       "2       Security staff         2.0   58      True          False   False   \n",
       "3          Sales staff         1.0   52      True          False    True   \n",
       "4          Sales staff         1.0   52      True          False    True   \n",
       "...                ...         ...  ...       ...            ...     ...   \n",
       "438505         missing         1.0   62     False          False   False   \n",
       "438506        Laborers         1.0   43      True          False    True   \n",
       "438507     Sales staff         1.0   22      True          False    True   \n",
       "438508         missing         2.0   59     False          False    True   \n",
       "438509     Sales staff         2.0   51      True          False    True   \n",
       "\n",
       "         Male  bad_client  \n",
       "0        True       False  \n",
       "1        True       False  \n",
       "2        True       False  \n",
       "3       False       False  \n",
       "4       False       False  \n",
       "...       ...         ...  \n",
       "438505   True         NaN  \n",
       "438506  False         NaN  \n",
       "438507  False         NaN  \n",
       "438508  False         NaN  \n",
       "438509  False         NaN  \n",
       "\n",
       "[438510 rows x 21 columns]"
      ]
     },
     "execution_count": 281,
     "metadata": {},
     "output_type": "execute_result"
    }
   ],
   "source": [
    "merged_dataset = applications.merge(credit_features, on='client_id', how='left')\n",
    "merged_dataset"
   ]
  },
  {
   "cell_type": "code",
   "execution_count": 282,
   "metadata": {},
   "outputs": [
    {
     "data": {
      "text/plain": [
       "<Axes: xlabel='annual_income'>"
      ]
     },
     "execution_count": 282,
     "metadata": {},
     "output_type": "execute_result"
    },
    {
     "data": {
      "image/png": "[encoded data removed]",
      "text/plain": [
       "<Figure size 640x480 with 1 Axes>"
      ]
     },
     "metadata": {},
     "output_type": "display_data"
    }
   ],
   "source": [
    "sns.boxplot(x=applications['annual_income'])"
   ]
  },
  {
   "cell_type": "code",
   "execution_count": 283,
   "metadata": {},
   "outputs": [
    {
     "name": "stdout",
     "output_type": "stream",
     "text": [
      "outliers:  19102\n",
      "total samples:  438510\n"
     ]
    }
   ],
   "source": [
    "low, high = numpy.percentile(merged_dataset['annual_income'], [25, 75])\n",
    "iqr = (high - low)\n",
    "low_fence, high_fence = low - (1.5 * iqr), high + (1.5 * iqr)\n",
    "\n",
    "outliers = merged_dataset.loc[\n",
    "    (merged_dataset[\"annual_income\"] > high_fence) | (merged_dataset['annual_income'] < low_fence)\n",
    "]\n",
    "\n",
    "print('outliers: ', outliers.shape[0])\n",
    "print('total samples: ', len(merged_dataset))\n"
   ]
  },
  {
   "cell_type": "code",
   "execution_count": 284,
   "metadata": {},
   "outputs": [
    {
     "data": {
      "text/plain": [
       "bad_client\n",
       "False    1501\n",
       "True       28\n",
       "Name: count, dtype: int64"
      ]
     },
     "execution_count": 284,
     "metadata": {},
     "output_type": "execute_result"
    }
   ],
   "source": [
    "# percentage of positive classes \n",
    "\n",
    "pos_perc = outliers['bad_client'].value_counts()\n",
    "pos_perc"
   ]
  },
  {
   "cell_type": "markdown",
   "metadata": {},
   "source": [
    "Dropping outliers"
   ]
  },
  {
   "cell_type": "code",
   "execution_count": 285,
   "metadata": {},
   "outputs": [
    {
     "data": {
      "text/plain": [
       "bad_client\n",
       "False    34340\n",
       "True       588\n",
       "Name: count, dtype: int64"
      ]
     },
     "execution_count": 285,
     "metadata": {},
     "output_type": "execute_result"
    }
   ],
   "source": [
    "merged_dataset = merged_dataset.loc[\n",
    "    (merged_dataset['annual_income'] < high_fence) & (merged_dataset['annual_income'] > low_fence)\n",
    "]\n",
    "merged_dataset['bad_client'].value_counts()"
   ]
  },
  {
   "cell_type": "markdown",
   "metadata": {},
   "source": [
    "Preparing dataset"
   ]
  },
  {
   "cell_type": "code",
   "execution_count": 286,
   "metadata": {},
   "outputs": [
    {
     "name": "stderr",
     "output_type": "stream",
     "text": [
      "/var/folders/gy/ny3nd_gs15z0x1xkkb7gfh8w0000gn/T/ipykernel_29455/2245522233.py:13: SettingWithCopyWarning: \n",
      "A value is trying to be set on a copy of a slice from a DataFrame.\n",
      "Try using .loc[row_indexer,col_indexer] = value instead\n",
      "\n",
      "See the caveats in the documentation: https://pandas.pydata.org/pandas-docs/stable/user_guide/indexing.html#returning-a-view-versus-a-copy\n",
      "  dataset[feature] = dataset[feature].map(\n",
      "/var/folders/gy/ny3nd_gs15z0x1xkkb7gfh8w0000gn/T/ipykernel_29455/2245522233.py:13: SettingWithCopyWarning: \n",
      "A value is trying to be set on a copy of a slice from a DataFrame.\n",
      "Try using .loc[row_indexer,col_indexer] = value instead\n",
      "\n",
      "See the caveats in the documentation: https://pandas.pydata.org/pandas-docs/stable/user_guide/indexing.html#returning-a-view-versus-a-copy\n",
      "  dataset[feature] = dataset[feature].map(\n",
      "/var/folders/gy/ny3nd_gs15z0x1xkkb7gfh8w0000gn/T/ipykernel_29455/2245522233.py:13: SettingWithCopyWarning: \n",
      "A value is trying to be set on a copy of a slice from a DataFrame.\n",
      "Try using .loc[row_indexer,col_indexer] = value instead\n",
      "\n",
      "See the caveats in the documentation: https://pandas.pydata.org/pandas-docs/stable/user_guide/indexing.html#returning-a-view-versus-a-copy\n",
      "  dataset[feature] = dataset[feature].map(\n",
      "/var/folders/gy/ny3nd_gs15z0x1xkkb7gfh8w0000gn/T/ipykernel_29455/2245522233.py:13: SettingWithCopyWarning: \n",
      "A value is trying to be set on a copy of a slice from a DataFrame.\n",
      "Try using .loc[row_indexer,col_indexer] = value instead\n",
      "\n",
      "See the caveats in the documentation: https://pandas.pydata.org/pandas-docs/stable/user_guide/indexing.html#returning-a-view-versus-a-copy\n",
      "  dataset[feature] = dataset[feature].map(\n",
      "/var/folders/gy/ny3nd_gs15z0x1xkkb7gfh8w0000gn/T/ipykernel_29455/2245522233.py:13: SettingWithCopyWarning: \n",
      "A value is trying to be set on a copy of a slice from a DataFrame.\n",
      "Try using .loc[row_indexer,col_indexer] = value instead\n",
      "\n",
      "See the caveats in the documentation: https://pandas.pydata.org/pandas-docs/stable/user_guide/indexing.html#returning-a-view-versus-a-copy\n",
      "  dataset[feature] = dataset[feature].map(\n",
      "/var/folders/gy/ny3nd_gs15z0x1xkkb7gfh8w0000gn/T/ipykernel_29455/2245522233.py:13: SettingWithCopyWarning: \n",
      "A value is trying to be set on a copy of a slice from a DataFrame.\n",
      "Try using .loc[row_indexer,col_indexer] = value instead\n",
      "\n",
      "See the caveats in the documentation: https://pandas.pydata.org/pandas-docs/stable/user_guide/indexing.html#returning-a-view-versus-a-copy\n",
      "  dataset[feature] = dataset[feature].map(\n"
     ]
    }
   ],
   "source": [
    "def encode_bool_features(dataset: pandas.DataFrame):\n",
    "    \"\"\"\n",
    "    Function standardizes boolean features to the following format \n",
    "        True: (Y, 1)\n",
    "        False: (N, 0)\n",
    "    Args:\n",
    "        dataset: pandas.DataFrame object, containing boolean features\n",
    "    \"\"\"\n",
    "    bool_features = ['has_car', 'has_realty', 'has_phone_number', 'has_email', 'has_mobile_phone', 'has_work_phone']\n",
    "    if not all(feature in dataset.columns for feature in bool_features): return \n",
    "\n",
    "    for feature in bool_features:\n",
    "        dataset[feature] = dataset[feature].map(\n",
    "            {\n",
    "                'Y': True,\n",
    "                'N': False,\n",
    "                1: True,\n",
    "                0: False\n",
    "            }\n",
    "        )\n",
    "\n",
    "def encode_bad_client_status(dataset: pandas.DataFrame):\n",
    "    \"\"\"\n",
    "    Function encodes bad client status by applying new category called 'missing'\n",
    "    \"\"\"\n",
    "\n",
    "encode_bool_features(merged_dataset)"
   ]
  },
  {
   "cell_type": "markdown",
   "metadata": {},
   "source": [
    "Dataset Splitting (training, testing)"
   ]
  },
  {
   "cell_type": "code",
   "execution_count": 287,
   "metadata": {},
   "outputs": [
    {
     "name": "stdout",
     "output_type": "stream",
     "text": [
      "19210 15718\n"
     ]
    }
   ],
   "source": [
    "from sklearn.model_selection import train_test_split \n",
    "\n",
    "labeled_data = merged_dataset[merged_dataset['bad_client'].notnull()]\n",
    "unlabeled_data = merged_dataset[merged_dataset['bad_client'].isnull()]\n",
    "\n",
    "X_labeled = labeled_data.drop(columns=['bad_client'], inplace=False)\n",
    "Y_labeled = labeled_data['bad_client']\n",
    "\n",
    "\n",
    "x_train, x_test, y_train, y_test = train_test_split(\n",
    "    X_labeled, Y_labeled, stratify=Y_labeled, test_size=0.45, random_state=42\n",
    ")\n",
    "\n",
    "training_set = pandas.concat([x_train, y_train], axis=1)\n",
    "testing_set = pandas.concat([x_test, y_test], axis=1)\n",
    "\n",
    "print(len(training_set), len(testing_set))"
   ]
  },
  {
   "cell_type": "markdown",
   "metadata": {},
   "source": [
    "Removing Redundant and Unncessesary Features"
   ]
  },
  {
   "cell_type": "code",
   "execution_count": 288,
   "metadata": {},
   "outputs": [
    {
     "name": "stderr",
     "output_type": "stream",
     "text": [
      "/var/folders/gy/ny3nd_gs15z0x1xkkb7gfh8w0000gn/T/ipykernel_29455/2452667284.py:4: SettingWithCopyWarning: \n",
      "A value is trying to be set on a copy of a slice from a DataFrame\n",
      "\n",
      "See the caveats in the documentation: https://pandas.pydata.org/pandas-docs/stable/user_guide/indexing.html#returning-a-view-versus-a-copy\n",
      "  dataset.drop(\n"
     ]
    }
   ],
   "source": [
    "for dataset in [\n",
    "    training_set, testing_set, unlabeled_data\n",
    "]:\n",
    "    dataset.drop(\n",
    "        columns=[\n",
    "            \"client_id\",\n",
    "            \"job\",\n",
    "            'has_work_phone',\n",
    "            'married',\n",
    "            'family_size',\n",
    "            'Male',\n",
    "            'Female',\n",
    "            'has_phone_number',\n",
    "            'has_email',\n",
    "            'education_category',\n",
    "            'income_category'\n",
    "        ], inplace=True\n",
    "    )"
   ]
  },
  {
   "cell_type": "markdown",
   "metadata": {},
   "source": [
    "Standardizing data before applying Label Propagation Technique"
   ]
  },
  {
   "cell_type": "code",
   "execution_count": 289,
   "metadata": {},
   "outputs": [],
   "source": [
    "# before training models, we need to make sure, that numeric data falls in the same scales \n",
    "# otherwise some machine learning algorithms might end up having poor prediction ability \n",
    "\n",
    "from sklearn import preprocessing\n",
    "\n",
    "def get_scaled_dataset(feature_dataset: pandas.DataFrame, scaler: preprocessing.StandardScaler=None) -> pandas.DataFrame:\n",
    "    \"\"\"\n",
    "    Function scales numeric features using Standard Scaler \n",
    "    std = 1, mean = 0\n",
    "\n",
    "    Args:\n",
    "        feature_dataset: dataset for scaling\n",
    "        scaler: Optional - pre-trained scaler if available\n",
    "        \n",
    "    Returns:\n",
    "        dataset with scaled numeric data\n",
    "    \"\"\"\n",
    "    numeric_features = feature_dataset.select_dtypes(include='number').columns\n",
    "    other_features = feature_dataset.drop(columns=numeric_features, inplace=False).columns\n",
    "\n",
    "    if scaler is None:\n",
    "        scaler = preprocessing.StandardScaler()\n",
    "        data = scaler.fit_transform(feature_dataset[numeric_features])\n",
    "    else:\n",
    "        data = scaler.transform(feature_dataset[numeric_features])\n",
    "\n",
    "    df = pandas.DataFrame(data=data, columns=numeric_features, index=feature_dataset.index)\n",
    "    \n",
    "    return scaler, pandas.concat([df, feature_dataset[other_features]], axis=1)"
   ]
  },
  {
   "cell_type": "code",
   "execution_count": 290,
   "metadata": {},
   "outputs": [],
   "source": [
    "scaler, training_set = get_scaled_dataset(training_set)\n",
    "\n",
    "_, testing_set = get_scaled_dataset(testing_set, scaler)\n",
    "\n",
    "_, unlabeled_data = get_scaled_dataset(unlabeled_data, scaler)"
   ]
  },
  {
   "cell_type": "markdown",
   "metadata": {},
   "source": [
    "Feature Encoding"
   ]
  },
  {
   "cell_type": "code",
   "execution_count": 291,
   "metadata": {},
   "outputs": [
    {
     "name": "stdout",
     "output_type": "stream",
     "text": [
      "19210 15718\n"
     ]
    }
   ],
   "source": [
    "from sklearn.preprocessing import OrdinalEncoder\n",
    "\n",
    "def encode_living_place_feature(dataset: pandas.DataFrame):\n",
    "    \"\"\"\n",
    "    Function encodes `living place` dataset using Ordinal Encoding \n",
    "    \n",
    "    Args:\n",
    "        dataset: pandas.DataFrame object, containing living_place feature\n",
    "    \"\"\"\n",
    "    if not 'living_place' in dataset.columns: return \n",
    "    living_categories = [\n",
    "        'Co-op apartment',\n",
    "        'Office apartment',\n",
    "        'Municipal apartment',\n",
    "        'Rented apartment', \n",
    "        'House / apartment',\n",
    "        'With parents',\n",
    "    ]\n",
    "    encoder = OrdinalEncoder(dtype=numpy.int8, categories=[living_categories])\n",
    "    dataset['living_place'] = encoder.fit_transform(dataset[['living_place']])\n",
    "\n",
    "\n",
    "def encode_dataset(merged_dataset: pandas.DataFrame):\n",
    "    \"\"\"\n",
    "    Encodes all feature dataset using appropriate\n",
    "    feature encoding techniques \n",
    "    \"\"\"\n",
    "    encode_living_place_feature(merged_dataset)\n",
    "    return merged_dataset\n",
    "\n",
    "print(len(training_set), len(testing_set))\n",
    "\n",
    "training_set = encode_dataset(training_set)\n",
    "testing_set = encode_dataset(testing_set)\n",
    "\n",
    "unlabeled_data = encode_dataset(unlabeled_data)\n"
   ]
  },
  {
   "cell_type": "code",
   "execution_count": 292,
   "metadata": {},
   "outputs": [
    {
     "data": {
      "text/html": [
       "<div>\n",
       "<style scoped>\n",
       "    .dataframe tbody tr th:only-of-type {\n",
       "        vertical-align: middle;\n",
       "    }\n",
       "\n",
       "    .dataframe tbody tr th {\n",
       "        vertical-align: top;\n",
       "    }\n",
       "\n",
       "    .dataframe thead th {\n",
       "        text-align: right;\n",
       "    }\n",
       "</style>\n",
       "<table border=\"1\" class=\"dataframe\">\n",
       "  <thead>\n",
       "    <tr style=\"text-align: right;\">\n",
       "      <th></th>\n",
       "      <th>total_children</th>\n",
       "      <th>annual_income</th>\n",
       "      <th>age</th>\n",
       "      <th>has_car</th>\n",
       "      <th>has_realty</th>\n",
       "      <th>living_place</th>\n",
       "      <th>has_mobile_phone</th>\n",
       "      <th>employed</th>\n",
       "      <th>exp_applicant</th>\n",
       "      <th>bad_client</th>\n",
       "    </tr>\n",
       "  </thead>\n",
       "  <tbody>\n",
       "    <tr>\n",
       "      <th>12</th>\n",
       "      <td>-0.575000</td>\n",
       "      <td>1.371474</td>\n",
       "      <td>0.238968</td>\n",
       "      <td>True</td>\n",
       "      <td>True</td>\n",
       "      <td>4</td>\n",
       "      <td>True</td>\n",
       "      <td>True</td>\n",
       "      <td>False</td>\n",
       "      <td>NaN</td>\n",
       "    </tr>\n",
       "    <tr>\n",
       "      <th>26</th>\n",
       "      <td>0.757418</td>\n",
       "      <td>-0.854214</td>\n",
       "      <td>-1.145872</td>\n",
       "      <td>False</td>\n",
       "      <td>True</td>\n",
       "      <td>4</td>\n",
       "      <td>True</td>\n",
       "      <td>True</td>\n",
       "      <td>False</td>\n",
       "      <td>NaN</td>\n",
       "    </tr>\n",
       "    <tr>\n",
       "      <th>43</th>\n",
       "      <td>-0.575000</td>\n",
       "      <td>-0.854214</td>\n",
       "      <td>1.104492</td>\n",
       "      <td>True</td>\n",
       "      <td>True</td>\n",
       "      <td>4</td>\n",
       "      <td>True</td>\n",
       "      <td>True</td>\n",
       "      <td>False</td>\n",
       "      <td>NaN</td>\n",
       "    </tr>\n",
       "    <tr>\n",
       "      <th>44</th>\n",
       "      <td>-0.575000</td>\n",
       "      <td>-0.854214</td>\n",
       "      <td>1.104492</td>\n",
       "      <td>True</td>\n",
       "      <td>True</td>\n",
       "      <td>4</td>\n",
       "      <td>True</td>\n",
       "      <td>True</td>\n",
       "      <td>False</td>\n",
       "      <td>NaN</td>\n",
       "    </tr>\n",
       "    <tr>\n",
       "      <th>45</th>\n",
       "      <td>-0.575000</td>\n",
       "      <td>-0.854214</td>\n",
       "      <td>1.104492</td>\n",
       "      <td>True</td>\n",
       "      <td>True</td>\n",
       "      <td>4</td>\n",
       "      <td>True</td>\n",
       "      <td>True</td>\n",
       "      <td>False</td>\n",
       "      <td>NaN</td>\n",
       "    </tr>\n",
       "    <tr>\n",
       "      <th>...</th>\n",
       "      <td>...</td>\n",
       "      <td>...</td>\n",
       "      <td>...</td>\n",
       "      <td>...</td>\n",
       "      <td>...</td>\n",
       "      <td>...</td>\n",
       "      <td>...</td>\n",
       "      <td>...</td>\n",
       "      <td>...</td>\n",
       "      <td>...</td>\n",
       "    </tr>\n",
       "    <tr>\n",
       "      <th>438505</th>\n",
       "      <td>-0.575000</td>\n",
       "      <td>-0.536259</td>\n",
       "      <td>1.623807</td>\n",
       "      <td>False</td>\n",
       "      <td>True</td>\n",
       "      <td>4</td>\n",
       "      <td>True</td>\n",
       "      <td>False</td>\n",
       "      <td>False</td>\n",
       "      <td>NaN</td>\n",
       "    </tr>\n",
       "    <tr>\n",
       "      <th>438506</th>\n",
       "      <td>-0.575000</td>\n",
       "      <td>-0.981396</td>\n",
       "      <td>-0.020690</td>\n",
       "      <td>False</td>\n",
       "      <td>False</td>\n",
       "      <td>4</td>\n",
       "      <td>True</td>\n",
       "      <td>True</td>\n",
       "      <td>False</td>\n",
       "      <td>NaN</td>\n",
       "    </tr>\n",
       "    <tr>\n",
       "      <th>438507</th>\n",
       "      <td>-0.575000</td>\n",
       "      <td>-1.680898</td>\n",
       "      <td>-1.838291</td>\n",
       "      <td>False</td>\n",
       "      <td>False</td>\n",
       "      <td>5</td>\n",
       "      <td>True</td>\n",
       "      <td>True</td>\n",
       "      <td>False</td>\n",
       "      <td>NaN</td>\n",
       "    </tr>\n",
       "    <tr>\n",
       "      <th>438508</th>\n",
       "      <td>-0.575000</td>\n",
       "      <td>-1.426534</td>\n",
       "      <td>1.364150</td>\n",
       "      <td>False</td>\n",
       "      <td>True</td>\n",
       "      <td>4</td>\n",
       "      <td>True</td>\n",
       "      <td>False</td>\n",
       "      <td>False</td>\n",
       "      <td>NaN</td>\n",
       "    </tr>\n",
       "    <tr>\n",
       "      <th>438509</th>\n",
       "      <td>-0.575000</td>\n",
       "      <td>-0.727032</td>\n",
       "      <td>0.671730</td>\n",
       "      <td>False</td>\n",
       "      <td>True</td>\n",
       "      <td>4</td>\n",
       "      <td>True</td>\n",
       "      <td>True</td>\n",
       "      <td>False</td>\n",
       "      <td>NaN</td>\n",
       "    </tr>\n",
       "  </tbody>\n",
       "</table>\n",
       "<p>384480 rows × 10 columns</p>\n",
       "</div>"
      ],
      "text/plain": [
       "        total_children  annual_income       age  has_car  has_realty  \\\n",
       "12           -0.575000       1.371474  0.238968     True        True   \n",
       "26            0.757418      -0.854214 -1.145872    False        True   \n",
       "43           -0.575000      -0.854214  1.104492     True        True   \n",
       "44           -0.575000      -0.854214  1.104492     True        True   \n",
       "45           -0.575000      -0.854214  1.104492     True        True   \n",
       "...                ...            ...       ...      ...         ...   \n",
       "438505       -0.575000      -0.536259  1.623807    False        True   \n",
       "438506       -0.575000      -0.981396 -0.020690    False       False   \n",
       "438507       -0.575000      -1.680898 -1.838291    False       False   \n",
       "438508       -0.575000      -1.426534  1.364150    False        True   \n",
       "438509       -0.575000      -0.727032  0.671730    False        True   \n",
       "\n",
       "        living_place  has_mobile_phone  employed  exp_applicant bad_client  \n",
       "12                 4              True      True          False        NaN  \n",
       "26                 4              True      True          False        NaN  \n",
       "43                 4              True      True          False        NaN  \n",
       "44                 4              True      True          False        NaN  \n",
       "45                 4              True      True          False        NaN  \n",
       "...              ...               ...       ...            ...        ...  \n",
       "438505             4              True     False          False        NaN  \n",
       "438506             4              True      True          False        NaN  \n",
       "438507             5              True      True          False        NaN  \n",
       "438508             4              True     False          False        NaN  \n",
       "438509             4              True      True          False        NaN  \n",
       "\n",
       "[384480 rows x 10 columns]"
      ]
     },
     "execution_count": 292,
     "metadata": {},
     "output_type": "execute_result"
    }
   ],
   "source": [
    "unlabeled_data"
   ]
  },
  {
   "cell_type": "markdown",
   "metadata": {},
   "source": [
    "Semi Supervised Learning Analysis"
   ]
  },
  {
   "cell_type": "code",
   "execution_count": 293,
   "metadata": {},
   "outputs": [],
   "source": [
    "# Separating data into labeled and unlabeled datasets \n",
    "\n",
    "labeled_data = training_set\n",
    "unlabeled_data = unlabeled_data"
   ]
  },
  {
   "cell_type": "code",
   "execution_count": 294,
   "metadata": {},
   "outputs": [],
   "source": [
    "from sklearn.model_selection import train_test_split \n",
    "Xl_data, Yl_data = labeled_data.drop(columns=['bad_client']), labeled_data['bad_client']\n",
    "\n",
    "X_train, X_validation, Y_train, Y_validation = train_test_split(Xl_data, Yl_data, stratify=Yl_data, test_size=0.3)\n",
    "\n",
    "# Splitting into training and validation sets \n",
    "\n",
    "training_tuple = (X_train, Y_train.astype(numpy.bool_))\n",
    "validation_tuple = (X_validation, Y_validation.astype(numpy.bool_))\n"
   ]
  },
  {
   "cell_type": "markdown",
   "metadata": {},
   "source": [
    "Appyling Stratified Sampling to Unlabeled Data"
   ]
  },
  {
   "cell_type": "code",
   "execution_count": 295,
   "metadata": {},
   "outputs": [
    {
     "data": {
      "text/plain": [
       "76896"
      ]
     },
     "execution_count": 295,
     "metadata": {},
     "output_type": "execute_result"
    }
   ],
   "source": [
    "# splitting unlabeled data\n",
    "X_unlabeled_data = unlabeled_data.drop(columns=['bad_client'], inplace=False)\n",
    "\n",
    "X_unlabeled_data, _ = train_test_split(X_unlabeled_data, test_size=0.8, random_state=42)\n",
    "\n",
    "len(X_unlabeled_data)"
   ]
  },
  {
   "cell_type": "markdown",
   "metadata": {},
   "source": [
    "Semi Supervised Learning (Tuning Label Propagation Model)"
   ]
  },
  {
   "cell_type": "code",
   "execution_count": 296,
   "metadata": {},
   "outputs": [],
   "source": [
    "# from sklearn.semi_supervised import LabelPropagation\n",
    "# import sklearn.exceptions, logging\n",
    "# from sklearn.model_selection import GridSearchCV, StratifiedKFold\n",
    "\n",
    "\n",
    "# Logger = logging.getLogger(__name__)\n",
    "\n",
    "# prop_params = {\n",
    "#     'kernel': ['rbf', 'knn', 'rbf', 'linear', 'poly', 'sigmoid'],\n",
    "#     'gamma': [0.1, 1, 10],\n",
    "#     'n_neighbors': numpy.arange(start=9, stop=20, step=2).tolist(),\n",
    "# }\n",
    "\n",
    "# prop = LabelPropagation()\n",
    "\n",
    "# new_cvs = GridSearchCV(\n",
    "#     estimator=prop,\n",
    "#     param_grid=prop_params,\n",
    "#     n_jobs=-1,\n",
    "#     cv=StratifiedKFold(n_splits=10)\n",
    "# )\n",
    "\n",
    "# # training classifier propagation using training set \n",
    "# new_cvs.fit(training_tuple[0], training_tuple[1])\n",
    "\n",
    "# prop = new_cvs.best_estimator_\n"
   ]
  },
  {
   "cell_type": "markdown",
   "metadata": {},
   "source": [
    "Evaluating Label Propagation model using validation set"
   ]
  },
  {
   "cell_type": "code",
   "execution_count": 297,
   "metadata": {},
   "outputs": [],
   "source": [
    "# from sklearn.metrics import classification_report\n",
    "\n",
    "# def predict_evaluation_set(X_data):\n",
    "#     \"\"\"\n",
    "#     Function predicts target variable (bad_client) based on testing dataset\n",
    "#     Method used exceptionally for evaluation purposes to get an Idea of how great \n",
    "#     Label Propagation works \n",
    "    \n",
    "#     Args:\n",
    "#         testing_tuple: \n",
    "#             Tuple Object, containg X and Y variables \n",
    "            \n",
    "#             testing_tuple[0] - X variables \n",
    "#             testing_tuple[1] - Y variable\n",
    "#     \"\"\"\n",
    "#     try:\n",
    "#         return prop.predict(X_data)\n",
    "        \n",
    "#     except(sklearn.exceptions.NotFittedError) as fit_err:\n",
    "#         Logger.debug(\"unlabeled data is invalid. %s\" % fit_err)\n",
    "#         raise RuntimeError(\"Failed to label data\")\n",
    "\n",
    "# y_pred = predict_evaluation_set(validation_tuple[0])\n",
    "\n",
    "# classification_report(\n",
    "#     y_true=validation_tuple[1],\n",
    "#     y_pred=y_pred\n",
    "# )"
   ]
  },
  {
   "cell_type": "markdown",
   "metadata": {},
   "source": [
    "Predicting Unlabeled data using optimized Label Propagation Model"
   ]
  },
  {
   "cell_type": "code",
   "execution_count": 298,
   "metadata": {},
   "outputs": [],
   "source": [
    "# unlabeled_metrics = pandas.DataFrame()\n",
    "\n",
    "# unlabeled_metrics['prob'] = numpy.array(prop.predict_proba(X_unlabeled_data))[:, 1]\n",
    "# unlabeled_metrics['value'] = prop.predict(X_unlabeled_data)\n",
    "\n",
    "# unlabeled_metrics\n",
    "\n",
    "# unlabeled_metrics['value'].value_counts()"
   ]
  },
  {
   "cell_type": "markdown",
   "metadata": {},
   "source": [
    "Setting up missing labels"
   ]
  },
  {
   "cell_type": "code",
   "execution_count": 299,
   "metadata": {},
   "outputs": [],
   "source": [
    "# unlabeled_metrics.set_index(unlabeled_data.index, inplace=True)\n",
    "\n",
    "# unlabeled_data.loc[:, 'bad_client'] = unlabeled_metrics['value']"
   ]
  },
  {
   "cell_type": "markdown",
   "metadata": {},
   "source": [
    "Creating new training set (merging labeled data and existing training set)"
   ]
  },
  {
   "cell_type": "code",
   "execution_count": 300,
   "metadata": {},
   "outputs": [
    {
     "data": {
      "text/html": [
       "<div>\n",
       "<style scoped>\n",
       "    .dataframe tbody tr th:only-of-type {\n",
       "        vertical-align: middle;\n",
       "    }\n",
       "\n",
       "    .dataframe tbody tr th {\n",
       "        vertical-align: top;\n",
       "    }\n",
       "\n",
       "    .dataframe thead th {\n",
       "        text-align: right;\n",
       "    }\n",
       "</style>\n",
       "<table border=\"1\" class=\"dataframe\">\n",
       "  <thead>\n",
       "    <tr style=\"text-align: right;\">\n",
       "      <th></th>\n",
       "      <th>total_children</th>\n",
       "      <th>annual_income</th>\n",
       "      <th>age</th>\n",
       "      <th>has_car</th>\n",
       "      <th>has_realty</th>\n",
       "      <th>living_place</th>\n",
       "      <th>has_mobile_phone</th>\n",
       "      <th>employed</th>\n",
       "      <th>exp_applicant</th>\n",
       "      <th>bad_client</th>\n",
       "    </tr>\n",
       "  </thead>\n",
       "  <tbody>\n",
       "    <tr>\n",
       "      <th>39071</th>\n",
       "      <td>0.757418</td>\n",
       "      <td>0.036061</td>\n",
       "      <td>0.152415</td>\n",
       "      <td>False</td>\n",
       "      <td>True</td>\n",
       "      <td>4</td>\n",
       "      <td>True</td>\n",
       "      <td>True</td>\n",
       "      <td>False</td>\n",
       "      <td>False</td>\n",
       "    </tr>\n",
       "    <tr>\n",
       "      <th>22625</th>\n",
       "      <td>0.757418</td>\n",
       "      <td>-0.536259</td>\n",
       "      <td>-0.540004</td>\n",
       "      <td>False</td>\n",
       "      <td>True</td>\n",
       "      <td>4</td>\n",
       "      <td>True</td>\n",
       "      <td>True</td>\n",
       "      <td>False</td>\n",
       "      <td>False</td>\n",
       "    </tr>\n",
       "    <tr>\n",
       "      <th>24349</th>\n",
       "      <td>-0.575000</td>\n",
       "      <td>0.735563</td>\n",
       "      <td>1.796912</td>\n",
       "      <td>False</td>\n",
       "      <td>True</td>\n",
       "      <td>4</td>\n",
       "      <td>True</td>\n",
       "      <td>False</td>\n",
       "      <td>False</td>\n",
       "      <td>False</td>\n",
       "    </tr>\n",
       "    <tr>\n",
       "      <th>37037</th>\n",
       "      <td>-0.575000</td>\n",
       "      <td>-1.490125</td>\n",
       "      <td>1.623807</td>\n",
       "      <td>True</td>\n",
       "      <td>True</td>\n",
       "      <td>4</td>\n",
       "      <td>True</td>\n",
       "      <td>False</td>\n",
       "      <td>False</td>\n",
       "      <td>False</td>\n",
       "    </tr>\n",
       "    <tr>\n",
       "      <th>13149</th>\n",
       "      <td>-0.575000</td>\n",
       "      <td>0.290426</td>\n",
       "      <td>1.191045</td>\n",
       "      <td>False</td>\n",
       "      <td>True</td>\n",
       "      <td>4</td>\n",
       "      <td>True</td>\n",
       "      <td>True</td>\n",
       "      <td>False</td>\n",
       "      <td>False</td>\n",
       "    </tr>\n",
       "    <tr>\n",
       "      <th>...</th>\n",
       "      <td>...</td>\n",
       "      <td>...</td>\n",
       "      <td>...</td>\n",
       "      <td>...</td>\n",
       "      <td>...</td>\n",
       "      <td>...</td>\n",
       "      <td>...</td>\n",
       "      <td>...</td>\n",
       "      <td>...</td>\n",
       "      <td>...</td>\n",
       "    </tr>\n",
       "    <tr>\n",
       "      <th>21392</th>\n",
       "      <td>-0.575000</td>\n",
       "      <td>0.417608</td>\n",
       "      <td>-1.232424</td>\n",
       "      <td>True</td>\n",
       "      <td>True</td>\n",
       "      <td>4</td>\n",
       "      <td>True</td>\n",
       "      <td>True</td>\n",
       "      <td>False</td>\n",
       "      <td>False</td>\n",
       "    </tr>\n",
       "    <tr>\n",
       "      <th>43002</th>\n",
       "      <td>-0.575000</td>\n",
       "      <td>0.417608</td>\n",
       "      <td>0.585178</td>\n",
       "      <td>False</td>\n",
       "      <td>True</td>\n",
       "      <td>4</td>\n",
       "      <td>True</td>\n",
       "      <td>True</td>\n",
       "      <td>False</td>\n",
       "      <td>False</td>\n",
       "    </tr>\n",
       "    <tr>\n",
       "      <th>37436</th>\n",
       "      <td>2.089836</td>\n",
       "      <td>-0.854214</td>\n",
       "      <td>-0.540004</td>\n",
       "      <td>False</td>\n",
       "      <td>True</td>\n",
       "      <td>4</td>\n",
       "      <td>True</td>\n",
       "      <td>True</td>\n",
       "      <td>False</td>\n",
       "      <td>False</td>\n",
       "    </tr>\n",
       "    <tr>\n",
       "      <th>26432</th>\n",
       "      <td>0.757418</td>\n",
       "      <td>-0.154712</td>\n",
       "      <td>-0.799662</td>\n",
       "      <td>False</td>\n",
       "      <td>False</td>\n",
       "      <td>4</td>\n",
       "      <td>True</td>\n",
       "      <td>True</td>\n",
       "      <td>False</td>\n",
       "      <td>False</td>\n",
       "    </tr>\n",
       "    <tr>\n",
       "      <th>14795</th>\n",
       "      <td>-0.575000</td>\n",
       "      <td>-0.218303</td>\n",
       "      <td>1.017940</td>\n",
       "      <td>False</td>\n",
       "      <td>False</td>\n",
       "      <td>4</td>\n",
       "      <td>True</td>\n",
       "      <td>False</td>\n",
       "      <td>False</td>\n",
       "      <td>False</td>\n",
       "    </tr>\n",
       "  </tbody>\n",
       "</table>\n",
       "<p>19210 rows × 10 columns</p>\n",
       "</div>"
      ],
      "text/plain": [
       "       total_children  annual_income       age  has_car  has_realty  \\\n",
       "39071        0.757418       0.036061  0.152415    False        True   \n",
       "22625        0.757418      -0.536259 -0.540004    False        True   \n",
       "24349       -0.575000       0.735563  1.796912    False        True   \n",
       "37037       -0.575000      -1.490125  1.623807     True        True   \n",
       "13149       -0.575000       0.290426  1.191045    False        True   \n",
       "...               ...            ...       ...      ...         ...   \n",
       "21392       -0.575000       0.417608 -1.232424     True        True   \n",
       "43002       -0.575000       0.417608  0.585178    False        True   \n",
       "37436        2.089836      -0.854214 -0.540004    False        True   \n",
       "26432        0.757418      -0.154712 -0.799662    False       False   \n",
       "14795       -0.575000      -0.218303  1.017940    False       False   \n",
       "\n",
       "       living_place  has_mobile_phone  employed  exp_applicant bad_client  \n",
       "39071             4              True      True          False      False  \n",
       "22625             4              True      True          False      False  \n",
       "24349             4              True     False          False      False  \n",
       "37037             4              True     False          False      False  \n",
       "13149             4              True      True          False      False  \n",
       "...             ...               ...       ...            ...        ...  \n",
       "21392             4              True      True          False      False  \n",
       "43002             4              True      True          False      False  \n",
       "37436             4              True      True          False      False  \n",
       "26432             4              True      True          False      False  \n",
       "14795             4              True     False          False      False  \n",
       "\n",
       "[19210 rows x 10 columns]"
      ]
     },
     "execution_count": 300,
     "metadata": {},
     "output_type": "execute_result"
    }
   ],
   "source": [
    "# training_set = pandas.concat([training_set, unlabeled_data], axis=0)\n",
    "training_set "
   ]
  },
  {
   "cell_type": "markdown",
   "metadata": {},
   "source": [
    "Datatypes Assigning"
   ]
  },
  {
   "cell_type": "code",
   "execution_count": 301,
   "metadata": {},
   "outputs": [],
   "source": [
    "def set_datatypes(df):\n",
    "    # Numeric Data\n",
    "    df['total_children'] = df['total_children'].astype(numpy.int8)\n",
    "    df['annual_income'] = df['annual_income'].astype(numpy.int64)\n",
    "    df['age'] = df['age'].astype(numpy.int8)\n",
    "\n",
    "    # Boolean Data\n",
    "    df['employed'] = df['employed'].astype(numpy.bool_)\n",
    "    df['exp_applicant'] = df['exp_applicant'].astype(numpy.bool_)\n",
    "\n",
    "    # Categorical Data\n",
    "    df['living_place'] = df['living_place'].astype(numpy.int8)\n",
    "    df['bad_client'] = df['bad_client'].astype(numpy.bool_)\n",
    "\n",
    "set_datatypes(training_set)\n",
    "set_datatypes(testing_set)"
   ]
  },
  {
   "cell_type": "code",
   "execution_count": 302,
   "metadata": {},
   "outputs": [
    {
     "data": {
      "text/plain": [
       "total_children      0\n",
       "annual_income       0\n",
       "age                 0\n",
       "has_car             0\n",
       "has_realty          0\n",
       "living_place        0\n",
       "has_mobile_phone    0\n",
       "employed            0\n",
       "exp_applicant       0\n",
       "bad_client          0\n",
       "dtype: int64"
      ]
     },
     "execution_count": 302,
     "metadata": {},
     "output_type": "execute_result"
    }
   ],
   "source": [
    "training_set.isna().sum()"
   ]
  },
  {
   "cell_type": "markdown",
   "metadata": {},
   "source": [
    "Class Imbalance Fix"
   ]
  },
  {
   "cell_type": "code",
   "execution_count": 303,
   "metadata": {},
   "outputs": [],
   "source": [
    "from imblearn.over_sampling import SMOTE \n",
    "\n",
    "x_data, y_data = training_set.drop(columns=['bad_client']), training_set['bad_client']\n",
    "\n",
    "def balance_dataset(X_data: pandas.DataFrame, Y_data: pandas.Series):\n",
    "    \"\"\"\n",
    "    Function uses SMOTE (Sensitivity Class Over Sampling Technique) to address class imbalance issue\n",
    "    \n",
    "    Args:\n",
    "        X_data: pandas.DataFrame object containing independent features\n",
    "        Y_data: pandas.Series object representing target variable\n",
    "    \"\"\"\n",
    "    encoder = SMOTE(k_neighbors=5, random_state=42)\n",
    "    x_res, y_res = encoder.fit_resample(X=X_data, y=Y_data)\n",
    "    return pandas.concat([x_res, y_res], axis=1)\n",
    "\n",
    "\n",
    "training_set = balance_dataset(X_data=x_data, Y_data=y_data)"
   ]
  },
  {
   "cell_type": "markdown",
   "metadata": {},
   "source": [
    "Checking balance"
   ]
  },
  {
   "cell_type": "code",
   "execution_count": 304,
   "metadata": {},
   "outputs": [
    {
     "data": {
      "text/plain": [
       "<Axes: xlabel='bad_client', ylabel='count'>"
      ]
     },
     "execution_count": 304,
     "metadata": {},
     "output_type": "execute_result"
    },
    {
     "data": {
      "image/png": "[encoded data removed]",
      "text/plain": [
       "<Figure size 640x480 with 1 Axes>"
      ]
     },
     "metadata": {},
     "output_type": "display_data"
    }
   ],
   "source": [
    "sns.countplot(data=training_set, x='bad_client')"
   ]
  },
  {
   "cell_type": "markdown",
   "metadata": {},
   "source": [
    "Splitting training set using Stratified Sampling"
   ]
  },
  {
   "cell_type": "code",
   "execution_count": 305,
   "metadata": {},
   "outputs": [],
   "source": [
    "# X_train, Y_train = training_set.drop(columns=['bad_client']), training_set['bad_client']\n",
    "\n",
    "# x_train, _, y_train, _ = train_test_split(\n",
    "#         X_train, Y_train, \n",
    "#         test_size=0.7, stratify=Y_train, \n",
    "#         random_state=42,\n",
    "# )\n",
    "\n",
    "# training_set = pandas.concat([x_train, y_train], axis=1)"
   ]
  },
  {
   "cell_type": "code",
   "execution_count": 306,
   "metadata": {},
   "outputs": [
    {
     "data": {
      "text/plain": [
       "bad_client\n",
       "False    18887\n",
       "True     18887\n",
       "Name: count, dtype: int64"
      ]
     },
     "execution_count": 306,
     "metadata": {},
     "output_type": "execute_result"
    }
   ],
   "source": [
    "training_set['bad_client'].value_counts()"
   ]
  },
  {
   "cell_type": "code",
   "execution_count": 307,
   "metadata": {},
   "outputs": [
    {
     "data": {
      "text/plain": [
       "bad_client\n",
       "False    15453\n",
       "True       265\n",
       "Name: count, dtype: int64"
      ]
     },
     "execution_count": 307,
     "metadata": {},
     "output_type": "execute_result"
    }
   ],
   "source": [
    "testing_set['bad_client'].value_counts()"
   ]
  },
  {
   "cell_type": "code",
   "execution_count": 308,
   "metadata": {},
   "outputs": [
    {
     "name": "stdout",
     "output_type": "stream",
     "text": [
      "37774 15718\n"
     ]
    }
   ],
   "source": [
    "print(len(training_set), len(testing_set))"
   ]
  },
  {
   "cell_type": "markdown",
   "metadata": {},
   "source": [
    "Saving new datasets to a CSV Files"
   ]
  },
  {
   "cell_type": "code",
   "execution_count": 309,
   "metadata": {},
   "outputs": [],
   "source": [
    "training_set.to_csv(\"training_set.csv\")\n",
    "testing_set.to_csv('testing_set.csv')"
   ]
  }
 ],
 "metadata": {
  "interpreter": {
   "hash": "8252c0822ef2cc02cb796b0288f75636af74a30098a4c3aaa4f4b3a8d9ec3a9e"
  },
  "kernelspec": {
   "display_name": "Python 3 (ipykernel)",
   "language": "python",
   "name": "python3"
  },
  "language_info": {
   "codemirror_mode": {
    "name": "ipython",
    "version": 3
   },
   "file_extension": ".py",
   "mimetype": "text/x-python",
   "name": "python",
   "nbconvert_exporter": "python",
   "pygments_lexer": "ipython3",
   "version": "3.10.9"
  }
 },
 "nbformat": 4,
 "nbformat_minor": 2
}
