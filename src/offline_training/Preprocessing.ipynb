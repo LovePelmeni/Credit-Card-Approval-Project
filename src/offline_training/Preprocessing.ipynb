{
 "cells": [
  {
   "cell_type": "markdown",
   "metadata": {},
   "source": [
    "Data Preprocessing Analysis for Credit Card Approval Project"
   ]
  },
  {
   "cell_type": "markdown",
   "metadata": {},
   "source": [
    "This Notebook applies "
   ]
  },
  {
   "cell_type": "code",
   "execution_count": 200,
   "metadata": {},
   "outputs": [],
   "source": [
    "# let's start by loading the dataset \n",
    "import pandas, numpy\n",
    "import seaborn as sns \n",
    "\n",
    "applications = pandas.read_csv(\"application_record.csv\")\n",
    "credit_records = pandas.read_csv(\"credit_record.csv\")"
   ]
  },
  {
   "cell_type": "code",
   "execution_count": 201,
   "metadata": {},
   "outputs": [
    {
     "data": {
      "text/html": [
       "<div>\n",
       "<style scoped>\n",
       "    .dataframe tbody tr th:only-of-type {\n",
       "        vertical-align: middle;\n",
       "    }\n",
       "\n",
       "    .dataframe tbody tr th {\n",
       "        vertical-align: top;\n",
       "    }\n",
       "\n",
       "    .dataframe thead th {\n",
       "        text-align: right;\n",
       "    }\n",
       "</style>\n",
       "<table border=\"1\" class=\"dataframe\">\n",
       "  <thead>\n",
       "    <tr style=\"text-align: right;\">\n",
       "      <th></th>\n",
       "      <th>ID</th>\n",
       "      <th>CODE_GENDER</th>\n",
       "      <th>FLAG_OWN_CAR</th>\n",
       "      <th>FLAG_OWN_REALTY</th>\n",
       "      <th>CNT_CHILDREN</th>\n",
       "      <th>AMT_INCOME_TOTAL</th>\n",
       "      <th>NAME_INCOME_TYPE</th>\n",
       "      <th>NAME_EDUCATION_TYPE</th>\n",
       "      <th>NAME_FAMILY_STATUS</th>\n",
       "      <th>NAME_HOUSING_TYPE</th>\n",
       "      <th>DAYS_BIRTH</th>\n",
       "      <th>DAYS_EMPLOYED</th>\n",
       "      <th>FLAG_MOBIL</th>\n",
       "      <th>FLAG_WORK_PHONE</th>\n",
       "      <th>FLAG_PHONE</th>\n",
       "      <th>FLAG_EMAIL</th>\n",
       "      <th>OCCUPATION_TYPE</th>\n",
       "      <th>CNT_FAM_MEMBERS</th>\n",
       "    </tr>\n",
       "  </thead>\n",
       "  <tbody>\n",
       "    <tr>\n",
       "      <th>0</th>\n",
       "      <td>5008804</td>\n",
       "      <td>M</td>\n",
       "      <td>Y</td>\n",
       "      <td>Y</td>\n",
       "      <td>0</td>\n",
       "      <td>427500.0</td>\n",
       "      <td>Working</td>\n",
       "      <td>Higher education</td>\n",
       "      <td>Civil marriage</td>\n",
       "      <td>Rented apartment</td>\n",
       "      <td>-12005</td>\n",
       "      <td>-4542</td>\n",
       "      <td>1</td>\n",
       "      <td>1</td>\n",
       "      <td>0</td>\n",
       "      <td>0</td>\n",
       "      <td>NaN</td>\n",
       "      <td>2.0</td>\n",
       "    </tr>\n",
       "    <tr>\n",
       "      <th>1</th>\n",
       "      <td>5008805</td>\n",
       "      <td>M</td>\n",
       "      <td>Y</td>\n",
       "      <td>Y</td>\n",
       "      <td>0</td>\n",
       "      <td>427500.0</td>\n",
       "      <td>Working</td>\n",
       "      <td>Higher education</td>\n",
       "      <td>Civil marriage</td>\n",
       "      <td>Rented apartment</td>\n",
       "      <td>-12005</td>\n",
       "      <td>-4542</td>\n",
       "      <td>1</td>\n",
       "      <td>1</td>\n",
       "      <td>0</td>\n",
       "      <td>0</td>\n",
       "      <td>NaN</td>\n",
       "      <td>2.0</td>\n",
       "    </tr>\n",
       "    <tr>\n",
       "      <th>2</th>\n",
       "      <td>5008806</td>\n",
       "      <td>M</td>\n",
       "      <td>Y</td>\n",
       "      <td>Y</td>\n",
       "      <td>0</td>\n",
       "      <td>112500.0</td>\n",
       "      <td>Working</td>\n",
       "      <td>Secondary / secondary special</td>\n",
       "      <td>Married</td>\n",
       "      <td>House / apartment</td>\n",
       "      <td>-21474</td>\n",
       "      <td>-1134</td>\n",
       "      <td>1</td>\n",
       "      <td>0</td>\n",
       "      <td>0</td>\n",
       "      <td>0</td>\n",
       "      <td>Security staff</td>\n",
       "      <td>2.0</td>\n",
       "    </tr>\n",
       "    <tr>\n",
       "      <th>3</th>\n",
       "      <td>5008808</td>\n",
       "      <td>F</td>\n",
       "      <td>N</td>\n",
       "      <td>Y</td>\n",
       "      <td>0</td>\n",
       "      <td>270000.0</td>\n",
       "      <td>Commercial associate</td>\n",
       "      <td>Secondary / secondary special</td>\n",
       "      <td>Single / not married</td>\n",
       "      <td>House / apartment</td>\n",
       "      <td>-19110</td>\n",
       "      <td>-3051</td>\n",
       "      <td>1</td>\n",
       "      <td>0</td>\n",
       "      <td>1</td>\n",
       "      <td>1</td>\n",
       "      <td>Sales staff</td>\n",
       "      <td>1.0</td>\n",
       "    </tr>\n",
       "    <tr>\n",
       "      <th>4</th>\n",
       "      <td>5008809</td>\n",
       "      <td>F</td>\n",
       "      <td>N</td>\n",
       "      <td>Y</td>\n",
       "      <td>0</td>\n",
       "      <td>270000.0</td>\n",
       "      <td>Commercial associate</td>\n",
       "      <td>Secondary / secondary special</td>\n",
       "      <td>Single / not married</td>\n",
       "      <td>House / apartment</td>\n",
       "      <td>-19110</td>\n",
       "      <td>-3051</td>\n",
       "      <td>1</td>\n",
       "      <td>0</td>\n",
       "      <td>1</td>\n",
       "      <td>1</td>\n",
       "      <td>Sales staff</td>\n",
       "      <td>1.0</td>\n",
       "    </tr>\n",
       "    <tr>\n",
       "      <th>...</th>\n",
       "      <td>...</td>\n",
       "      <td>...</td>\n",
       "      <td>...</td>\n",
       "      <td>...</td>\n",
       "      <td>...</td>\n",
       "      <td>...</td>\n",
       "      <td>...</td>\n",
       "      <td>...</td>\n",
       "      <td>...</td>\n",
       "      <td>...</td>\n",
       "      <td>...</td>\n",
       "      <td>...</td>\n",
       "      <td>...</td>\n",
       "      <td>...</td>\n",
       "      <td>...</td>\n",
       "      <td>...</td>\n",
       "      <td>...</td>\n",
       "      <td>...</td>\n",
       "    </tr>\n",
       "    <tr>\n",
       "      <th>438552</th>\n",
       "      <td>6840104</td>\n",
       "      <td>M</td>\n",
       "      <td>N</td>\n",
       "      <td>Y</td>\n",
       "      <td>0</td>\n",
       "      <td>135000.0</td>\n",
       "      <td>Pensioner</td>\n",
       "      <td>Secondary / secondary special</td>\n",
       "      <td>Separated</td>\n",
       "      <td>House / apartment</td>\n",
       "      <td>-22717</td>\n",
       "      <td>365243</td>\n",
       "      <td>1</td>\n",
       "      <td>0</td>\n",
       "      <td>0</td>\n",
       "      <td>0</td>\n",
       "      <td>NaN</td>\n",
       "      <td>1.0</td>\n",
       "    </tr>\n",
       "    <tr>\n",
       "      <th>438553</th>\n",
       "      <td>6840222</td>\n",
       "      <td>F</td>\n",
       "      <td>N</td>\n",
       "      <td>N</td>\n",
       "      <td>0</td>\n",
       "      <td>103500.0</td>\n",
       "      <td>Working</td>\n",
       "      <td>Secondary / secondary special</td>\n",
       "      <td>Single / not married</td>\n",
       "      <td>House / apartment</td>\n",
       "      <td>-15939</td>\n",
       "      <td>-3007</td>\n",
       "      <td>1</td>\n",
       "      <td>0</td>\n",
       "      <td>0</td>\n",
       "      <td>0</td>\n",
       "      <td>Laborers</td>\n",
       "      <td>1.0</td>\n",
       "    </tr>\n",
       "    <tr>\n",
       "      <th>438554</th>\n",
       "      <td>6841878</td>\n",
       "      <td>F</td>\n",
       "      <td>N</td>\n",
       "      <td>N</td>\n",
       "      <td>0</td>\n",
       "      <td>54000.0</td>\n",
       "      <td>Commercial associate</td>\n",
       "      <td>Higher education</td>\n",
       "      <td>Single / not married</td>\n",
       "      <td>With parents</td>\n",
       "      <td>-8169</td>\n",
       "      <td>-372</td>\n",
       "      <td>1</td>\n",
       "      <td>1</td>\n",
       "      <td>0</td>\n",
       "      <td>0</td>\n",
       "      <td>Sales staff</td>\n",
       "      <td>1.0</td>\n",
       "    </tr>\n",
       "    <tr>\n",
       "      <th>438555</th>\n",
       "      <td>6842765</td>\n",
       "      <td>F</td>\n",
       "      <td>N</td>\n",
       "      <td>Y</td>\n",
       "      <td>0</td>\n",
       "      <td>72000.0</td>\n",
       "      <td>Pensioner</td>\n",
       "      <td>Secondary / secondary special</td>\n",
       "      <td>Married</td>\n",
       "      <td>House / apartment</td>\n",
       "      <td>-21673</td>\n",
       "      <td>365243</td>\n",
       "      <td>1</td>\n",
       "      <td>0</td>\n",
       "      <td>0</td>\n",
       "      <td>0</td>\n",
       "      <td>NaN</td>\n",
       "      <td>2.0</td>\n",
       "    </tr>\n",
       "    <tr>\n",
       "      <th>438556</th>\n",
       "      <td>6842885</td>\n",
       "      <td>F</td>\n",
       "      <td>N</td>\n",
       "      <td>Y</td>\n",
       "      <td>0</td>\n",
       "      <td>121500.0</td>\n",
       "      <td>Working</td>\n",
       "      <td>Secondary / secondary special</td>\n",
       "      <td>Married</td>\n",
       "      <td>House / apartment</td>\n",
       "      <td>-18858</td>\n",
       "      <td>-1201</td>\n",
       "      <td>1</td>\n",
       "      <td>0</td>\n",
       "      <td>1</td>\n",
       "      <td>0</td>\n",
       "      <td>Sales staff</td>\n",
       "      <td>2.0</td>\n",
       "    </tr>\n",
       "  </tbody>\n",
       "</table>\n",
       "<p>438557 rows × 18 columns</p>\n",
       "</div>"
      ],
      "text/plain": [
       "             ID CODE_GENDER FLAG_OWN_CAR FLAG_OWN_REALTY  CNT_CHILDREN  \\\n",
       "0       5008804           M            Y               Y             0   \n",
       "1       5008805           M            Y               Y             0   \n",
       "2       5008806           M            Y               Y             0   \n",
       "3       5008808           F            N               Y             0   \n",
       "4       5008809           F            N               Y             0   \n",
       "...         ...         ...          ...             ...           ...   \n",
       "438552  6840104           M            N               Y             0   \n",
       "438553  6840222           F            N               N             0   \n",
       "438554  6841878           F            N               N             0   \n",
       "438555  6842765           F            N               Y             0   \n",
       "438556  6842885           F            N               Y             0   \n",
       "\n",
       "        AMT_INCOME_TOTAL      NAME_INCOME_TYPE            NAME_EDUCATION_TYPE  \\\n",
       "0               427500.0               Working               Higher education   \n",
       "1               427500.0               Working               Higher education   \n",
       "2               112500.0               Working  Secondary / secondary special   \n",
       "3               270000.0  Commercial associate  Secondary / secondary special   \n",
       "4               270000.0  Commercial associate  Secondary / secondary special   \n",
       "...                  ...                   ...                            ...   \n",
       "438552          135000.0             Pensioner  Secondary / secondary special   \n",
       "438553          103500.0               Working  Secondary / secondary special   \n",
       "438554           54000.0  Commercial associate               Higher education   \n",
       "438555           72000.0             Pensioner  Secondary / secondary special   \n",
       "438556          121500.0               Working  Secondary / secondary special   \n",
       "\n",
       "          NAME_FAMILY_STATUS  NAME_HOUSING_TYPE  DAYS_BIRTH  DAYS_EMPLOYED  \\\n",
       "0             Civil marriage   Rented apartment      -12005          -4542   \n",
       "1             Civil marriage   Rented apartment      -12005          -4542   \n",
       "2                    Married  House / apartment      -21474          -1134   \n",
       "3       Single / not married  House / apartment      -19110          -3051   \n",
       "4       Single / not married  House / apartment      -19110          -3051   \n",
       "...                      ...                ...         ...            ...   \n",
       "438552             Separated  House / apartment      -22717         365243   \n",
       "438553  Single / not married  House / apartment      -15939          -3007   \n",
       "438554  Single / not married       With parents       -8169           -372   \n",
       "438555               Married  House / apartment      -21673         365243   \n",
       "438556               Married  House / apartment      -18858          -1201   \n",
       "\n",
       "        FLAG_MOBIL  FLAG_WORK_PHONE  FLAG_PHONE  FLAG_EMAIL OCCUPATION_TYPE  \\\n",
       "0                1                1           0           0             NaN   \n",
       "1                1                1           0           0             NaN   \n",
       "2                1                0           0           0  Security staff   \n",
       "3                1                0           1           1     Sales staff   \n",
       "4                1                0           1           1     Sales staff   \n",
       "...            ...              ...         ...         ...             ...   \n",
       "438552           1                0           0           0             NaN   \n",
       "438553           1                0           0           0        Laborers   \n",
       "438554           1                1           0           0     Sales staff   \n",
       "438555           1                0           0           0             NaN   \n",
       "438556           1                0           1           0     Sales staff   \n",
       "\n",
       "        CNT_FAM_MEMBERS  \n",
       "0                   2.0  \n",
       "1                   2.0  \n",
       "2                   2.0  \n",
       "3                   1.0  \n",
       "4                   1.0  \n",
       "...                 ...  \n",
       "438552              1.0  \n",
       "438553              1.0  \n",
       "438554              1.0  \n",
       "438555              2.0  \n",
       "438556              2.0  \n",
       "\n",
       "[438557 rows x 18 columns]"
      ]
     },
     "execution_count": 201,
     "metadata": {},
     "output_type": "execute_result"
    }
   ],
   "source": [
    "applications"
   ]
  },
  {
   "cell_type": "code",
   "execution_count": 202,
   "metadata": {},
   "outputs": [
    {
     "data": {
      "text/html": [
       "<div>\n",
       "<style scoped>\n",
       "    .dataframe tbody tr th:only-of-type {\n",
       "        vertical-align: middle;\n",
       "    }\n",
       "\n",
       "    .dataframe tbody tr th {\n",
       "        vertical-align: top;\n",
       "    }\n",
       "\n",
       "    .dataframe thead th {\n",
       "        text-align: right;\n",
       "    }\n",
       "</style>\n",
       "<table border=\"1\" class=\"dataframe\">\n",
       "  <thead>\n",
       "    <tr style=\"text-align: right;\">\n",
       "      <th></th>\n",
       "      <th>ID</th>\n",
       "      <th>MONTHS_BALANCE</th>\n",
       "      <th>STATUS</th>\n",
       "    </tr>\n",
       "  </thead>\n",
       "  <tbody>\n",
       "    <tr>\n",
       "      <th>0</th>\n",
       "      <td>5001711</td>\n",
       "      <td>0</td>\n",
       "      <td>X</td>\n",
       "    </tr>\n",
       "    <tr>\n",
       "      <th>1</th>\n",
       "      <td>5001711</td>\n",
       "      <td>-1</td>\n",
       "      <td>0</td>\n",
       "    </tr>\n",
       "    <tr>\n",
       "      <th>2</th>\n",
       "      <td>5001711</td>\n",
       "      <td>-2</td>\n",
       "      <td>0</td>\n",
       "    </tr>\n",
       "    <tr>\n",
       "      <th>3</th>\n",
       "      <td>5001711</td>\n",
       "      <td>-3</td>\n",
       "      <td>0</td>\n",
       "    </tr>\n",
       "    <tr>\n",
       "      <th>4</th>\n",
       "      <td>5001712</td>\n",
       "      <td>0</td>\n",
       "      <td>C</td>\n",
       "    </tr>\n",
       "    <tr>\n",
       "      <th>...</th>\n",
       "      <td>...</td>\n",
       "      <td>...</td>\n",
       "      <td>...</td>\n",
       "    </tr>\n",
       "    <tr>\n",
       "      <th>1048570</th>\n",
       "      <td>5150487</td>\n",
       "      <td>-25</td>\n",
       "      <td>C</td>\n",
       "    </tr>\n",
       "    <tr>\n",
       "      <th>1048571</th>\n",
       "      <td>5150487</td>\n",
       "      <td>-26</td>\n",
       "      <td>C</td>\n",
       "    </tr>\n",
       "    <tr>\n",
       "      <th>1048572</th>\n",
       "      <td>5150487</td>\n",
       "      <td>-27</td>\n",
       "      <td>C</td>\n",
       "    </tr>\n",
       "    <tr>\n",
       "      <th>1048573</th>\n",
       "      <td>5150487</td>\n",
       "      <td>-28</td>\n",
       "      <td>C</td>\n",
       "    </tr>\n",
       "    <tr>\n",
       "      <th>1048574</th>\n",
       "      <td>5150487</td>\n",
       "      <td>-29</td>\n",
       "      <td>C</td>\n",
       "    </tr>\n",
       "  </tbody>\n",
       "</table>\n",
       "<p>1048575 rows × 3 columns</p>\n",
       "</div>"
      ],
      "text/plain": [
       "              ID  MONTHS_BALANCE STATUS\n",
       "0        5001711               0      X\n",
       "1        5001711              -1      0\n",
       "2        5001711              -2      0\n",
       "3        5001711              -3      0\n",
       "4        5001712               0      C\n",
       "...          ...             ...    ...\n",
       "1048570  5150487             -25      C\n",
       "1048571  5150487             -26      C\n",
       "1048572  5150487             -27      C\n",
       "1048573  5150487             -28      C\n",
       "1048574  5150487             -29      C\n",
       "\n",
       "[1048575 rows x 3 columns]"
      ]
     },
     "execution_count": 202,
     "metadata": {},
     "output_type": "execute_result"
    }
   ],
   "source": [
    "credit_records"
   ]
  },
  {
   "cell_type": "markdown",
   "metadata": {},
   "source": [
    "Renaming fields"
   ]
  },
  {
   "cell_type": "code",
   "execution_count": 203,
   "metadata": {},
   "outputs": [],
   "source": [
    "# labeling data, presented in the credit records \n",
    "\n",
    "# Relabling Credit Records Dataset\n",
    "\n",
    "CREDIT_MAPPING = {\n",
    "    \"ID\": \"client_id\",\n",
    "    \"STATUS\": \"due_status\",\n",
    "    \"MONTHS_BALANCE\": \"balance_month\"\n",
    "}\n",
    "credit_records.rename(columns=CREDIT_MAPPING, inplace=True)\n",
    "\n",
    "# Relabling Applications Records Dataset\n",
    "APPLICATION_MAPPING = {\n",
    "    \"ID\": \"client_id\",\n",
    "    \"CODE_GENDER\": \"gender\",\n",
    "    \"FLAG_OWN_CAR\": \"has_car\",\n",
    "    \"FLAG_OWN_REALTY\": \"has_realty\",\n",
    "    \"CNT_CHILDREN\": \"total_children\",\n",
    "    \"AMT_INCOME_TOTAL\": \"annual_income\",\n",
    "    \"NAME_INCOME_TYPE\": \"income_category\",\n",
    "    \"NAME_EDUCATION_TYPE\": \"education_category\",\n",
    "    \"NAME_FAMILY_STATUS\": \"family_status\",\n",
    "    \"NAME_HOUSING_TYPE\": \"living_place\",\n",
    "    \"DAYS_BIRTH\": \"birthday\",\n",
    "    \"FLAG_MOBIL\": \"has_mobile_phone\",\n",
    "    \"FLAG_PHONE\": \"has_phone_number\",\n",
    "    \"FLAG_WORK_PHONE\": \"has_work_phone\",\n",
    "    \"FLAG_EMAIL\": \"has_email\",\n",
    "    \"CNT_FAM_MEMBERS\": \"family_size\",\n",
    "    \"OCCUPATION_TYPE\": \"job\",\n",
    "    'DAYS_EMPLOYED': 'days_employed',\n",
    "}\n",
    "\n",
    "applications.rename(columns=APPLICATION_MAPPING, inplace=True)\n"
   ]
  },
  {
   "cell_type": "markdown",
   "metadata": {},
   "source": [
    "Null Values handling (Application Records)"
   ]
  },
  {
   "cell_type": "code",
   "execution_count": 204,
   "metadata": {},
   "outputs": [
    {
     "data": {
      "text/plain": [
       "client_id                  0\n",
       "gender                     0\n",
       "has_car                    0\n",
       "has_realty                 0\n",
       "total_children             0\n",
       "annual_income              0\n",
       "income_category            0\n",
       "education_category         0\n",
       "family_status              0\n",
       "living_place               0\n",
       "birthday                   0\n",
       "days_employed              0\n",
       "has_mobile_phone           0\n",
       "has_work_phone             0\n",
       "has_phone_number           0\n",
       "has_email                  0\n",
       "job                   134203\n",
       "family_size                0\n",
       "dtype: int64"
      ]
     },
     "execution_count": 204,
     "metadata": {},
     "output_type": "execute_result"
    }
   ],
   "source": [
    "applications.isnull().sum()"
   ]
  },
  {
   "cell_type": "code",
   "execution_count": 205,
   "metadata": {},
   "outputs": [
    {
     "data": {
      "text/plain": [
       "0.31"
      ]
     },
     "execution_count": 205,
     "metadata": {},
     "output_type": "execute_result"
    }
   ],
   "source": [
    "round(len(applications[applications['job'].isna()]) / len(applications), 2)"
   ]
  },
  {
   "cell_type": "markdown",
   "metadata": {},
   "source": [
    "Imputing Job Feature"
   ]
  },
  {
   "cell_type": "code",
   "execution_count": 206,
   "metadata": {},
   "outputs": [],
   "source": [
    "missing_job = 'missing'\n",
    "applications['job'].fillna(value=missing_job, inplace=True)"
   ]
  },
  {
   "cell_type": "markdown",
   "metadata": {},
   "source": [
    "Null Values Handling (Credit Records)"
   ]
  },
  {
   "cell_type": "code",
   "execution_count": 207,
   "metadata": {},
   "outputs": [
    {
     "data": {
      "text/plain": [
       "client_id        0\n",
       "balance_month    0\n",
       "due_status       0\n",
       "dtype: int64"
      ]
     },
     "execution_count": 207,
     "metadata": {},
     "output_type": "execute_result"
    }
   ],
   "source": [
    "credit_records.isna().sum()"
   ]
  },
  {
   "cell_type": "markdown",
   "metadata": {},
   "source": [
    "Handling outliers"
   ]
  },
  {
   "cell_type": "code",
   "execution_count": 208,
   "metadata": {},
   "outputs": [
    {
     "data": {
      "text/plain": [
       "Index(['client_id', 'total_children', 'annual_income', 'birthday',\n",
       "       'days_employed', 'has_mobile_phone', 'has_work_phone',\n",
       "       'has_phone_number', 'has_email', 'family_size'],\n",
       "      dtype='object')"
      ]
     },
     "execution_count": 208,
     "metadata": {},
     "output_type": "execute_result"
    }
   ],
   "source": [
    "numeric_features = applications.select_dtypes(include='number').columns\n",
    "numeric_features"
   ]
  },
  {
   "cell_type": "markdown",
   "metadata": {},
   "source": [
    "Total Children"
   ]
  },
  {
   "cell_type": "code",
   "execution_count": 209,
   "metadata": {},
   "outputs": [
    {
     "data": {
      "text/plain": [
       "<Axes: xlabel='total_children'>"
      ]
     },
     "execution_count": 209,
     "metadata": {},
     "output_type": "execute_result"
    },
    {
     "data": {
      "image/png": "[encoded data removed]",
      "text/plain": [
       "<Figure size 640x480 with 1 Axes>"
      ]
     },
     "metadata": {},
     "output_type": "display_data"
    }
   ],
   "source": [
    "sns.boxplot(x=applications['total_children'])"
   ]
  },
  {
   "cell_type": "code",
   "execution_count": 210,
   "metadata": {},
   "outputs": [
    {
     "name": "stdout",
     "output_type": "stream",
     "text": [
      "outliers:  19108\n",
      "total samples:  438557\n"
     ]
    }
   ],
   "source": [
    "low, high = numpy.percentile(applications['annual_income'], [25, 75])\n",
    "iqr = (high - low)\n",
    "low_fence, high_fence = low - (1.5 * iqr), high + (1.5 * iqr)\n",
    "\n",
    "outliers = applications.loc[\n",
    "    (applications[\"annual_income\"] > high_fence) | (applications['annual_income'] < low_fence)\n",
    "]\n",
    "\n",
    "\n",
    "print('outliers: ', outliers.shape[0])\n",
    "print('total samples: ', len(applications))\n",
    "\n"
   ]
  },
  {
   "cell_type": "markdown",
   "metadata": {},
   "source": [
    "Family Size"
   ]
  },
  {
   "cell_type": "code",
   "execution_count": 211,
   "metadata": {},
   "outputs": [
    {
     "data": {
      "text/plain": [
       "<Axes: xlabel='family_size'>"
      ]
     },
     "execution_count": 211,
     "metadata": {},
     "output_type": "execute_result"
    },
    {
     "data": {
      "image/png": "[encoded data removed]",
      "text/plain": [
       "<Figure size 640x480 with 1 Axes>"
      ]
     },
     "metadata": {},
     "output_type": "display_data"
    }
   ],
   "source": [
    "sns.boxplot(x=applications['family_size'])"
   ]
  },
  {
   "cell_type": "markdown",
   "metadata": {},
   "source": [
    "Feature Engineering"
   ]
  },
  {
   "cell_type": "markdown",
   "metadata": {},
   "source": [
    "Application Record Features"
   ]
  },
  {
   "cell_type": "code",
   "execution_count": 212,
   "metadata": {},
   "outputs": [
    {
     "name": "stderr",
     "output_type": "stream",
     "text": [
      "/var/folders/gy/ny3nd_gs15z0x1xkkb7gfh8w0000gn/T/ipykernel_8646/2332671203.py:5: SettingWithCopyWarning: \n",
      "A value is trying to be set on a copy of a slice from a DataFrame.\n",
      "Try using .loc[row_indexer,col_indexer] = value instead\n",
      "\n",
      "See the caveats in the documentation: https://pandas.pydata.org/pandas-docs/stable/user_guide/indexing.html#returning-a-view-versus-a-copy\n",
      "  applications['age'] = applications['birthday'].apply(lambda day: math.floor(abs(day) / 365))\n",
      "/var/folders/gy/ny3nd_gs15z0x1xkkb7gfh8w0000gn/T/ipykernel_8646/2332671203.py:7: SettingWithCopyWarning: \n",
      "A value is trying to be set on a copy of a slice from a DataFrame.\n",
      "Try using .loc[row_indexer,col_indexer] = value instead\n",
      "\n",
      "See the caveats in the documentation: https://pandas.pydata.org/pandas-docs/stable/user_guide/indexing.html#returning-a-view-versus-a-copy\n",
      "  applications['working_years'] = applications['days_employed'].apply(lambda days: math.floor(abs(days) // 365))\n",
      "/var/folders/gy/ny3nd_gs15z0x1xkkb7gfh8w0000gn/T/ipykernel_8646/2332671203.py:9: SettingWithCopyWarning: \n",
      "A value is trying to be set on a copy of a slice from a DataFrame.\n",
      "Try using .loc[row_indexer,col_indexer] = value instead\n",
      "\n",
      "See the caveats in the documentation: https://pandas.pydata.org/pandas-docs/stable/user_guide/indexing.html#returning-a-view-versus-a-copy\n",
      "  applications['employed'] = applications['days_employed'].apply(lambda days: True if days < 0 else False)\n",
      "/var/folders/gy/ny3nd_gs15z0x1xkkb7gfh8w0000gn/T/ipykernel_8646/2332671203.py:11: SettingWithCopyWarning: \n",
      "A value is trying to be set on a copy of a slice from a DataFrame.\n",
      "Try using .loc[row_indexer,col_indexer] = value instead\n",
      "\n",
      "See the caveats in the documentation: https://pandas.pydata.org/pandas-docs/stable/user_guide/indexing.html#returning-a-view-versus-a-copy\n",
      "  applications['emp_stability'] = applications['working_years'].apply(lambda years: True if years > 5 else False)\n",
      "/var/folders/gy/ny3nd_gs15z0x1xkkb7gfh8w0000gn/T/ipykernel_8646/2332671203.py:13: SettingWithCopyWarning: \n",
      "A value is trying to be set on a copy of a slice from a DataFrame.\n",
      "Try using .loc[row_indexer,col_indexer] = value instead\n",
      "\n",
      "See the caveats in the documentation: https://pandas.pydata.org/pandas-docs/stable/user_guide/indexing.html#returning-a-view-versus-a-copy\n",
      "  applications['has_children'] = applications['total_children'].apply(lambda children: True if children > 0 else False)\n",
      "/var/folders/gy/ny3nd_gs15z0x1xkkb7gfh8w0000gn/T/ipykernel_8646/2332671203.py:15: SettingWithCopyWarning: \n",
      "A value is trying to be set on a copy of a slice from a DataFrame.\n",
      "Try using .loc[row_indexer,col_indexer] = value instead\n",
      "\n",
      "See the caveats in the documentation: https://pandas.pydata.org/pandas-docs/stable/user_guide/indexing.html#returning-a-view-versus-a-copy\n",
      "  applications['owns_realty_and_car'] = numpy.where(\n",
      "/var/folders/gy/ny3nd_gs15z0x1xkkb7gfh8w0000gn/T/ipykernel_8646/2332671203.py:19: SettingWithCopyWarning: \n",
      "A value is trying to be set on a copy of a slice from a DataFrame.\n",
      "Try using .loc[row_indexer,col_indexer] = value instead\n",
      "\n",
      "See the caveats in the documentation: https://pandas.pydata.org/pandas-docs/stable/user_guide/indexing.html#returning-a-view-versus-a-copy\n",
      "  applications['has_contact_information'] = numpy.where(\n"
     ]
    }
   ],
   "source": [
    "import math \n",
    "\n",
    "applications = applications.drop_duplicates(subset=[\"client_id\"], keep='last', inplace=False)\n",
    "\n",
    "applications['age'] = applications['birthday'].apply(lambda day: math.floor(abs(day) / 365))\n",
    "\n",
    "applications['working_years'] = applications['days_employed'].apply(lambda days: math.floor(abs(days) // 365))\n",
    "\n",
    "applications['employed'] = applications['days_employed'].apply(lambda days: True if days < 0 else False)\n",
    "\n",
    "applications['emp_stability'] = applications['working_years'].apply(lambda years: True if years > 5 else False)\n",
    "\n",
    "applications['has_children'] = applications['total_children'].apply(lambda children: True if children > 0 else False)\n",
    "\n",
    "applications['owns_realty_and_car'] = numpy.where( \n",
    "    (applications['has_car'] == 'Y') & (applications['has_realty'] == 'Y'), True, False\n",
    ")\n",
    "\n",
    "applications['has_contact_information'] = numpy.where(\n",
    "    (\n",
    "        applications['has_email'] == 1\n",
    "    ) \n",
    "    | (\n",
    "        applications['has_phone_number'] == 1\n",
    "    )\n",
    "    | (\n",
    "        applications['has_work_phone'] == 1\n",
    "    ), True, False\n",
    ")"
   ]
  },
  {
   "cell_type": "markdown",
   "metadata": {},
   "source": [
    "Processing Credit Records dataset"
   ]
  },
  {
   "cell_type": "code",
   "execution_count": 213,
   "metadata": {},
   "outputs": [
    {
     "data": {
      "text/html": [
       "<div>\n",
       "<style scoped>\n",
       "    .dataframe tbody tr th:only-of-type {\n",
       "        vertical-align: middle;\n",
       "    }\n",
       "\n",
       "    .dataframe tbody tr th {\n",
       "        vertical-align: top;\n",
       "    }\n",
       "\n",
       "    .dataframe thead th {\n",
       "        text-align: right;\n",
       "    }\n",
       "</style>\n",
       "<table border=\"1\" class=\"dataframe\">\n",
       "  <thead>\n",
       "    <tr style=\"text-align: right;\">\n",
       "      <th></th>\n",
       "      <th>client_id</th>\n",
       "      <th>balance_month</th>\n",
       "      <th>due_score</th>\n",
       "    </tr>\n",
       "  </thead>\n",
       "  <tbody>\n",
       "    <tr>\n",
       "      <th>0</th>\n",
       "      <td>5001711</td>\n",
       "      <td>1</td>\n",
       "      <td>0</td>\n",
       "    </tr>\n",
       "    <tr>\n",
       "      <th>1</th>\n",
       "      <td>5001711</td>\n",
       "      <td>2</td>\n",
       "      <td>0</td>\n",
       "    </tr>\n",
       "    <tr>\n",
       "      <th>2</th>\n",
       "      <td>5001711</td>\n",
       "      <td>3</td>\n",
       "      <td>0</td>\n",
       "    </tr>\n",
       "    <tr>\n",
       "      <th>3</th>\n",
       "      <td>5001711</td>\n",
       "      <td>4</td>\n",
       "      <td>0</td>\n",
       "    </tr>\n",
       "    <tr>\n",
       "      <th>4</th>\n",
       "      <td>5001712</td>\n",
       "      <td>1</td>\n",
       "      <td>0</td>\n",
       "    </tr>\n",
       "    <tr>\n",
       "      <th>...</th>\n",
       "      <td>...</td>\n",
       "      <td>...</td>\n",
       "      <td>...</td>\n",
       "    </tr>\n",
       "    <tr>\n",
       "      <th>1048570</th>\n",
       "      <td>5150487</td>\n",
       "      <td>26</td>\n",
       "      <td>0</td>\n",
       "    </tr>\n",
       "    <tr>\n",
       "      <th>1048571</th>\n",
       "      <td>5150487</td>\n",
       "      <td>27</td>\n",
       "      <td>0</td>\n",
       "    </tr>\n",
       "    <tr>\n",
       "      <th>1048572</th>\n",
       "      <td>5150487</td>\n",
       "      <td>28</td>\n",
       "      <td>0</td>\n",
       "    </tr>\n",
       "    <tr>\n",
       "      <th>1048573</th>\n",
       "      <td>5150487</td>\n",
       "      <td>29</td>\n",
       "      <td>0</td>\n",
       "    </tr>\n",
       "    <tr>\n",
       "      <th>1048574</th>\n",
       "      <td>5150487</td>\n",
       "      <td>30</td>\n",
       "      <td>0</td>\n",
       "    </tr>\n",
       "  </tbody>\n",
       "</table>\n",
       "<p>1048575 rows × 3 columns</p>\n",
       "</div>"
      ],
      "text/plain": [
       "         client_id  balance_month  due_score\n",
       "0          5001711              1          0\n",
       "1          5001711              2          0\n",
       "2          5001711              3          0\n",
       "3          5001711              4          0\n",
       "4          5001712              1          0\n",
       "...            ...            ...        ...\n",
       "1048570    5150487             26          0\n",
       "1048571    5150487             27          0\n",
       "1048572    5150487             28          0\n",
       "1048573    5150487             29          0\n",
       "1048574    5150487             30          0\n",
       "\n",
       "[1048575 rows x 3 columns]"
      ]
     },
     "execution_count": 213,
     "metadata": {},
     "output_type": "execute_result"
    }
   ],
   "source": [
    "# Cleansing credit records dataset \n",
    "\n",
    "DUE_DATATYPES = {\n",
    "    \"0\": 0,\n",
    "    \"1\": -1,\n",
    "    \"2\": -2,\n",
    "    \"3\": -3,\n",
    "    \"4\": -4,\n",
    "    \"5\": -5,\n",
    "    \"X\": 0,\n",
    "    \"C\": 0,\n",
    "}\n",
    "\n",
    "credit_records['due_score'] = credit_records['due_status'].map(lambda item: DUE_DATATYPES[item])\n",
    "credit_records['balance_month'] = credit_records['balance_month'].apply(func=lambda item: abs(item) + 1)\n",
    "credit_records = credit_records[['client_id', 'balance_month', 'due_score']]\n",
    "\n",
    "credit_records"
   ]
  },
  {
   "cell_type": "markdown",
   "metadata": {},
   "source": [
    "Credit Record Features"
   ]
  },
  {
   "cell_type": "markdown",
   "metadata": {},
   "source": [
    "overdue_score - number of ovedues made by client divided by the total credit window\n",
    "credit"
   ]
  },
  {
   "cell_type": "code",
   "execution_count": 214,
   "metadata": {},
   "outputs": [
    {
     "data": {
      "text/html": [
       "<div>\n",
       "<style scoped>\n",
       "    .dataframe tbody tr th:only-of-type {\n",
       "        vertical-align: middle;\n",
       "    }\n",
       "\n",
       "    .dataframe tbody tr th {\n",
       "        vertical-align: top;\n",
       "    }\n",
       "\n",
       "    .dataframe thead th {\n",
       "        text-align: right;\n",
       "    }\n",
       "</style>\n",
       "<table border=\"1\" class=\"dataframe\">\n",
       "  <thead>\n",
       "    <tr style=\"text-align: right;\">\n",
       "      <th></th>\n",
       "      <th>client_id</th>\n",
       "      <th>credit_window</th>\n",
       "      <th>overdue_score</th>\n",
       "      <th>total_overdues</th>\n",
       "    </tr>\n",
       "  </thead>\n",
       "  <tbody>\n",
       "    <tr>\n",
       "      <th>0</th>\n",
       "      <td>5001711</td>\n",
       "      <td>4</td>\n",
       "      <td>0</td>\n",
       "      <td>0.0</td>\n",
       "    </tr>\n",
       "    <tr>\n",
       "      <th>1</th>\n",
       "      <td>5001712</td>\n",
       "      <td>19</td>\n",
       "      <td>0</td>\n",
       "      <td>0.0</td>\n",
       "    </tr>\n",
       "    <tr>\n",
       "      <th>2</th>\n",
       "      <td>5001713</td>\n",
       "      <td>22</td>\n",
       "      <td>0</td>\n",
       "      <td>0.0</td>\n",
       "    </tr>\n",
       "    <tr>\n",
       "      <th>3</th>\n",
       "      <td>5001714</td>\n",
       "      <td>15</td>\n",
       "      <td>0</td>\n",
       "      <td>0.0</td>\n",
       "    </tr>\n",
       "    <tr>\n",
       "      <th>4</th>\n",
       "      <td>5001715</td>\n",
       "      <td>60</td>\n",
       "      <td>0</td>\n",
       "      <td>0.0</td>\n",
       "    </tr>\n",
       "    <tr>\n",
       "      <th>...</th>\n",
       "      <td>...</td>\n",
       "      <td>...</td>\n",
       "      <td>...</td>\n",
       "      <td>...</td>\n",
       "    </tr>\n",
       "    <tr>\n",
       "      <th>45980</th>\n",
       "      <td>5150482</td>\n",
       "      <td>29</td>\n",
       "      <td>0</td>\n",
       "      <td>0.0</td>\n",
       "    </tr>\n",
       "    <tr>\n",
       "      <th>45981</th>\n",
       "      <td>5150483</td>\n",
       "      <td>18</td>\n",
       "      <td>0</td>\n",
       "      <td>0.0</td>\n",
       "    </tr>\n",
       "    <tr>\n",
       "      <th>45982</th>\n",
       "      <td>5150484</td>\n",
       "      <td>13</td>\n",
       "      <td>0</td>\n",
       "      <td>0.0</td>\n",
       "    </tr>\n",
       "    <tr>\n",
       "      <th>45983</th>\n",
       "      <td>5150485</td>\n",
       "      <td>2</td>\n",
       "      <td>0</td>\n",
       "      <td>0.0</td>\n",
       "    </tr>\n",
       "    <tr>\n",
       "      <th>45984</th>\n",
       "      <td>5150487</td>\n",
       "      <td>30</td>\n",
       "      <td>0</td>\n",
       "      <td>0.0</td>\n",
       "    </tr>\n",
       "  </tbody>\n",
       "</table>\n",
       "<p>45985 rows × 4 columns</p>\n",
       "</div>"
      ],
      "text/plain": [
       "       client_id  credit_window  overdue_score  total_overdues\n",
       "0        5001711              4              0             0.0\n",
       "1        5001712             19              0             0.0\n",
       "2        5001713             22              0             0.0\n",
       "3        5001714             15              0             0.0\n",
       "4        5001715             60              0             0.0\n",
       "...          ...            ...            ...             ...\n",
       "45980    5150482             29              0             0.0\n",
       "45981    5150483             18              0             0.0\n",
       "45982    5150484             13              0             0.0\n",
       "45983    5150485              2              0             0.0\n",
       "45984    5150487             30              0             0.0\n",
       "\n",
       "[45985 rows x 4 columns]"
      ]
     },
     "execution_count": 214,
     "metadata": {},
     "output_type": "execute_result"
    }
   ],
   "source": [
    "# introducing credit records features (bad client status)\n",
    "\n",
    "credit_features = pandas.DataFrame()\n",
    "\n",
    "credit_windows = credit_records.groupby('client_id')['balance_month'].agg('max').to_frame('credit_window').reset_index()\n",
    "\n",
    "credit_features['client_id'] = credit_records['client_id'].unique()\n",
    "\n",
    "\n",
    "credit_features['overdue_score'] = credit_records.groupby(by='client_id')['due_score'].sum().to_numpy()\n",
    "\n",
    "# number of overdues per client \n",
    "\n",
    "overdue_groups = credit_records[\n",
    "        credit_records['due_score'] < 0\n",
    "].groupby(by='client_id')['due_score'].count().to_frame(\"total_overdues\").reset_index()\n",
    "\n",
    "\n",
    "credit_features = credit_features.merge(overdue_groups, on='client_id', how='left')\n",
    "credit_features['total_overdues'].fillna(0, inplace=True)\n",
    "\n",
    "overdues = credit_records[credit_records['due_score'] < 0][['client_id', 'balance_month']]\n",
    "\n",
    "# merging with credit window table\n",
    "credit_features = credit_features.merge(credit_windows, how='inner', on='client_id')\n",
    "\n",
    "# annotating bad client status\n",
    "credit_features = credit_features[['client_id', 'credit_window', 'overdue_score', 'total_overdues']]\n",
    "\n",
    "credit_features \n"
   ]
  },
  {
   "cell_type": "markdown",
   "metadata": {},
   "source": [
    "Finding average distance between overdues per client"
   ]
  },
  {
   "cell_type": "code",
   "execution_count": 215,
   "metadata": {},
   "outputs": [
    {
     "data": {
      "text/html": [
       "<div>\n",
       "<style scoped>\n",
       "    .dataframe tbody tr th:only-of-type {\n",
       "        vertical-align: middle;\n",
       "    }\n",
       "\n",
       "    .dataframe tbody tr th {\n",
       "        vertical-align: top;\n",
       "    }\n",
       "\n",
       "    .dataframe thead th {\n",
       "        text-align: right;\n",
       "    }\n",
       "</style>\n",
       "<table border=\"1\" class=\"dataframe\">\n",
       "  <thead>\n",
       "    <tr style=\"text-align: right;\">\n",
       "      <th></th>\n",
       "      <th>client_id</th>\n",
       "      <th>avg_overdue_change</th>\n",
       "    </tr>\n",
       "  </thead>\n",
       "  <tbody>\n",
       "    <tr>\n",
       "      <th>0</th>\n",
       "      <td>5001718</td>\n",
       "      <td>2.000000</td>\n",
       "    </tr>\n",
       "    <tr>\n",
       "      <th>1</th>\n",
       "      <td>5001720</td>\n",
       "      <td>2.142857</td>\n",
       "    </tr>\n",
       "    <tr>\n",
       "      <th>2</th>\n",
       "      <td>5001757</td>\n",
       "      <td>0.000000</td>\n",
       "    </tr>\n",
       "    <tr>\n",
       "      <th>3</th>\n",
       "      <td>5001786</td>\n",
       "      <td>0.000000</td>\n",
       "    </tr>\n",
       "    <tr>\n",
       "      <th>4</th>\n",
       "      <td>5001792</td>\n",
       "      <td>2.000000</td>\n",
       "    </tr>\n",
       "    <tr>\n",
       "      <th>...</th>\n",
       "      <td>...</td>\n",
       "      <td>...</td>\n",
       "    </tr>\n",
       "    <tr>\n",
       "      <th>5345</th>\n",
       "      <td>5150412</td>\n",
       "      <td>1.000000</td>\n",
       "    </tr>\n",
       "    <tr>\n",
       "      <th>5346</th>\n",
       "      <td>5150417</td>\n",
       "      <td>0.000000</td>\n",
       "    </tr>\n",
       "    <tr>\n",
       "      <th>5347</th>\n",
       "      <td>5150459</td>\n",
       "      <td>0.800000</td>\n",
       "    </tr>\n",
       "    <tr>\n",
       "      <th>5348</th>\n",
       "      <td>5150463</td>\n",
       "      <td>0.666667</td>\n",
       "    </tr>\n",
       "    <tr>\n",
       "      <th>5349</th>\n",
       "      <td>5150464</td>\n",
       "      <td>0.800000</td>\n",
       "    </tr>\n",
       "  </tbody>\n",
       "</table>\n",
       "<p>5350 rows × 2 columns</p>\n",
       "</div>"
      ],
      "text/plain": [
       "      client_id  avg_overdue_change\n",
       "0       5001718            2.000000\n",
       "1       5001720            2.142857\n",
       "2       5001757            0.000000\n",
       "3       5001786            0.000000\n",
       "4       5001792            2.000000\n",
       "...         ...                 ...\n",
       "5345    5150412            1.000000\n",
       "5346    5150417            0.000000\n",
       "5347    5150459            0.800000\n",
       "5348    5150463            0.666667\n",
       "5349    5150464            0.800000\n",
       "\n",
       "[5350 rows x 2 columns]"
      ]
     },
     "execution_count": 215,
     "metadata": {},
     "output_type": "execute_result"
    }
   ],
   "source": [
    "overdues['changes'] = overdues.groupby(by='client_id')['balance_month'].transform(\n",
    "    func=lambda month: month - month.shift(1)\n",
    ").fillna(0)\n",
    "\n",
    "overdues = overdues.groupby(by='client_id')['changes'].agg('mean').to_frame(\"avg_overdue_change\").reset_index()\n",
    "overdues\n"
   ]
  },
  {
   "cell_type": "code",
   "execution_count": 216,
   "metadata": {},
   "outputs": [
    {
     "data": {
      "text/html": [
       "<div>\n",
       "<style scoped>\n",
       "    .dataframe tbody tr th:only-of-type {\n",
       "        vertical-align: middle;\n",
       "    }\n",
       "\n",
       "    .dataframe tbody tr th {\n",
       "        vertical-align: top;\n",
       "    }\n",
       "\n",
       "    .dataframe thead th {\n",
       "        text-align: right;\n",
       "    }\n",
       "</style>\n",
       "<table border=\"1\" class=\"dataframe\">\n",
       "  <thead>\n",
       "    <tr style=\"text-align: right;\">\n",
       "      <th></th>\n",
       "      <th>client_id</th>\n",
       "      <th>credit_window</th>\n",
       "      <th>total_overdues</th>\n",
       "      <th>avg_overdue_change</th>\n",
       "      <th>severe_score</th>\n",
       "      <th>overdue_ratio</th>\n",
       "    </tr>\n",
       "  </thead>\n",
       "  <tbody>\n",
       "    <tr>\n",
       "      <th>0</th>\n",
       "      <td>5001711</td>\n",
       "      <td>4</td>\n",
       "      <td>0.0</td>\n",
       "      <td>NaN</td>\n",
       "      <td>0</td>\n",
       "      <td>0.0</td>\n",
       "    </tr>\n",
       "    <tr>\n",
       "      <th>1</th>\n",
       "      <td>5001712</td>\n",
       "      <td>19</td>\n",
       "      <td>0.0</td>\n",
       "      <td>NaN</td>\n",
       "      <td>0</td>\n",
       "      <td>0.0</td>\n",
       "    </tr>\n",
       "    <tr>\n",
       "      <th>2</th>\n",
       "      <td>5001713</td>\n",
       "      <td>22</td>\n",
       "      <td>0.0</td>\n",
       "      <td>NaN</td>\n",
       "      <td>0</td>\n",
       "      <td>0.0</td>\n",
       "    </tr>\n",
       "    <tr>\n",
       "      <th>3</th>\n",
       "      <td>5001714</td>\n",
       "      <td>15</td>\n",
       "      <td>0.0</td>\n",
       "      <td>NaN</td>\n",
       "      <td>0</td>\n",
       "      <td>0.0</td>\n",
       "    </tr>\n",
       "    <tr>\n",
       "      <th>4</th>\n",
       "      <td>5001715</td>\n",
       "      <td>60</td>\n",
       "      <td>0.0</td>\n",
       "      <td>NaN</td>\n",
       "      <td>0</td>\n",
       "      <td>0.0</td>\n",
       "    </tr>\n",
       "    <tr>\n",
       "      <th>...</th>\n",
       "      <td>...</td>\n",
       "      <td>...</td>\n",
       "      <td>...</td>\n",
       "      <td>...</td>\n",
       "      <td>...</td>\n",
       "      <td>...</td>\n",
       "    </tr>\n",
       "    <tr>\n",
       "      <th>45980</th>\n",
       "      <td>5150482</td>\n",
       "      <td>29</td>\n",
       "      <td>0.0</td>\n",
       "      <td>NaN</td>\n",
       "      <td>0</td>\n",
       "      <td>0.0</td>\n",
       "    </tr>\n",
       "    <tr>\n",
       "      <th>45981</th>\n",
       "      <td>5150483</td>\n",
       "      <td>18</td>\n",
       "      <td>0.0</td>\n",
       "      <td>NaN</td>\n",
       "      <td>0</td>\n",
       "      <td>0.0</td>\n",
       "    </tr>\n",
       "    <tr>\n",
       "      <th>45982</th>\n",
       "      <td>5150484</td>\n",
       "      <td>13</td>\n",
       "      <td>0.0</td>\n",
       "      <td>NaN</td>\n",
       "      <td>0</td>\n",
       "      <td>0.0</td>\n",
       "    </tr>\n",
       "    <tr>\n",
       "      <th>45983</th>\n",
       "      <td>5150485</td>\n",
       "      <td>2</td>\n",
       "      <td>0.0</td>\n",
       "      <td>NaN</td>\n",
       "      <td>0</td>\n",
       "      <td>0.0</td>\n",
       "    </tr>\n",
       "    <tr>\n",
       "      <th>45984</th>\n",
       "      <td>5150487</td>\n",
       "      <td>30</td>\n",
       "      <td>0.0</td>\n",
       "      <td>NaN</td>\n",
       "      <td>0</td>\n",
       "      <td>0.0</td>\n",
       "    </tr>\n",
       "  </tbody>\n",
       "</table>\n",
       "<p>45985 rows × 6 columns</p>\n",
       "</div>"
      ],
      "text/plain": [
       "       client_id  credit_window  total_overdues  avg_overdue_change  \\\n",
       "0        5001711              4             0.0                 NaN   \n",
       "1        5001712             19             0.0                 NaN   \n",
       "2        5001713             22             0.0                 NaN   \n",
       "3        5001714             15             0.0                 NaN   \n",
       "4        5001715             60             0.0                 NaN   \n",
       "...          ...            ...             ...                 ...   \n",
       "45980    5150482             29             0.0                 NaN   \n",
       "45981    5150483             18             0.0                 NaN   \n",
       "45982    5150484             13             0.0                 NaN   \n",
       "45983    5150485              2             0.0                 NaN   \n",
       "45984    5150487             30             0.0                 NaN   \n",
       "\n",
       "       severe_score  overdue_ratio  \n",
       "0                 0            0.0  \n",
       "1                 0            0.0  \n",
       "2                 0            0.0  \n",
       "3                 0            0.0  \n",
       "4                 0            0.0  \n",
       "...             ...            ...  \n",
       "45980             0            0.0  \n",
       "45981             0            0.0  \n",
       "45982             0            0.0  \n",
       "45983             0            0.0  \n",
       "45984             0            0.0  \n",
       "\n",
       "[45985 rows x 6 columns]"
      ]
     },
     "execution_count": 216,
     "metadata": {},
     "output_type": "execute_result"
    }
   ],
   "source": [
    "features = credit_features.merge(overdues, on='client_id', how='left')\n",
    "\n",
    "# filling missing values (users, who have brilliant credit history does not have overdues, hence )\n",
    "features.fillna({\n",
    "    'balance_month': 0,\n",
    "    'changes': 0,\n",
    "    'total_overdues': 0,\n",
    "}, inplace=True)\n",
    "\n",
    "features['severe_score'] = abs(features['overdue_score'])\n",
    "\n",
    "features['overdue_ratio'] = features['total_overdues'] / features['credit_window']\n",
    "\n",
    "features = features[\n",
    "    [\n",
    "    'client_id', 'credit_window', \n",
    "    'total_overdues', 'avg_overdue_change', \n",
    "    'severe_score', 'overdue_ratio'\n",
    "    ]\n",
    "]\n",
    "    \n",
    "features"
   ]
  },
  {
   "cell_type": "code",
   "execution_count": 217,
   "metadata": {},
   "outputs": [],
   "source": [
    "sus_clients = features[features['severe_score'] > 0]"
   ]
  },
  {
   "cell_type": "markdown",
   "metadata": {},
   "source": [
    "Analyzing how severe score increases, based on the credit window"
   ]
  },
  {
   "cell_type": "code",
   "execution_count": 218,
   "metadata": {},
   "outputs": [
    {
     "data": {
      "text/plain": [
       "<Axes: xlabel='credit_window', ylabel='severe_score'>"
      ]
     },
     "execution_count": 218,
     "metadata": {},
     "output_type": "execute_result"
    },
    {
     "data": {
      "image/png": "[encoded data removed]",
      "text/plain": [
       "<Figure size 640x480 with 1 Axes>"
      ]
     },
     "metadata": {},
     "output_type": "display_data"
    }
   ],
   "source": [
    "sns.scatterplot(y=sus_clients['severe_score'], x=sus_clients['credit_window'])"
   ]
  },
  {
   "cell_type": "markdown",
   "metadata": {},
   "source": [
    "Analyzining threshold for average overdue change ratio"
   ]
  },
  {
   "cell_type": "code",
   "execution_count": 219,
   "metadata": {},
   "outputs": [
    {
     "data": {
      "text/plain": [
       "<Axes: xlabel='credit_window', ylabel='avg_overdue_change'>"
      ]
     },
     "execution_count": 219,
     "metadata": {},
     "output_type": "execute_result"
    },
    {
     "data": {
      "image/png": "[encoded data removed]",
      "text/plain": [
       "<Figure size 640x480 with 1 Axes>"
      ]
     },
     "metadata": {},
     "output_type": "display_data"
    }
   ],
   "source": [
    "sns.scatterplot(y=sus_clients['avg_overdue_change'], x=sus_clients['credit_window'])"
   ]
  },
  {
   "cell_type": "markdown",
   "metadata": {},
   "source": [
    "Analyzing Distribution of percentage of overdues, based on the credit window"
   ]
  },
  {
   "cell_type": "code",
   "execution_count": 220,
   "metadata": {},
   "outputs": [
    {
     "data": {
      "text/plain": [
       "<Axes: xlabel='credit_window', ylabel='overdue_ratio'>"
      ]
     },
     "execution_count": 220,
     "metadata": {},
     "output_type": "execute_result"
    },
    {
     "data": {
      "image/png": "[encoded data removed]",
      "text/plain": [
       "<Figure size 640x480 with 1 Axes>"
      ]
     },
     "metadata": {},
     "output_type": "display_data"
    }
   ],
   "source": [
    "sns.scatterplot(x=sus_clients['credit_window'], y=sus_clients['overdue_ratio'])"
   ]
  },
  {
   "cell_type": "markdown",
   "metadata": {},
   "source": [
    "Marking clients as bad, based on feature combinations (severe score + period between overdues)\n",
    "\n",
    "People, who has low time frame between each overdue can be considered as unstable \n",
    "because such high frequency might be an indicator of disability to pay. \n",
    "\n",
    "Clients, who has some overdues but make them rarely, conversely can be considered as reliable.\n",
    "Because rare overdues may happen due to touch economy inside the country or some other circumstances, that caused financial dificit.\n",
    "\n",
    "True - client is bad \n",
    "False - client is stable\n",
    "\n",
    "Crucial Features: \n",
    "\n",
    "total overdue score - calculated, based on the severe of overdue (see above)\n",
    "\n",
    "\"Severe Score\" - (total overdue score) / number of overdues \n",
    "\n",
    "\"Period between overdues\" - time period between each adjacent overdues\n"
   ]
  },
  {
   "cell_type": "code",
   "execution_count": 221,
   "metadata": {},
   "outputs": [],
   "source": [
    "avg_overdue_change_threshold = 0.03\n",
    "severe_score_threshold = 25\n",
    "overdue_percentage_ratio_threshold = 0.3\n",
    "number_of_overdues_threshold = 3\n",
    "\n",
    "def detect_bad_client(df_row):\n",
    "    \"\"\"\n",
    "    Function detects whether client is good or bad, based on the \n",
    "    following criterias:\n",
    "\n",
    "    1. total_overdues - total number of overdues \n",
    "    2. overdue_score - severity of overdues \n",
    "    3. overdue_change_ratio - average number of month between each overdue\n",
    "    \n",
    "    Thresholds are given above. \n",
    "\n",
    "    Args:\n",
    "        df_row: pandas.DataFrame object, containing criterias\n",
    "    \n",
    "    Returns:\n",
    "        bool:\n",
    "            True - client is unreliable \n",
    "            False - client is responsible\n",
    "    \"\"\"\n",
    "    if df_row['total_overdues'] == 0: return False\n",
    "\n",
    "    return any([\n",
    "        (df_row['overdue_ratio'] >= overdue_percentage_ratio_threshold),\n",
    "        (df_row['avg_overdue_change'] <= avg_overdue_change_threshold and df_row['total_overdues'] > number_of_overdues_threshold),\n",
    "        (\n",
    "            df_row['severe_score'] >= severe_score_threshold and\n",
    "            df_row['total_overdues'] >= number_of_overdues_threshold and\n",
    "            df_row['avg_overdue_change'] <= avg_overdue_change_threshold\n",
    "        ),\n",
    "        (\n",
    "            df_row['severe_score'] >= severe_score_threshold and\n",
    "            df_row['total_overdues'] >= number_of_overdues_threshold and\n",
    "            df_row['overdue_ratio'] >= overdue_percentage_ratio_threshold\n",
    "        )\n",
    "    ])\n",
    "\n",
    "features['bad_client'] = features.apply(func=detect_bad_client, axis=1)"
   ]
  },
  {
   "cell_type": "markdown",
   "metadata": {},
   "source": [
    "Merging tables together"
   ]
  },
  {
   "cell_type": "code",
   "execution_count": 222,
   "metadata": {},
   "outputs": [
    {
     "data": {
      "text/html": [
       "<div>\n",
       "<style scoped>\n",
       "    .dataframe tbody tr th:only-of-type {\n",
       "        vertical-align: middle;\n",
       "    }\n",
       "\n",
       "    .dataframe tbody tr th {\n",
       "        vertical-align: top;\n",
       "    }\n",
       "\n",
       "    .dataframe thead th {\n",
       "        text-align: right;\n",
       "    }\n",
       "</style>\n",
       "<table border=\"1\" class=\"dataframe\">\n",
       "  <thead>\n",
       "    <tr style=\"text-align: right;\">\n",
       "      <th></th>\n",
       "      <th>client_id</th>\n",
       "      <th>gender</th>\n",
       "      <th>has_car</th>\n",
       "      <th>has_realty</th>\n",
       "      <th>total_children</th>\n",
       "      <th>annual_income</th>\n",
       "      <th>income_category</th>\n",
       "      <th>education_category</th>\n",
       "      <th>family_status</th>\n",
       "      <th>living_place</th>\n",
       "      <th>...</th>\n",
       "      <th>emp_stability</th>\n",
       "      <th>has_children</th>\n",
       "      <th>owns_realty_and_car</th>\n",
       "      <th>has_contact_information</th>\n",
       "      <th>credit_window</th>\n",
       "      <th>total_overdues</th>\n",
       "      <th>avg_overdue_change</th>\n",
       "      <th>severe_score</th>\n",
       "      <th>overdue_ratio</th>\n",
       "      <th>bad_client</th>\n",
       "    </tr>\n",
       "  </thead>\n",
       "  <tbody>\n",
       "    <tr>\n",
       "      <th>0</th>\n",
       "      <td>5008804</td>\n",
       "      <td>M</td>\n",
       "      <td>Y</td>\n",
       "      <td>Y</td>\n",
       "      <td>0</td>\n",
       "      <td>427500.0</td>\n",
       "      <td>Working</td>\n",
       "      <td>Higher education</td>\n",
       "      <td>Civil marriage</td>\n",
       "      <td>Rented apartment</td>\n",
       "      <td>...</td>\n",
       "      <td>True</td>\n",
       "      <td>False</td>\n",
       "      <td>True</td>\n",
       "      <td>True</td>\n",
       "      <td>16</td>\n",
       "      <td>1.0</td>\n",
       "      <td>0.000000</td>\n",
       "      <td>1</td>\n",
       "      <td>0.062500</td>\n",
       "      <td>False</td>\n",
       "    </tr>\n",
       "    <tr>\n",
       "      <th>1</th>\n",
       "      <td>5008805</td>\n",
       "      <td>M</td>\n",
       "      <td>Y</td>\n",
       "      <td>Y</td>\n",
       "      <td>0</td>\n",
       "      <td>427500.0</td>\n",
       "      <td>Working</td>\n",
       "      <td>Higher education</td>\n",
       "      <td>Civil marriage</td>\n",
       "      <td>Rented apartment</td>\n",
       "      <td>...</td>\n",
       "      <td>True</td>\n",
       "      <td>False</td>\n",
       "      <td>True</td>\n",
       "      <td>True</td>\n",
       "      <td>15</td>\n",
       "      <td>1.0</td>\n",
       "      <td>0.000000</td>\n",
       "      <td>1</td>\n",
       "      <td>0.066667</td>\n",
       "      <td>False</td>\n",
       "    </tr>\n",
       "    <tr>\n",
       "      <th>2</th>\n",
       "      <td>5008806</td>\n",
       "      <td>M</td>\n",
       "      <td>Y</td>\n",
       "      <td>Y</td>\n",
       "      <td>0</td>\n",
       "      <td>112500.0</td>\n",
       "      <td>Working</td>\n",
       "      <td>Secondary / secondary special</td>\n",
       "      <td>Married</td>\n",
       "      <td>House / apartment</td>\n",
       "      <td>...</td>\n",
       "      <td>False</td>\n",
       "      <td>False</td>\n",
       "      <td>True</td>\n",
       "      <td>False</td>\n",
       "      <td>30</td>\n",
       "      <td>0.0</td>\n",
       "      <td>NaN</td>\n",
       "      <td>0</td>\n",
       "      <td>0.000000</td>\n",
       "      <td>False</td>\n",
       "    </tr>\n",
       "    <tr>\n",
       "      <th>3</th>\n",
       "      <td>5008808</td>\n",
       "      <td>F</td>\n",
       "      <td>N</td>\n",
       "      <td>Y</td>\n",
       "      <td>0</td>\n",
       "      <td>270000.0</td>\n",
       "      <td>Commercial associate</td>\n",
       "      <td>Secondary / secondary special</td>\n",
       "      <td>Single / not married</td>\n",
       "      <td>House / apartment</td>\n",
       "      <td>...</td>\n",
       "      <td>True</td>\n",
       "      <td>False</td>\n",
       "      <td>False</td>\n",
       "      <td>True</td>\n",
       "      <td>5</td>\n",
       "      <td>0.0</td>\n",
       "      <td>NaN</td>\n",
       "      <td>0</td>\n",
       "      <td>0.000000</td>\n",
       "      <td>False</td>\n",
       "    </tr>\n",
       "    <tr>\n",
       "      <th>4</th>\n",
       "      <td>5008809</td>\n",
       "      <td>F</td>\n",
       "      <td>N</td>\n",
       "      <td>Y</td>\n",
       "      <td>0</td>\n",
       "      <td>270000.0</td>\n",
       "      <td>Commercial associate</td>\n",
       "      <td>Secondary / secondary special</td>\n",
       "      <td>Single / not married</td>\n",
       "      <td>House / apartment</td>\n",
       "      <td>...</td>\n",
       "      <td>True</td>\n",
       "      <td>False</td>\n",
       "      <td>False</td>\n",
       "      <td>True</td>\n",
       "      <td>27</td>\n",
       "      <td>0.0</td>\n",
       "      <td>NaN</td>\n",
       "      <td>0</td>\n",
       "      <td>0.000000</td>\n",
       "      <td>False</td>\n",
       "    </tr>\n",
       "    <tr>\n",
       "      <th>...</th>\n",
       "      <td>...</td>\n",
       "      <td>...</td>\n",
       "      <td>...</td>\n",
       "      <td>...</td>\n",
       "      <td>...</td>\n",
       "      <td>...</td>\n",
       "      <td>...</td>\n",
       "      <td>...</td>\n",
       "      <td>...</td>\n",
       "      <td>...</td>\n",
       "      <td>...</td>\n",
       "      <td>...</td>\n",
       "      <td>...</td>\n",
       "      <td>...</td>\n",
       "      <td>...</td>\n",
       "      <td>...</td>\n",
       "      <td>...</td>\n",
       "      <td>...</td>\n",
       "      <td>...</td>\n",
       "      <td>...</td>\n",
       "      <td>...</td>\n",
       "    </tr>\n",
       "    <tr>\n",
       "      <th>36452</th>\n",
       "      <td>5149828</td>\n",
       "      <td>M</td>\n",
       "      <td>Y</td>\n",
       "      <td>Y</td>\n",
       "      <td>0</td>\n",
       "      <td>315000.0</td>\n",
       "      <td>Working</td>\n",
       "      <td>Secondary / secondary special</td>\n",
       "      <td>Married</td>\n",
       "      <td>House / apartment</td>\n",
       "      <td>...</td>\n",
       "      <td>True</td>\n",
       "      <td>False</td>\n",
       "      <td>True</td>\n",
       "      <td>False</td>\n",
       "      <td>12</td>\n",
       "      <td>4.0</td>\n",
       "      <td>1.250000</td>\n",
       "      <td>19</td>\n",
       "      <td>0.333333</td>\n",
       "      <td>True</td>\n",
       "    </tr>\n",
       "    <tr>\n",
       "      <th>36453</th>\n",
       "      <td>5149834</td>\n",
       "      <td>F</td>\n",
       "      <td>N</td>\n",
       "      <td>Y</td>\n",
       "      <td>0</td>\n",
       "      <td>157500.0</td>\n",
       "      <td>Commercial associate</td>\n",
       "      <td>Higher education</td>\n",
       "      <td>Married</td>\n",
       "      <td>House / apartment</td>\n",
       "      <td>...</td>\n",
       "      <td>False</td>\n",
       "      <td>False</td>\n",
       "      <td>False</td>\n",
       "      <td>True</td>\n",
       "      <td>24</td>\n",
       "      <td>18.0</td>\n",
       "      <td>0.944444</td>\n",
       "      <td>53</td>\n",
       "      <td>0.750000</td>\n",
       "      <td>True</td>\n",
       "    </tr>\n",
       "    <tr>\n",
       "      <th>36454</th>\n",
       "      <td>5149838</td>\n",
       "      <td>F</td>\n",
       "      <td>N</td>\n",
       "      <td>Y</td>\n",
       "      <td>0</td>\n",
       "      <td>157500.0</td>\n",
       "      <td>Pensioner</td>\n",
       "      <td>Higher education</td>\n",
       "      <td>Married</td>\n",
       "      <td>House / apartment</td>\n",
       "      <td>...</td>\n",
       "      <td>False</td>\n",
       "      <td>False</td>\n",
       "      <td>False</td>\n",
       "      <td>True</td>\n",
       "      <td>33</td>\n",
       "      <td>18.0</td>\n",
       "      <td>0.944444</td>\n",
       "      <td>53</td>\n",
       "      <td>0.545455</td>\n",
       "      <td>True</td>\n",
       "    </tr>\n",
       "    <tr>\n",
       "      <th>36455</th>\n",
       "      <td>5150049</td>\n",
       "      <td>F</td>\n",
       "      <td>N</td>\n",
       "      <td>Y</td>\n",
       "      <td>0</td>\n",
       "      <td>283500.0</td>\n",
       "      <td>Working</td>\n",
       "      <td>Secondary / secondary special</td>\n",
       "      <td>Married</td>\n",
       "      <td>House / apartment</td>\n",
       "      <td>...</td>\n",
       "      <td>False</td>\n",
       "      <td>False</td>\n",
       "      <td>False</td>\n",
       "      <td>False</td>\n",
       "      <td>10</td>\n",
       "      <td>2.0</td>\n",
       "      <td>0.500000</td>\n",
       "      <td>3</td>\n",
       "      <td>0.200000</td>\n",
       "      <td>False</td>\n",
       "    </tr>\n",
       "    <tr>\n",
       "      <th>36456</th>\n",
       "      <td>5150337</td>\n",
       "      <td>M</td>\n",
       "      <td>N</td>\n",
       "      <td>Y</td>\n",
       "      <td>0</td>\n",
       "      <td>112500.0</td>\n",
       "      <td>Working</td>\n",
       "      <td>Secondary / secondary special</td>\n",
       "      <td>Single / not married</td>\n",
       "      <td>Rented apartment</td>\n",
       "      <td>...</td>\n",
       "      <td>False</td>\n",
       "      <td>False</td>\n",
       "      <td>False</td>\n",
       "      <td>False</td>\n",
       "      <td>14</td>\n",
       "      <td>2.0</td>\n",
       "      <td>0.500000</td>\n",
       "      <td>3</td>\n",
       "      <td>0.142857</td>\n",
       "      <td>False</td>\n",
       "    </tr>\n",
       "  </tbody>\n",
       "</table>\n",
       "<p>36457 rows × 31 columns</p>\n",
       "</div>"
      ],
      "text/plain": [
       "       client_id gender has_car has_realty  total_children  annual_income  \\\n",
       "0        5008804      M       Y          Y               0       427500.0   \n",
       "1        5008805      M       Y          Y               0       427500.0   \n",
       "2        5008806      M       Y          Y               0       112500.0   \n",
       "3        5008808      F       N          Y               0       270000.0   \n",
       "4        5008809      F       N          Y               0       270000.0   \n",
       "...          ...    ...     ...        ...             ...            ...   \n",
       "36452    5149828      M       Y          Y               0       315000.0   \n",
       "36453    5149834      F       N          Y               0       157500.0   \n",
       "36454    5149838      F       N          Y               0       157500.0   \n",
       "36455    5150049      F       N          Y               0       283500.0   \n",
       "36456    5150337      M       N          Y               0       112500.0   \n",
       "\n",
       "            income_category             education_category  \\\n",
       "0                   Working               Higher education   \n",
       "1                   Working               Higher education   \n",
       "2                   Working  Secondary / secondary special   \n",
       "3      Commercial associate  Secondary / secondary special   \n",
       "4      Commercial associate  Secondary / secondary special   \n",
       "...                     ...                            ...   \n",
       "36452               Working  Secondary / secondary special   \n",
       "36453  Commercial associate               Higher education   \n",
       "36454             Pensioner               Higher education   \n",
       "36455               Working  Secondary / secondary special   \n",
       "36456               Working  Secondary / secondary special   \n",
       "\n",
       "              family_status       living_place  ...  emp_stability  \\\n",
       "0            Civil marriage   Rented apartment  ...           True   \n",
       "1            Civil marriage   Rented apartment  ...           True   \n",
       "2                   Married  House / apartment  ...          False   \n",
       "3      Single / not married  House / apartment  ...           True   \n",
       "4      Single / not married  House / apartment  ...           True   \n",
       "...                     ...                ...  ...            ...   \n",
       "36452               Married  House / apartment  ...           True   \n",
       "36453               Married  House / apartment  ...          False   \n",
       "36454               Married  House / apartment  ...          False   \n",
       "36455               Married  House / apartment  ...          False   \n",
       "36456  Single / not married   Rented apartment  ...          False   \n",
       "\n",
       "       has_children  owns_realty_and_car  has_contact_information  \\\n",
       "0             False                 True                     True   \n",
       "1             False                 True                     True   \n",
       "2             False                 True                    False   \n",
       "3             False                False                     True   \n",
       "4             False                False                     True   \n",
       "...             ...                  ...                      ...   \n",
       "36452         False                 True                    False   \n",
       "36453         False                False                     True   \n",
       "36454         False                False                     True   \n",
       "36455         False                False                    False   \n",
       "36456         False                False                    False   \n",
       "\n",
       "       credit_window  total_overdues avg_overdue_change  severe_score  \\\n",
       "0                 16             1.0           0.000000             1   \n",
       "1                 15             1.0           0.000000             1   \n",
       "2                 30             0.0                NaN             0   \n",
       "3                  5             0.0                NaN             0   \n",
       "4                 27             0.0                NaN             0   \n",
       "...              ...             ...                ...           ...   \n",
       "36452             12             4.0           1.250000            19   \n",
       "36453             24            18.0           0.944444            53   \n",
       "36454             33            18.0           0.944444            53   \n",
       "36455             10             2.0           0.500000             3   \n",
       "36456             14             2.0           0.500000             3   \n",
       "\n",
       "       overdue_ratio  bad_client  \n",
       "0           0.062500       False  \n",
       "1           0.066667       False  \n",
       "2           0.000000       False  \n",
       "3           0.000000       False  \n",
       "4           0.000000       False  \n",
       "...              ...         ...  \n",
       "36452       0.333333        True  \n",
       "36453       0.750000        True  \n",
       "36454       0.545455        True  \n",
       "36455       0.200000       False  \n",
       "36456       0.142857       False  \n",
       "\n",
       "[36457 rows x 31 columns]"
      ]
     },
     "execution_count": 222,
     "metadata": {},
     "output_type": "execute_result"
    }
   ],
   "source": [
    "merged_dataset = applications.merge(features, on='client_id', how='inner')\n",
    "\n",
    "merged_dataset"
   ]
  },
  {
   "cell_type": "code",
   "execution_count": 223,
   "metadata": {},
   "outputs": [
    {
     "data": {
      "text/plain": [
       "bad_client\n",
       "False    36090\n",
       "True       367\n",
       "Name: count, dtype: int64"
      ]
     },
     "execution_count": 223,
     "metadata": {},
     "output_type": "execute_result"
    }
   ],
   "source": [
    "merged_dataset['bad_client'].value_counts()"
   ]
  },
  {
   "cell_type": "code",
   "execution_count": 224,
   "metadata": {},
   "outputs": [
    {
     "data": {
      "text/plain": [
       "<Axes: xlabel='annual_income'>"
      ]
     },
     "execution_count": 224,
     "metadata": {},
     "output_type": "execute_result"
    },
    {
     "data": {
      "image/png": "[encoded data removed]",
      "text/plain": [
       "<Figure size 640x480 with 1 Axes>"
      ]
     },
     "metadata": {},
     "output_type": "display_data"
    }
   ],
   "source": [
    "sns.boxplot(x=applications['annual_income'])"
   ]
  },
  {
   "cell_type": "code",
   "execution_count": 225,
   "metadata": {},
   "outputs": [],
   "source": [
    "def remove_outliers_using_iqr(dataset: pandas.DataFrame, feature_name: str):\n",
    "    \"\"\"\n",
    "    Function removes outliers using IQR Method\n",
    "    \"\"\"\n",
    "    low, high = numpy.percentile(dataset[feature_name], [25, 75])\n",
    "    iqr = (high - low)\n",
    "    low_fence, high_fence = low - (1.5 * iqr), high + (1.5 * iqr)\n",
    "\n",
    "    return dataset.loc[\n",
    "    (dataset[feature_name] < high_fence) & (dataset[feature_name] > low_fence)\n",
    "    ]"
   ]
  },
  {
   "cell_type": "markdown",
   "metadata": {},
   "source": [
    "Dropping outliers"
   ]
  },
  {
   "cell_type": "code",
   "execution_count": 226,
   "metadata": {},
   "outputs": [],
   "source": [
    "merged_dataset = remove_outliers_using_iqr(merged_dataset, 'annual_income')"
   ]
  },
  {
   "cell_type": "code",
   "execution_count": 227,
   "metadata": {},
   "outputs": [],
   "source": [
    "merged_dataset = remove_outliers_using_iqr(merged_dataset, 'working_years')"
   ]
  },
  {
   "cell_type": "markdown",
   "metadata": {},
   "source": [
    "Dataset Splitting (training, testing)"
   ]
  },
  {
   "cell_type": "code",
   "execution_count": 228,
   "metadata": {},
   "outputs": [
    {
     "name": "stdout",
     "output_type": "stream",
     "text": [
      "15786 12916\n"
     ]
    }
   ],
   "source": [
    "from sklearn.model_selection import train_test_split \n",
    "\n",
    "labeled_data = merged_dataset[merged_dataset['bad_client'].notnull()]\n",
    "unlabeled_data = merged_dataset[merged_dataset['bad_client'].isnull()]\n",
    "\n",
    "X_labeled = labeled_data.drop(columns=['bad_client'], inplace=False)\n",
    "Y_labeled = labeled_data['bad_client']\n",
    "\n",
    "\n",
    "x_train, x_test, y_train, y_test = train_test_split(\n",
    "    X_labeled, Y_labeled, stratify=Y_labeled, test_size=0.45, random_state=42\n",
    ")\n",
    "\n",
    "training_set = pandas.concat([x_train, y_train], axis=1)\n",
    "testing_set = pandas.concat([x_test, y_test], axis=1)\n",
    "\n",
    "print(len(training_set), len(testing_set))"
   ]
  },
  {
   "cell_type": "markdown",
   "metadata": {},
   "source": [
    "Feature Encoding"
   ]
  },
  {
   "cell_type": "code",
   "execution_count": 229,
   "metadata": {},
   "outputs": [],
   "source": [
    "from sklearn.preprocessing import OrdinalEncoder\n",
    "\n",
    "def encode_living_place_feature(dataset: pandas.DataFrame):\n",
    "    \"\"\"\n",
    "    Function encodes `living place` dataset using Ordinal Encoding \n",
    "    \n",
    "    Args:\n",
    "        dataset: pandas.DataFrame object, containing living_place feature\n",
    "    \"\"\"\n",
    "    if not 'living_place' in dataset.columns: return \n",
    "    living_categories = [\n",
    "        'Co-op apartment',\n",
    "        'Office apartment',\n",
    "        'Municipal apartment',\n",
    "        'House / apartment',\n",
    "        'Rented apartment', \n",
    "        'With parents',\n",
    "    ]\n",
    "    encoder = OrdinalEncoder(dtype=numpy.int8, categories=[living_categories])\n",
    "    dataset['living_place'] = encoder.fit_transform(dataset[['living_place']])\n",
    "\n",
    "\n",
    "def encode_binary_features(feature_dataset: pandas.DataFrame):\n",
    "    \"\"\"\n",
    "    Function encodes binary features (preprocess value labels)\n",
    "    \n",
    "    Args:\n",
    "        feature_dataset (pandas.DataFrame) object, containing values\n",
    "    \"\"\"\n",
    "    binary_features = ['has_realty', 'has_car', 'has_email', 'has_work_phone']\n",
    "    \n",
    "    for feature in binary_features:\n",
    "        feature_dataset[feature].map(\n",
    "            {\n",
    "                \"Y\": True,\n",
    "                \"N\": False\n",
    "            }\n",
    "        )\n",
    "\n",
    "def encode_income_category(feature_dataset: pandas.DataFrame):\n",
    "    \"\"\"\n",
    "    Function encodes 'income_category' feature using One-Hot Encoding \n",
    "\n",
    "    Args:\n",
    "        feature_data (pandas.Series) - feature\n",
    "    \n",
    "    Returns:\n",
    "        dataset, containing new encoded feature\n",
    "    \"\"\"\n",
    "    if not 'income_category' in feature_dataset: return \n",
    "    cats = [\n",
    "        \"Working\",\n",
    "        \"State servant\",\n",
    "        \"Pensioner\",\n",
    "        \"Commercial associate\",\n",
    "        \"Student\"\n",
    "    ]\n",
    "    encoder = OrdinalEncoder(categories=[cats])\n",
    "    feature_dataset['income_category'] = encoder.fit_transform(feature_dataset[['income_category']])\n",
    "\n",
    "def encode_dataset(merged_dataset: pandas.DataFrame):\n",
    "    \"\"\"\n",
    "    Encodes all feature dataset using appropriate\n",
    "    feature encoding techniques \n",
    "    \"\"\"\n",
    "    encode_living_place_feature(merged_dataset)\n",
    "    encode_income_category(merged_dataset)\n",
    "    encode_binary_features(merged_dataset)\n",
    "    return merged_dataset\n",
    "\n",
    "training_set = encode_dataset(training_set)\n",
    "testing_set = encode_dataset(testing_set)\n"
   ]
  },
  {
   "cell_type": "markdown",
   "metadata": {},
   "source": [
    "Removing Redundant and Unncessesary Features, based on Correlation Matrix output\n",
    "Features, that has score under 0.4 would be removed"
   ]
  },
  {
   "cell_type": "code",
   "execution_count": 230,
   "metadata": {},
   "outputs": [
    {
     "name": "stderr",
     "output_type": "stream",
     "text": [
      "/var/folders/gy/ny3nd_gs15z0x1xkkb7gfh8w0000gn/T/ipykernel_8646/1849257230.py:4: SettingWithCopyWarning: \n",
      "A value is trying to be set on a copy of a slice from a DataFrame\n",
      "\n",
      "See the caveats in the documentation: https://pandas.pydata.org/pandas-docs/stable/user_guide/indexing.html#returning-a-view-versus-a-copy\n",
      "  dataset.drop(\n"
     ]
    }
   ],
   "source": [
    "\n",
    "for dataset in [\n",
    "    training_set, testing_set, unlabeled_data\n",
    "]:\n",
    "    dataset.drop(\n",
    "        columns=[\n",
    "            'birthday', \n",
    "            'days_employed', \n",
    "            'total_children',\n",
    "            'has_realty',\n",
    "            'has_car',\n",
    "            'family_status',\n",
    "            'gender',\n",
    "            \"client_id\",\n",
    "            \"job\",\n",
    "            'has_work_phone',\n",
    "            'has_phone_number',\n",
    "            'has_mobile_phone',\n",
    "            'has_email',\n",
    "            'education_category',\n",
    "            'income_category',\n",
    "            'total_overdues',\n",
    "            'avg_overdue_change',\n",
    "            'severe_score',\n",
    "            'overdue_ratio'\n",
    "        ], inplace=True\n",
    "    )"
   ]
  },
  {
   "cell_type": "markdown",
   "metadata": {},
   "source": [
    "Assigning datatypes to the dataset features"
   ]
  },
  {
   "cell_type": "code",
   "execution_count": 231,
   "metadata": {},
   "outputs": [],
   "source": [
    "def set_datatypes(df):\n",
    "    # Numeric Data\n",
    "    df['annual_income'] = df['annual_income'].astype(numpy.int64)\n",
    "    df['age'] = df['age'].astype(numpy.int8)\n",
    "    df['working_years'] = df['working_years'].astype(numpy.int8)\n",
    "\n",
    "    # Categorical Data\n",
    "    df['living_place'] = df['living_place'].astype(numpy.int8)\n",
    "\n",
    "set_datatypes(training_set)\n",
    "set_datatypes(testing_set)"
   ]
  },
  {
   "cell_type": "code",
   "execution_count": 232,
   "metadata": {},
   "outputs": [
    {
     "data": {
      "text/plain": [
       "annual_income              0\n",
       "living_place               0\n",
       "family_size                0\n",
       "age                        0\n",
       "working_years              0\n",
       "employed                   0\n",
       "emp_stability              0\n",
       "has_children               0\n",
       "owns_realty_and_car        0\n",
       "has_contact_information    0\n",
       "credit_window              0\n",
       "bad_client                 0\n",
       "dtype: int64"
      ]
     },
     "execution_count": 232,
     "metadata": {},
     "output_type": "execute_result"
    }
   ],
   "source": [
    "training_set.isna().sum()"
   ]
  },
  {
   "cell_type": "markdown",
   "metadata": {},
   "source": [
    "Balancing training set using SMOTE (Sensitive Minority Oversampling Technique)."
   ]
  },
  {
   "cell_type": "code",
   "execution_count": 233,
   "metadata": {},
   "outputs": [],
   "source": [
    "from imblearn.over_sampling import SMOTE \n",
    "\n",
    "x_data, y_data = training_set.drop(columns=['bad_client']), training_set['bad_client']\n",
    "\n",
    "def balance_dataset(X_data: pandas.DataFrame, Y_data: pandas.Series):\n",
    "    \"\"\"\n",
    "    Function uses SMOTE (Sensitivity Class Over Sampling Technique) to address class imbalance issue\n",
    "    \n",
    "    Args:\n",
    "        X_data: pandas.DataFrame object containing independent features\n",
    "        Y_data: pandas.Series object representing target variable\n",
    "    \"\"\"\n",
    "    encoder = SMOTE(k_neighbors=5, random_state=42)\n",
    "    x_res, y_res = encoder.fit_resample(X=X_data, y=Y_data)\n",
    "    return pandas.concat([x_res, y_res], axis=1)\n",
    "\n",
    "\n",
    "# training_set = balance_dataset(X_data=x_data, Y_data=y_data)"
   ]
  },
  {
   "cell_type": "markdown",
   "metadata": {},
   "source": [
    "Checking balance"
   ]
  },
  {
   "cell_type": "code",
   "execution_count": 234,
   "metadata": {},
   "outputs": [
    {
     "data": {
      "text/plain": [
       "<Axes: xlabel='bad_client', ylabel='count'>"
      ]
     },
     "execution_count": 234,
     "metadata": {},
     "output_type": "execute_result"
    },
    {
     "data": {
      "image/png": "[encoded data removed]",
      "text/plain": [
       "<Figure size 640x480 with 1 Axes>"
      ]
     },
     "metadata": {},
     "output_type": "display_data"
    }
   ],
   "source": [
    "sns.countplot(data=training_set, x='bad_client')"
   ]
  },
  {
   "cell_type": "markdown",
   "metadata": {},
   "source": [
    "Checking correlation between features on training set using Correlation Matrix"
   ]
  },
  {
   "cell_type": "code",
   "execution_count": 235,
   "metadata": {},
   "outputs": [
    {
     "data": {
      "text/plain": [
       "<Axes: >"
      ]
     },
     "execution_count": 235,
     "metadata": {},
     "output_type": "execute_result"
    },
    {
     "data": {
      "image/png": "[encoded data removed]",
      "text/plain": [
       "<Figure size 640x480 with 2 Axes>"
      ]
     },
     "metadata": {},
     "output_type": "display_data"
    }
   ],
   "source": [
    "sns.heatmap(training_set.corr())"
   ]
  },
  {
   "cell_type": "markdown",
   "metadata": {},
   "source": [
    "Checking feature correlation on testing set using Correlation Matrix"
   ]
  },
  {
   "cell_type": "code",
   "execution_count": 236,
   "metadata": {},
   "outputs": [
    {
     "data": {
      "text/plain": [
       "<Axes: >"
      ]
     },
     "execution_count": 236,
     "metadata": {},
     "output_type": "execute_result"
    },
    {
     "data": {
      "image/png": "[encoded data removed]",
      "text/plain": [
       "<Figure size 640x480 with 2 Axes>"
      ]
     },
     "metadata": {},
     "output_type": "display_data"
    }
   ],
   "source": [
    "sns.heatmap(testing_set.corr())"
   ]
  },
  {
   "cell_type": "markdown",
   "metadata": {},
   "source": [
    "Saving new datasets to a CSV Files"
   ]
  },
  {
   "cell_type": "code",
   "execution_count": 237,
   "metadata": {},
   "outputs": [],
   "source": [
    "training_set.to_csv(\"../processed_data/training_set.csv\")\n",
    "testing_set.to_csv('../processed_data/testing_set.csv')"
   ]
  }
 ],
 "metadata": {
  "interpreter": {
   "hash": "8252c0822ef2cc02cb796b0288f75636af74a30098a4c3aaa4f4b3a8d9ec3a9e"
  },
  "kernelspec": {
   "display_name": "Python 3 (ipykernel)",
   "language": "python",
   "name": "python3"
  },
  "language_info": {
   "codemirror_mode": {
    "name": "ipython",
    "version": 3
   },
   "file_extension": ".py",
   "mimetype": "text/x-python",
   "name": "python",
   "nbconvert_exporter": "python",
   "pygments_lexer": "ipython3",
   "version": "3.10.9"
  }
 },
 "nbformat": 4,
 "nbformat_minor": 2
}
