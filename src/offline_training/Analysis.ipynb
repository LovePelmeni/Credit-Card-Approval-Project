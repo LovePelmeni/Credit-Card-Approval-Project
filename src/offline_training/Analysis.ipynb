{
 "cells": [
  {
   "cell_type": "markdown",
   "metadata": {},
   "source": [
    "Project Analysis"
   ]
  },
  {
   "cell_type": "markdown",
   "metadata": {},
   "source": [
    "For this binary classification problem, I decided to choose from Naive Bayes and SVM.\n",
    "Because dataset is highly correlated, it would not be rational to use Random Forest or Decision Trees \n",
    "as they cannot work to full potential with multicollinearity.\n"
   ]
  },
  {
   "cell_type": "code",
   "execution_count": null,
   "metadata": {},
   "outputs": [],
   "source": [
    "import pandas, numpy\n",
    "import matplotlib.pyplot as plt \n",
    "import seaborn as sns\n",
    "import constants\n",
    "from sklearn.model_selection import train_test_split\n",
    "from sklearn.ensemble import RandomForestClassifier\n",
    "from sklearn.tree import DecisionTreeClassifier\n",
    "from sklearn.naive_bayes import BernoulliNB, GaussianNB\n",
    "from sklearn.svm import SVC\n",
    "from sklearn.model_selection import StratifiedKFold"
   ]
  },
  {
   "cell_type": "code",
   "execution_count": 35,
   "metadata": {},
   "outputs": [
    {
     "data": {
      "text/html": [
       "<div>\n",
       "<style scoped>\n",
       "    .dataframe tbody tr th:only-of-type {\n",
       "        vertical-align: middle;\n",
       "    }\n",
       "\n",
       "    .dataframe tbody tr th {\n",
       "        vertical-align: top;\n",
       "    }\n",
       "\n",
       "    .dataframe thead th {\n",
       "        text-align: right;\n",
       "    }\n",
       "</style>\n",
       "<table border=\"1\" class=\"dataframe\">\n",
       "  <thead>\n",
       "    <tr style=\"text-align: right;\">\n",
       "      <th></th>\n",
       "      <th>has_car</th>\n",
       "      <th>has_realty</th>\n",
       "      <th>income_category</th>\n",
       "      <th>education_category</th>\n",
       "      <th>married</th>\n",
       "      <th>living_place</th>\n",
       "      <th>has_mobile_phone</th>\n",
       "      <th>has_work_phone</th>\n",
       "      <th>has_phone</th>\n",
       "      <th>has_email</th>\n",
       "      <th>...</th>\n",
       "      <th>employed</th>\n",
       "      <th>exp_applicant</th>\n",
       "      <th>bad_client</th>\n",
       "      <th>Female</th>\n",
       "      <th>Male</th>\n",
       "      <th>total_children</th>\n",
       "      <th>age</th>\n",
       "      <th>annual_income</th>\n",
       "      <th>family_size</th>\n",
       "      <th>number_of_apps</th>\n",
       "    </tr>\n",
       "  </thead>\n",
       "  <tbody>\n",
       "    <tr>\n",
       "      <th>0</th>\n",
       "      <td>True</td>\n",
       "      <td>True</td>\n",
       "      <td>4</td>\n",
       "      <td>1</td>\n",
       "      <td>True</td>\n",
       "      <td>4</td>\n",
       "      <td>True</td>\n",
       "      <td>True</td>\n",
       "      <td>True</td>\n",
       "      <td>True</td>\n",
       "      <td>...</td>\n",
       "      <td>True</td>\n",
       "      <td>False</td>\n",
       "      <td>False</td>\n",
       "      <td>False</td>\n",
       "      <td>True</td>\n",
       "      <td>-0.580439</td>\n",
       "      <td>0.239169</td>\n",
       "      <td>0.757090</td>\n",
       "      <td>-0.215761</td>\n",
       "      <td>0.0</td>\n",
       "    </tr>\n",
       "    <tr>\n",
       "      <th>1</th>\n",
       "      <td>False</td>\n",
       "      <td>True</td>\n",
       "      <td>4</td>\n",
       "      <td>3</td>\n",
       "      <td>False</td>\n",
       "      <td>4</td>\n",
       "      <td>True</td>\n",
       "      <td>False</td>\n",
       "      <td>False</td>\n",
       "      <td>False</td>\n",
       "      <td>...</td>\n",
       "      <td>True</td>\n",
       "      <td>False</td>\n",
       "      <td>False</td>\n",
       "      <td>True</td>\n",
       "      <td>False</td>\n",
       "      <td>0.816766</td>\n",
       "      <td>-1.165751</td>\n",
       "      <td>-0.687067</td>\n",
       "      <td>-0.215761</td>\n",
       "      <td>0.0</td>\n",
       "    </tr>\n",
       "    <tr>\n",
       "      <th>2</th>\n",
       "      <td>True</td>\n",
       "      <td>True</td>\n",
       "      <td>0</td>\n",
       "      <td>3</td>\n",
       "      <td>True</td>\n",
       "      <td>4</td>\n",
       "      <td>True</td>\n",
       "      <td>False</td>\n",
       "      <td>True</td>\n",
       "      <td>False</td>\n",
       "      <td>...</td>\n",
       "      <td>True</td>\n",
       "      <td>False</td>\n",
       "      <td>False</td>\n",
       "      <td>False</td>\n",
       "      <td>True</td>\n",
       "      <td>-0.580439</td>\n",
       "      <td>1.117244</td>\n",
       "      <td>-0.687067</td>\n",
       "      <td>-0.215761</td>\n",
       "      <td>0.0</td>\n",
       "    </tr>\n",
       "    <tr>\n",
       "      <th>3</th>\n",
       "      <td>True</td>\n",
       "      <td>True</td>\n",
       "      <td>0</td>\n",
       "      <td>3</td>\n",
       "      <td>True</td>\n",
       "      <td>4</td>\n",
       "      <td>True</td>\n",
       "      <td>False</td>\n",
       "      <td>True</td>\n",
       "      <td>False</td>\n",
       "      <td>...</td>\n",
       "      <td>True</td>\n",
       "      <td>False</td>\n",
       "      <td>False</td>\n",
       "      <td>False</td>\n",
       "      <td>True</td>\n",
       "      <td>-0.580439</td>\n",
       "      <td>1.117244</td>\n",
       "      <td>-0.687067</td>\n",
       "      <td>-0.215761</td>\n",
       "      <td>0.0</td>\n",
       "    </tr>\n",
       "    <tr>\n",
       "      <th>4</th>\n",
       "      <td>True</td>\n",
       "      <td>True</td>\n",
       "      <td>0</td>\n",
       "      <td>3</td>\n",
       "      <td>True</td>\n",
       "      <td>4</td>\n",
       "      <td>True</td>\n",
       "      <td>False</td>\n",
       "      <td>True</td>\n",
       "      <td>False</td>\n",
       "      <td>...</td>\n",
       "      <td>True</td>\n",
       "      <td>False</td>\n",
       "      <td>False</td>\n",
       "      <td>False</td>\n",
       "      <td>True</td>\n",
       "      <td>-0.580439</td>\n",
       "      <td>1.117244</td>\n",
       "      <td>-0.687067</td>\n",
       "      <td>-0.215761</td>\n",
       "      <td>0.0</td>\n",
       "    </tr>\n",
       "    <tr>\n",
       "      <th>...</th>\n",
       "      <td>...</td>\n",
       "      <td>...</td>\n",
       "      <td>...</td>\n",
       "      <td>...</td>\n",
       "      <td>...</td>\n",
       "      <td>...</td>\n",
       "      <td>...</td>\n",
       "      <td>...</td>\n",
       "      <td>...</td>\n",
       "      <td>...</td>\n",
       "      <td>...</td>\n",
       "      <td>...</td>\n",
       "      <td>...</td>\n",
       "      <td>...</td>\n",
       "      <td>...</td>\n",
       "      <td>...</td>\n",
       "      <td>...</td>\n",
       "      <td>...</td>\n",
       "      <td>...</td>\n",
       "      <td>...</td>\n",
       "      <td>...</td>\n",
       "    </tr>\n",
       "    <tr>\n",
       "      <th>95</th>\n",
       "      <td>True</td>\n",
       "      <td>False</td>\n",
       "      <td>4</td>\n",
       "      <td>1</td>\n",
       "      <td>True</td>\n",
       "      <td>5</td>\n",
       "      <td>True</td>\n",
       "      <td>True</td>\n",
       "      <td>False</td>\n",
       "      <td>False</td>\n",
       "      <td>...</td>\n",
       "      <td>True</td>\n",
       "      <td>False</td>\n",
       "      <td>False</td>\n",
       "      <td>False</td>\n",
       "      <td>True</td>\n",
       "      <td>-0.580439</td>\n",
       "      <td>-1.341366</td>\n",
       "      <td>-0.191927</td>\n",
       "      <td>-0.215761</td>\n",
       "      <td>0.0</td>\n",
       "    </tr>\n",
       "    <tr>\n",
       "      <th>96</th>\n",
       "      <td>True</td>\n",
       "      <td>False</td>\n",
       "      <td>0</td>\n",
       "      <td>1</td>\n",
       "      <td>True</td>\n",
       "      <td>4</td>\n",
       "      <td>True</td>\n",
       "      <td>True</td>\n",
       "      <td>False</td>\n",
       "      <td>False</td>\n",
       "      <td>...</td>\n",
       "      <td>True</td>\n",
       "      <td>False</td>\n",
       "      <td>False</td>\n",
       "      <td>False</td>\n",
       "      <td>True</td>\n",
       "      <td>2.213972</td>\n",
       "      <td>-0.199868</td>\n",
       "      <td>2.201246</td>\n",
       "      <td>2.025300</td>\n",
       "      <td>0.0</td>\n",
       "    </tr>\n",
       "    <tr>\n",
       "      <th>97</th>\n",
       "      <td>False</td>\n",
       "      <td>True</td>\n",
       "      <td>1</td>\n",
       "      <td>3</td>\n",
       "      <td>True</td>\n",
       "      <td>4</td>\n",
       "      <td>True</td>\n",
       "      <td>False</td>\n",
       "      <td>True</td>\n",
       "      <td>False</td>\n",
       "      <td>...</td>\n",
       "      <td>False</td>\n",
       "      <td>False</td>\n",
       "      <td>False</td>\n",
       "      <td>True</td>\n",
       "      <td>False</td>\n",
       "      <td>-0.580439</td>\n",
       "      <td>1.380667</td>\n",
       "      <td>-0.274450</td>\n",
       "      <td>-0.215761</td>\n",
       "      <td>0.0</td>\n",
       "    </tr>\n",
       "    <tr>\n",
       "      <th>98</th>\n",
       "      <td>False</td>\n",
       "      <td>True</td>\n",
       "      <td>1</td>\n",
       "      <td>3</td>\n",
       "      <td>True</td>\n",
       "      <td>4</td>\n",
       "      <td>True</td>\n",
       "      <td>False</td>\n",
       "      <td>True</td>\n",
       "      <td>False</td>\n",
       "      <td>...</td>\n",
       "      <td>False</td>\n",
       "      <td>False</td>\n",
       "      <td>False</td>\n",
       "      <td>True</td>\n",
       "      <td>False</td>\n",
       "      <td>-0.580439</td>\n",
       "      <td>1.380667</td>\n",
       "      <td>-0.274450</td>\n",
       "      <td>-0.215761</td>\n",
       "      <td>0.0</td>\n",
       "    </tr>\n",
       "    <tr>\n",
       "      <th>99</th>\n",
       "      <td>True</td>\n",
       "      <td>False</td>\n",
       "      <td>4</td>\n",
       "      <td>1</td>\n",
       "      <td>True</td>\n",
       "      <td>4</td>\n",
       "      <td>True</td>\n",
       "      <td>False</td>\n",
       "      <td>False</td>\n",
       "      <td>False</td>\n",
       "      <td>...</td>\n",
       "      <td>True</td>\n",
       "      <td>False</td>\n",
       "      <td>False</td>\n",
       "      <td>True</td>\n",
       "      <td>False</td>\n",
       "      <td>0.816766</td>\n",
       "      <td>-0.990136</td>\n",
       "      <td>-0.274450</td>\n",
       "      <td>0.904770</td>\n",
       "      <td>0.0</td>\n",
       "    </tr>\n",
       "  </tbody>\n",
       "</table>\n",
       "<p>100 rows × 21 columns</p>\n",
       "</div>"
      ],
      "text/plain": [
       "    has_car  has_realty  income_category  education_category  married  \\\n",
       "0      True        True                4                   1     True   \n",
       "1     False        True                4                   3    False   \n",
       "2      True        True                0                   3     True   \n",
       "3      True        True                0                   3     True   \n",
       "4      True        True                0                   3     True   \n",
       "..      ...         ...              ...                 ...      ...   \n",
       "95     True       False                4                   1     True   \n",
       "96     True       False                0                   1     True   \n",
       "97    False        True                1                   3     True   \n",
       "98    False        True                1                   3     True   \n",
       "99     True       False                4                   1     True   \n",
       "\n",
       "    living_place  has_mobile_phone  has_work_phone  has_phone  has_email  ...  \\\n",
       "0              4              True            True       True       True  ...   \n",
       "1              4              True           False      False      False  ...   \n",
       "2              4              True           False       True      False  ...   \n",
       "3              4              True           False       True      False  ...   \n",
       "4              4              True           False       True      False  ...   \n",
       "..           ...               ...             ...        ...        ...  ...   \n",
       "95             5              True            True      False      False  ...   \n",
       "96             4              True            True      False      False  ...   \n",
       "97             4              True           False       True      False  ...   \n",
       "98             4              True           False       True      False  ...   \n",
       "99             4              True           False      False      False  ...   \n",
       "\n",
       "    employed  exp_applicant  bad_client  Female   Male  total_children  \\\n",
       "0       True          False       False   False   True       -0.580439   \n",
       "1       True          False       False    True  False        0.816766   \n",
       "2       True          False       False   False   True       -0.580439   \n",
       "3       True          False       False   False   True       -0.580439   \n",
       "4       True          False       False   False   True       -0.580439   \n",
       "..       ...            ...         ...     ...    ...             ...   \n",
       "95      True          False       False   False   True       -0.580439   \n",
       "96      True          False       False   False   True        2.213972   \n",
       "97     False          False       False    True  False       -0.580439   \n",
       "98     False          False       False    True  False       -0.580439   \n",
       "99      True          False       False    True  False        0.816766   \n",
       "\n",
       "         age  annual_income  family_size  number_of_apps  \n",
       "0   0.239169       0.757090    -0.215761             0.0  \n",
       "1  -1.165751      -0.687067    -0.215761             0.0  \n",
       "2   1.117244      -0.687067    -0.215761             0.0  \n",
       "3   1.117244      -0.687067    -0.215761             0.0  \n",
       "4   1.117244      -0.687067    -0.215761             0.0  \n",
       "..       ...            ...          ...             ...  \n",
       "95 -1.341366      -0.191927    -0.215761             0.0  \n",
       "96 -0.199868       2.201246     2.025300             0.0  \n",
       "97  1.380667      -0.274450    -0.215761             0.0  \n",
       "98  1.380667      -0.274450    -0.215761             0.0  \n",
       "99 -0.990136      -0.274450     0.904770             0.0  \n",
       "\n",
       "[100 rows x 21 columns]"
      ]
     },
     "execution_count": 35,
     "metadata": {},
     "output_type": "execute_result"
    }
   ],
   "source": [
    "feature_dataset = pandas.read_csv(\"ready_dataset.csv\").drop(columns=['client_id', 'Unnamed: 0'])\n",
    "feature_dataset.head(100)"
   ]
  },
  {
   "cell_type": "markdown",
   "metadata": {},
   "source": [
    "Correlation between features"
   ]
  },
  {
   "cell_type": "code",
   "execution_count": 38,
   "metadata": {},
   "outputs": [
    {
     "data": {
      "text/plain": [
       "<Axes: >"
      ]
     },
     "execution_count": 38,
     "metadata": {},
     "output_type": "execute_result"
    },
    {
     "data": {
      "image/png": "[encoded data removed]",
      "text/plain": [
       "<Figure size 640x480 with 2 Axes>"
      ]
     },
     "metadata": {},
     "output_type": "display_data"
    }
   ],
   "source": [
    "sns.heatmap(feature_dataset.corr())"
   ]
  },
  {
   "cell_type": "code",
   "execution_count": 36,
   "metadata": {},
   "outputs": [],
   "source": [
    "# Splitting data into training, testing and validation sets \n",
    "from sklearn.model_selection import train_test_split \n",
    "\n",
    "def split_data(feature_dataset):\n",
    "    \n",
    "    x_set, y_set = feature_dataset.drop(columns=[\"bad_client\"], inplace=False), feature_dataset['bad_client']\n",
    "\n",
    "    # Splitting into training and test sets\n",
    "    x_train, x_test, y_train, y_test = train_test_split(\n",
    "    x_set, y_set, test_size=0.2, stratify=y_set, random_state=1)\n",
    "\n",
    "    # Splitting into training and validation sets \n",
    "    x_train, validation_x_set, y_train, validation_y_set = train_test_split(\n",
    "    x_train, y_train, test_size=0.4, stratify=y_train, random_state=1)\n",
    "\n",
    "    x_train, x_hyper_testing, y_train, y_hyper_testing = train_test_split(\n",
    "        x_train, y_train, test_size=0.5, stratify=y_train, random_state=1\n",
    "    )\n",
    "    return (x_train, y_train), (x_test, y_test), (x_hyper_testing, y_hyper_testing), (validation_x_set, validation_y_set)\n",
    "\n",
    "training_set, test_set, hyper_testing_set, validation_set = split_data(feature_dataset)"
   ]
  },
  {
   "cell_type": "code",
   "execution_count": 37,
   "metadata": {},
   "outputs": [
    {
     "data": {
      "text/plain": [
       "113696"
      ]
     },
     "execution_count": 37,
     "metadata": {},
     "output_type": "execute_result"
    }
   ],
   "source": [
    "len(training_set[0])"
   ]
  },
  {
   "cell_type": "markdown",
   "metadata": {},
   "source": [
    "Feature Selection using various methods (ANOVA, RFE, Permutation Importance)"
   ]
  },
  {
   "cell_type": "code",
   "execution_count": 23,
   "metadata": {},
   "outputs": [],
   "source": [
    "test_models = {\n",
    "    'b_naive_bayes': BernoulliNB(),\n",
    "    'g_naive_bayes': GaussianNB(),\n",
    "    'svm': SVC()\n",
    "}"
   ]
  },
  {
   "cell_type": "code",
   "execution_count": 24,
   "metadata": {},
   "outputs": [],
   "source": [
    "feature_importances = {}"
   ]
  },
  {
   "cell_type": "markdown",
   "metadata": {},
   "source": [
    "Feature Selection for Naive Bayes (Bernoulli)"
   ]
  },
  {
   "cell_type": "code",
   "execution_count": null,
   "metadata": {},
   "outputs": [],
   "source": []
  },
  {
   "cell_type": "code",
   "execution_count": null,
   "metadata": {},
   "outputs": [],
   "source": []
  },
  {
   "cell_type": "markdown",
   "metadata": {},
   "source": [
    "Feature Selection for Naive Bayes (Gaussian)"
   ]
  },
  {
   "cell_type": "code",
   "execution_count": null,
   "metadata": {},
   "outputs": [],
   "source": []
  },
  {
   "cell_type": "markdown",
   "metadata": {},
   "source": [
    "Feature Selection for Support Vector Machine Classifier"
   ]
  },
  {
   "cell_type": "code",
   "execution_count": 32,
   "metadata": {},
   "outputs": [
    {
     "name": "stdout",
     "output_type": "stream",
     "text": [
      "finding features for decision_tree algorithm....\n",
      "finding features for random_forest algorithm....\n"
     ]
    },
    {
     "data": {
      "text/plain": [
       "{DecisionTreeClassifier(): {'features': Index(['has_car', 'has_realty', 'income_category', 'education_category',\n",
       "         'married', 'has_work_phone', 'has_phone', 'job', 'Female', 'Male',\n",
       "         'total_children', 'age', 'annual_income', 'family_size'],\n",
       "        dtype='object'),\n",
       "  'metrics': {'mean_test_score': array([0.98148573, 0.98167043, 0.98462565, 0.98810865, 0.98893541,\n",
       "          0.98930482, 0.98923445, 0.98923445, 0.98910252]),\n",
       "   'std_test_score': array([0.00093145, 0.00098691, 0.00231596, 0.00075477, 0.00066311,\n",
       "          0.00088362, 0.00080674, 0.00081059, 0.00080294]),\n",
       "   'split0_test_score': array([0.98038698, 0.98082674, 0.98720317, 0.98742304, 0.9882146 ,\n",
       "          0.98887423, 0.98883026, 0.98905013, 0.98905013]),\n",
       "   'split1_test_score': array([0.98183737, 0.98210124, 0.9872026 , 0.98847795, 0.98970931,\n",
       "          0.99032499, 0.98962136, 0.99023704, 0.9899292 ]),\n",
       "   'split2_test_score': array([0.98056203, 0.98091385, 0.98346453, 0.98707067, 0.98878579,\n",
       "          0.98838999, 0.98808215, 0.98821408, 0.98799419]),\n",
       "   'split3_test_score': array([0.9829368 , 0.98342055, 0.98408021, 0.9891376 , 0.98970931,\n",
       "          0.99041295, 0.9905009 , 0.99010511, 0.99006113]),\n",
       "   'split4_test_score': array([0.98170544, 0.98108976, 0.98117771, 0.98843397, 0.98825806,\n",
       "          0.98852192, 0.9891376 , 0.9885659 , 0.98847795])}},\n",
       " RandomForestClassifier(): {'features': Index(['has_car', 'has_realty', 'income_category', 'education_category',\n",
       "         'married', 'living_place', 'has_mobile_phone', 'has_work_phone',\n",
       "         'has_phone', 'has_email', 'job', 'employed', 'Female', 'Male',\n",
       "         'total_children', 'age', 'annual_income', 'family_size'],\n",
       "        dtype='object'),\n",
       "  'metrics': {'mean_test_score': array([0.981301  , 0.98386927, 0.98904975, 0.99080883, 0.99262947,\n",
       "          0.99382564, 0.99457325, 0.99487229, 0.99482832]),\n",
       "   'std_test_score': array([0.00165854, 0.00064354, 0.00069133, 0.00096386, 0.00084705,\n",
       "          0.00087318, 0.00069733, 0.00063884, 0.00049567]),\n",
       "   'split0_test_score': array([0.98227792, 0.98372911, 0.98834653, 0.99041337, 0.99195251,\n",
       "          0.99362357, 0.9944591 , 0.9944591 , 0.99472296]),\n",
       "   'split1_test_score': array([0.98306874, 0.98377237, 0.98838999, 0.99045692, 0.99265579,\n",
       "          0.99432693, 0.99467875, 0.99507454, 0.99533841]),\n",
       "   'split2_test_score': array([0.98223317, 0.98280487, 0.98926954, 0.98975329, 0.99195215,\n",
       "          0.99300761, 0.99375522, 0.9943709 , 0.99410704]),\n",
       "   'split3_test_score': array([0.97845112, 0.9846959 , 0.99023704, 0.99261181, 0.99423897,\n",
       "          0.99525045, 0.99582216, 0.99604204, 0.99542636]),\n",
       "   'split4_test_score': array([0.98047408, 0.98434408, 0.98900567, 0.99080874, 0.99234795,\n",
       "          0.99291965, 0.99415102, 0.99441488, 0.99454681])}}}"
      ]
     },
     "execution_count": 32,
     "metadata": {},
     "output_type": "execute_result"
    }
   ],
   "source": [
    "from sklearn.feature_selection import RFECV \n",
    "\n",
    "def extract_using_rfe(x_train, y_train, model):\n",
    "    # initializing estimator for KNN Algorithm\n",
    "    estimator = RFECV(\n",
    "        estimator=model, \n",
    "        step=2, min_features_to_select=5,\n",
    "        cv=StratifiedKFold(n_splits=5),\n",
    "        scoring='accuracy',\n",
    "    )\n",
    "\n",
    "    # fitting the model \n",
    "    estimator.fit(x_train, y_train)\n",
    "    \n",
    "    features_idxs = list(\n",
    "        filter(\n",
    "            lambda feature: estimator.support_[feature] == True,\n",
    "            range(len(x_train.columns))\n",
    "        )\n",
    "    )\n",
    "    feature_func = (lambda feature: x_train.columns[feature])\n",
    "    res = {\n",
    "        'features': feature_func(features_idxs),\n",
    "        'metrics': numpy.mean(estimator.cv_results_['mean_test_score'])    \n",
    "    }\n",
    "    feature_importances[model] = res\n",
    "\n",
    "for model in ['decision_tree', 'random_forest']:\n",
    "    print('finding features for %s algorithm....' % model)\n",
    "    extract_using_rfe(\n",
    "        x_train=training_set[0],\n",
    "        y_train=training_set[1],\n",
    "        model=test_models[model]\n",
    "    )\n",
    "\n",
    "feature_importances\n"
   ]
  },
  {
   "cell_type": "code",
   "execution_count": null,
   "metadata": {},
   "outputs": [],
   "source": []
  },
  {
   "cell_type": "code",
   "execution_count": 239,
   "metadata": {},
   "outputs": [
    {
     "name": "stdout",
     "output_type": "stream",
     "text": [
      "training knn...\n",
      "training decision_tree...\n",
      "training random_forest...\n"
     ]
    },
    {
     "data": {
      "text/plain": [
       "{'knn': {'params': {'metric': 'manhattan',\n",
       "   'n_neighbors': 19,\n",
       "   'weights': 'uniform'},\n",
       "  'loss_score': -0.42339764104353916},\n",
       " 'decision_tree': {'params': {'criterion': 'gini',\n",
       "   'max_depth': 20,\n",
       "   'min_samples_leaf': 50},\n",
       "  'loss_score': -0.38160939882342126},\n",
       " 'random_forest': {'params': {'bootstrap': False,\n",
       "   'max_depth': 10,\n",
       "   'max_features': 'sqrt',\n",
       "   'min_samples_leaf': 1,\n",
       "   'min_samples_split': 2,\n",
       "   'n_estimators': 100},\n",
       "  'loss_score': -0.33198764680368625}}"
      ]
     },
     "execution_count": 239,
     "metadata": {},
     "output_type": "execute_result"
    }
   ],
   "source": [
    "# Selecting models and apply hyperparameter tuning\n",
    "\n",
    "from sklearn.ensemble import RandomForestClassifier\n",
    "from sklearn.tree import DecisionTreeClassifier\n",
    "\n",
    "from sklearn.model_selection import StratifiedKFold, GridSearchCV\n",
    "from sklearn.metrics import make_scorer, log_loss\n",
    "\n",
    "\n",
    "models = {\n",
    "    \"decision_tree\": DecisionTreeClassifier,\n",
    "    'random_forest': RandomForestClassifier,\n",
    "}\n",
    "\n",
    "models_hyper_information = {\n",
    "\n",
    "    \"decision_tree\": {\n",
    "        'max_depth': numpy.array([2, 3, 5, 10, 20]),\n",
    "        'min_samples_leaf': numpy.array([5, 10, 20, 50, 100]),\n",
    "        'criterion': [\"gini\", \"entropy\"],\n",
    "    },\n",
    "    'random_forest': {\n",
    "        \n",
    "        'n_estimators': numpy.array([5, 20, 50, 100]),\n",
    "\n",
    "        'max_features': ['sqrt'],\n",
    "\n",
    "        'max_depth': numpy.arange(10, 20, 10),\n",
    "\n",
    "        'min_samples_split': numpy.array([2, 6, 10]),\n",
    "\n",
    "        'min_samples_leaf': numpy.array([1, 3, 4]),\n",
    "\n",
    "        'bootstrap': [True, False],\n",
    "    }\n",
    "\n",
    "}\n",
    "\n",
    "optimal_hyper_parameters = {model: {} for model in models.keys()} \n",
    "\n",
    "loss_function = make_scorer(log_loss, greater_is_better=False, needs_proba=True)\n",
    "\n",
    "\n",
    "def apply_informed_search_cv(\n",
    "    x_set: pandas.DataFrame, \n",
    "    y_set: pandas.Series, \n",
    "    model_name: str, \n",
    "    hyperparams: typing.Dict,\n",
    "    error_score,\n",
    "    folds=10\n",
    "):\n",
    "    \"\"\"\n",
    "    Function applies HyperParameter Tuning using InformedSearch, based on Bayesian Search\n",
    "    \n",
    "    Args:\n",
    "        1. x_set: pandas.DataFrame object, represents set of independent features,\n",
    "        2. y_set: pandas.Series object, represents target feature,\n",
    "        3. model: Machine Learning Model for tuning,\n",
    "        4. folds: number of splits for cross-validation,\n",
    "        5. hyperparams: default hyperparams of the model\n",
    "        6. metric: priority metric for the model\n",
    "        7. error_score: Scoring Function for error\n",
    "    \"\"\"\n",
    "    \n",
    "    if not len(x_set) or not len(y_set):\n",
    "        raise ValueError(\"X or Y datasets are empty\")\n",
    "        \n",
    "    new_cvs = GridSearchCV(\n",
    "        estimator=models[model_name](),\n",
    "        param_grid=hyperparams,\n",
    "        scoring=error_score,\n",
    "        cv=StratifiedKFold(n_splits=folds),\n",
    "        error_score=\"raise\",\n",
    "        n_jobs=-1,\n",
    "    )\n",
    "    new_cvs.fit(x_set, y_set)\n",
    "    \n",
    "    # the lower loss score is, the better model performs \n",
    "    \n",
    "    optimal_hyper_parameters[model_name][\"params\"] = new_cvs.best_params_\n",
    "    optimal_hyper_parameters[model_name][\"loss_score\"] = new_cvs.best_score_\n",
    "    \n",
    "    \n",
    "# Applying Hyperparameter tuning for each model\n",
    "\n",
    "for model in models.keys():\n",
    "    try:\n",
    "        print('training %s...' % (model))\n",
    "        apply_informed_search_cv(\n",
    "            x_set=training_set[0],\n",
    "            y_set=training_set[1],\n",
    "            model_name=model,\n",
    "            folds=10,\n",
    "            hyperparams=models_hyper_information[model],\n",
    "            error_score=loss_function,\n",
    "        )\n",
    "    except(KeyError) as err:\n",
    "        raise NotImplemented\n",
    "\n",
    "# Applying Hyperparameter Tuning for each model in the dataset\n",
    "\n",
    "optimal_models = {\n",
    "    model_name: models[model_name](**optimal_hyper_parameters[model_name][\"params\"])\n",
    "    for model_name in models.keys()\n",
    "}\n",
    "\n",
    "optimal_hyper_parameters"
   ]
  },
  {
   "cell_type": "code",
   "execution_count": 209,
   "metadata": {},
   "outputs": [],
   "source": [
    "# let's explore each model on different decision thresholds \n",
    "\n",
    "from sklearn.metrics import precision_recall_curve, auc\n",
    "\n",
    "\n",
    "def evaluate_precision_recall_tradeoff(model, X_data, Y_data):\n",
    "    \"\"\"\n",
    "    Functions evaluates tradeoff between precision and recall, \n",
    "    based on model's performance\n",
    "    \n",
    "    Args:\n",
    "        model: Machine Learing Classifier for evaluation \n",
    "        X_data: feature set of dependent features\n",
    "        Y_data: independent feature\n",
    "        \n",
    "    Returns:\n",
    "        precision: precision scores of the model\n",
    "        recall: - recall scores of the model\n",
    "        auc_scr: auc scores\n",
    "        thresholds: decision thresholds used for each individual training\n",
    "    \"\"\"\n",
    "    x_tr, x_t, y_tr, y_t = train_test_split(X_data, Y_data, test_size=0.5, random_state=1)\n",
    "    \n",
    "    model.fit(x_tr, y_tr)\n",
    "    y_pred_proba = model.predict_proba(x_t)[:, 1] # positive class prediction proba\n",
    "    precision, recall, thresholds = precision_recall_curve(y_t, y_pred_proba)\n",
    "    auc_scr = auc(recall, precision)\n",
    "    return precision, recall, auc_scr, thresholds\n",
    "\n",
    "def get_auc_score(y_test, y_pred):\n",
    "    return auc(y_test, y_pred)\n",
    "\n",
    "def visualize_pr_tradeoff(precision, recall, auc_score):\n",
    "    \"\"\"\n",
    "    Visualizes Precision-Recall Tradeoff using plot\n",
    "    \"\"\"\n",
    "    plt.plot(recall, precision, label='Precision-Recall Curve (AUC = %0.2f)' % auc_score)\n",
    "    plt.xlabel('Recall')\n",
    "    plt.ylabel('Precision')\n",
    "    plt.title('Precision-Recall Curve')\n",
    "    plt.legend(loc='lower left')\n",
    "    plt.grid(True)\n",
    "    plt.show()\n"
   ]
  },
  {
   "cell_type": "code",
   "execution_count": 210,
   "metadata": {},
   "outputs": [],
   "source": [
    "# also, let's add functionality for interpolating threshold using scipy library\n",
    "\n",
    "from scipy.interpolate import interp1d\n",
    "\n",
    "def interpolate_threshold(desired_precision: int, actual_precision, actual_recall) -> float:\n",
    "    \"\"\"\n",
    "    Function performs linear interpolation using scipy library \n",
    "    for predicting decision threshold value\n",
    "    \n",
    "    Args:\n",
    "        desired_precision: int - percentage of desired precision \n",
    "        actual_precision: array of precision values \n",
    "        actual_recall: array of recall values\n",
    "        \n",
    "    Returns:\n",
    "        estimated threshold float value\n",
    "    \"\"\"\n",
    "    inter_function = interp1d(actual_precision, actual_recall)\n",
    "    est_threshold = inter_function(desired_precision)\n",
    "    return est_threshold\n"
   ]
  },
  {
   "cell_type": "code",
   "execution_count": 252,
   "metadata": {},
   "outputs": [
    {
     "data": {
      "image/png": "[encoded data removed]",
      "text/plain": [
       "<Figure size 640x480 with 1 Axes>"
      ]
     },
     "metadata": {},
     "output_type": "display_data"
    }
   ],
   "source": [
    "# evaluating thresholds for KNN \n",
    "\n",
    "model = optimal_models[\"knn\"]\n",
    "\n",
    "precision, recall, auc_score, thresholds = evaluate_precision_recall_tradeoff(\n",
    "    model, validation_set[0], validation_set[1]\n",
    ")\n",
    "        \n",
    "visualize_pr_tradeoff(precision, recall, auc_score)"
   ]
  },
  {
   "cell_type": "code",
   "execution_count": 1,
   "metadata": {},
   "outputs": [
    {
     "ename": "NameError",
     "evalue": "name 'interpolate_threshold' is not defined",
     "output_type": "error",
     "traceback": [
      "\u001b[0;31m---------------------------------------------------------------------------\u001b[0m",
      "\u001b[0;31mNameError\u001b[0m                                 Traceback (most recent call last)",
      "Cell \u001b[0;32mIn[1], line 3\u001b[0m\n\u001b[1;32m      1\u001b[0m \u001b[38;5;66;03m# predicting desired precision for our model \u001b[39;00m\n\u001b[1;32m      2\u001b[0m desired_precision \u001b[38;5;241m=\u001b[39m \u001b[38;5;241m0.65\u001b[39m\n\u001b[0;32m----> 3\u001b[0m knn_threshold \u001b[38;5;241m=\u001b[39m \u001b[43minterpolate_threshold\u001b[49m(desired_precision, precision, recall)\n\u001b[1;32m      5\u001b[0m \u001b[38;5;28mprint\u001b[39m(knn_threshold)\n",
      "\u001b[0;31mNameError\u001b[0m: name 'interpolate_threshold' is not defined"
     ]
    }
   ],
   "source": [
    "# predicting desired precision for our model \n",
    "desired_precision = 0.65\n",
    "knn_threshold = interpolate_threshold(desired_precision, precision, recall)\n",
    "\n",
    "print(knn_threshold)"
   ]
  },
  {
   "cell_type": "code",
   "execution_count": 242,
   "metadata": {},
   "outputs": [
    {
     "data": {
      "image/png": "[encoded data removed]",
      "text/plain": [
       "<Figure size 640x480 with 1 Axes>"
      ]
     },
     "metadata": {},
     "output_type": "display_data"
    }
   ],
   "source": [
    "# let's visualize Decision Tree \n",
    "# evaluating thresholds for KNN \n",
    "\n",
    "\n",
    "model = optimal_models[\"decision_tree\"]\n",
    "\n",
    "precision, recall, auc_score, thresholds = evaluate_precision_recall_tradeoff(\n",
    "    model, validation_set[0], validation_set[1]\n",
    ")\n",
    "        \n",
    "visualize_pr_tradeoff(precision, recall, auc_score)\n"
   ]
  },
  {
   "cell_type": "code",
   "execution_count": 243,
   "metadata": {},
   "outputs": [
    {
     "name": "stdout",
     "output_type": "stream",
     "text": [
      "0.9802704352822738\n"
     ]
    }
   ],
   "source": [
    "# Let's calculate threshold for Decision Tree \n",
    "\n",
    "desired_precision = 0.6\n",
    "dt_threshold = interpolate_threshold(desired_precision, precision, recall)\n",
    "\n",
    "print(dt_threshold)"
   ]
  },
  {
   "cell_type": "code",
   "execution_count": 244,
   "metadata": {},
   "outputs": [
    {
     "data": {
      "image/png": "[encoded data removed]",
      "text/plain": [
       "<Figure size 640x480 with 1 Axes>"
      ]
     },
     "metadata": {},
     "output_type": "display_data"
    }
   ],
   "source": [
    "# evaluating thresholds for Random Forest\n",
    "\n",
    "model = optimal_models[\"random_forest\"]\n",
    "\n",
    "precision, recall, auc_score, thresholds = evaluate_precision_recall_tradeoff(\n",
    "    model, validation_set[0], validation_set[1]\n",
    ")\n",
    "        \n",
    "visualize_pr_tradeoff(precision, recall, auc_score)"
   ]
  },
  {
   "cell_type": "code",
   "execution_count": null,
   "metadata": {},
   "outputs": [],
   "source": []
  },
  {
   "cell_type": "code",
   "execution_count": 245,
   "metadata": {},
   "outputs": [
    {
     "data": {
      "text/plain": [
       "{'knn': {'precision_score': 0.8058856061770301,\n",
       "  'recall_score': 0.8875844898179803,\n",
       "  'accuracy': 0.8368407135567676},\n",
       " 'decision_tree': {'precision_score': 0.8005833276030193,\n",
       "  'recall_score': 0.8070199181114279,\n",
       "  'accuracy': 0.8029528328027954},\n",
       " 'random_forest': {'precision_score': 0.8441852697687908,\n",
       "  'recall_score': 0.8621265354107266,\n",
       "  'accuracy': 0.8514299689787311}}"
      ]
     },
     "execution_count": 245,
     "metadata": {},
     "output_type": "execute_result"
    }
   ],
   "source": [
    "from sklearn.model_selection import cross_validate \n",
    "\n",
    "scorers = [\"precision\", \"recall\", \"accuracy\"]\n",
    "metrics = {} \n",
    "\n",
    "for model in optimal_models.keys():\n",
    "    scores = cross_validate(\n",
    "        estimator=optimal_models[model],\n",
    "        X=validation_set[0],\n",
    "        y=validation_set[1],\n",
    "        scoring=scorers\n",
    "    )\n",
    "    metrics[model] = {\n",
    "        \"precision_score\": numpy.mean(scores['test_precision']),\n",
    "        \"recall_score\": numpy.mean(scores['test_recall']),\n",
    "        \"accuracy\": numpy.mean(scores[\"test_accuracy\"])\n",
    "    }\n",
    "\n",
    "metrics"
   ]
  },
  {
   "cell_type": "code",
   "execution_count": 255,
   "metadata": {},
   "outputs": [
    {
     "name": "stdout",
     "output_type": "stream",
     "text": [
      "knn\n",
      "precision-score 0.9900891166905408\n",
      "recall-score 0.4843413410623169\n",
      "accuracy-score 0.7397204639634065\n",
      "decision_tree\n",
      "precision-score 0.9979306466051439\n",
      "recall-score 0.40196661476066564\n",
      "accuracy-score 0.700554565389337\n",
      "random_forest\n",
      "precision-score 1.0\n",
      "recall-score 0.16712027257704293\n",
      "accuracy-score 0.5835456715308646\n"
     ]
    }
   ],
   "source": [
    "# let's apply cross-validation and see how it performs on data\n",
    "\n",
    "from sklearn.model_selection import cross_validate \n",
    "from sklearn.metrics import (\n",
    "    precision_score, recall_score, accuracy_score\n",
    ")\n",
    "\n",
    "X_data, Y_data = validation_set[0], validation_set[1]\n",
    "\n",
    "def cross_validate_with_threshold(cv, model_name, X_train, Y_train):\n",
    "\n",
    "    model = optimal_models[model_name]\n",
    "    precision_scores, recall_scores, accuracy_scores = [], [], []\n",
    "\n",
    "    for train_index, test_index in cv.split(test_set[0], test_set[1]):\n",
    "\n",
    "        X_train, X_test = test_set[0].iloc[train_index], test_set[0].iloc[test_index]\n",
    "        Y_train, Y_test = test_set[1].iloc[train_index], test_set[1].iloc[test_index]\n",
    "        \n",
    "        # fitting model \n",
    "        model.fit(X_train, Y_train)\n",
    "        y_pred = model.predict(X_test)\n",
    "        \n",
    "        probs = numpy.array(model.predict_proba(X_test))[:, 1] # positive class prediction \n",
    "\n",
    "        # Applying threshold\n",
    "        y_transformed = (probs >= dt_threshold).astype(int)\n",
    "\n",
    "        precision = precision_score(Y_test, y_transformed, average='binary', zero_division=1)\n",
    "        recall = recall_score(Y_test, y_transformed, average='binary', zero_division=1)\n",
    "        accuracy = accuracy_score(Y_test, y_transformed)\n",
    "\n",
    "        precision_scores.append(precision)\n",
    "        recall_scores.append(recall)\n",
    "        accuracy_scores.append(accuracy)\n",
    "\n",
    "    prec = sum(precision_scores) / len(precision_scores)\n",
    "    rec = sum(recall_scores) / len(precision_scores)\n",
    "    acc = sum(accuracy_scores) / len(accuracy_scores)\n",
    "\n",
    "    print(model_name)\n",
    "    print('precision-score', prec)\n",
    "    print('recall-score', rec)\n",
    "    print('accuracy-score', acc)\n",
    "\n",
    "\n",
    "for model_name in optimal_models.keys():\n",
    "    cross_validate_with_threshold(\n",
    "        model_name=model_name,\n",
    "        cv=StratifiedKFold(n_splits=5),\n",
    "        X_train=X_data,\n",
    "        Y_train=Y_data,\n",
    "    )"
   ]
  },
  {
   "cell_type": "code",
   "execution_count": 258,
   "metadata": {},
   "outputs": [
    {
     "data": {
      "text/plain": [
       "Index(['Male', 'has_car', 'Married', 'Female', 'has_realty', 'bad_client',\n",
       "       'credit_window', 'annual_income', 'total_children'],\n",
       "      dtype='object')"
      ]
     },
     "execution_count": 258,
     "metadata": {},
     "output_type": "execute_result"
    }
   ],
   "source": [
    "feature_dataset.columns"
   ]
  },
  {
   "cell_type": "code",
   "execution_count": 257,
   "metadata": {},
   "outputs": [],
   "source": [
    "# saving machine learning model using pickle \n",
    "import pickle \n",
    "model = optimal_models[\"knn\"]\n",
    "pickle.dump(model, open(\"classifier.pkl\", mode=\"wb\"))"
   ]
  },
  {
   "cell_type": "code",
   "execution_count": null,
   "metadata": {},
   "outputs": [],
   "source": []
  },
  {
   "cell_type": "code",
   "execution_count": null,
   "metadata": {},
   "outputs": [],
   "source": []
  },
  {
   "cell_type": "code",
   "execution_count": null,
   "metadata": {},
   "outputs": [],
   "source": []
  },
  {
   "cell_type": "code",
   "execution_count": null,
   "metadata": {},
   "outputs": [],
   "source": []
  }
 ],
 "metadata": {
  "interpreter": {
   "hash": "953cdab6cce91cb4ff4265ecd1f71841d0f3ed6f837521e1b030c6273aab7b8e"
  },
  "kernelspec": {
   "display_name": "Python 3.10.9 ('fn_env': venv)",
   "language": "python",
   "name": "python3"
  },
  "language_info": {
   "codemirror_mode": {
    "name": "ipython",
    "version": 3
   },
   "file_extension": ".py",
   "mimetype": "text/x-python",
   "name": "python",
   "nbconvert_exporter": "python",
   "pygments_lexer": "ipython3",
   "version": "3.10.9"
  }
 },
 "nbformat": 4,
 "nbformat_minor": 2
}
