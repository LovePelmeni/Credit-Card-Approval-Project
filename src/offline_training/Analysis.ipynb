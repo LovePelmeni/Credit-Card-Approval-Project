{
 "cells": [
  {
   "cell_type": "markdown",
   "metadata": {},
   "source": [
    "Project Analysis"
   ]
  },
  {
   "cell_type": "code",
   "execution_count": 1,
   "metadata": {},
   "outputs": [],
   "source": [
    "import pandas, numpy\n",
    "import seaborn as sns\n",
    "from sklearn.model_selection import StratifiedKFold\n",
    "import xgboost as xgb"
   ]
  },
  {
   "cell_type": "code",
   "execution_count": 2,
   "metadata": {},
   "outputs": [
    {
     "name": "stdout",
     "output_type": "stream",
     "text": [
      "15786 12916\n"
     ]
    }
   ],
   "source": [
    "training_set = pandas.read_csv(\"../processed_data/training_set.csv\")\n",
    "testing_set = pandas.read_csv(\"../processed_data/testing_set.csv\")\n",
    "\n",
    "print(len(training_set), len(testing_set))\n"
   ]
  },
  {
   "cell_type": "code",
   "execution_count": 3,
   "metadata": {},
   "outputs": [],
   "source": [
    "for dataset in [training_set, testing_set]:\n",
    "    dataset.drop(columns=['Unnamed: 0'], inplace=True)"
   ]
  },
  {
   "cell_type": "code",
   "execution_count": 4,
   "metadata": {},
   "outputs": [
    {
     "data": {
      "text/html": [
       "<div>\n",
       "<style scoped>\n",
       "    .dataframe tbody tr th:only-of-type {\n",
       "        vertical-align: middle;\n",
       "    }\n",
       "\n",
       "    .dataframe tbody tr th {\n",
       "        vertical-align: top;\n",
       "    }\n",
       "\n",
       "    .dataframe thead th {\n",
       "        text-align: right;\n",
       "    }\n",
       "</style>\n",
       "<table border=\"1\" class=\"dataframe\">\n",
       "  <thead>\n",
       "    <tr style=\"text-align: right;\">\n",
       "      <th></th>\n",
       "      <th>annual_income</th>\n",
       "      <th>education_category</th>\n",
       "      <th>living_place</th>\n",
       "      <th>family_size</th>\n",
       "      <th>age</th>\n",
       "      <th>working_years</th>\n",
       "      <th>employed</th>\n",
       "      <th>emp_stability</th>\n",
       "      <th>has_children</th>\n",
       "      <th>owns_realty_and_car</th>\n",
       "      <th>has_contact_information</th>\n",
       "      <th>credit_window</th>\n",
       "      <th>bad_client</th>\n",
       "    </tr>\n",
       "  </thead>\n",
       "  <tbody>\n",
       "    <tr>\n",
       "      <th>0</th>\n",
       "      <td>220500</td>\n",
       "      <td>3.0</td>\n",
       "      <td>3</td>\n",
       "      <td>1.0</td>\n",
       "      <td>47</td>\n",
       "      <td>1</td>\n",
       "      <td>True</td>\n",
       "      <td>False</td>\n",
       "      <td>False</td>\n",
       "      <td>False</td>\n",
       "      <td>True</td>\n",
       "      <td>10</td>\n",
       "      <td>False</td>\n",
       "    </tr>\n",
       "    <tr>\n",
       "      <th>1</th>\n",
       "      <td>360000</td>\n",
       "      <td>3.0</td>\n",
       "      <td>3</td>\n",
       "      <td>2.0</td>\n",
       "      <td>34</td>\n",
       "      <td>11</td>\n",
       "      <td>True</td>\n",
       "      <td>True</td>\n",
       "      <td>False</td>\n",
       "      <td>False</td>\n",
       "      <td>False</td>\n",
       "      <td>35</td>\n",
       "      <td>False</td>\n",
       "    </tr>\n",
       "    <tr>\n",
       "      <th>2</th>\n",
       "      <td>202500</td>\n",
       "      <td>2.0</td>\n",
       "      <td>3</td>\n",
       "      <td>2.0</td>\n",
       "      <td>43</td>\n",
       "      <td>11</td>\n",
       "      <td>True</td>\n",
       "      <td>True</td>\n",
       "      <td>False</td>\n",
       "      <td>True</td>\n",
       "      <td>True</td>\n",
       "      <td>38</td>\n",
       "      <td>False</td>\n",
       "    </tr>\n",
       "    <tr>\n",
       "      <th>3</th>\n",
       "      <td>135000</td>\n",
       "      <td>3.0</td>\n",
       "      <td>3</td>\n",
       "      <td>3.0</td>\n",
       "      <td>46</td>\n",
       "      <td>3</td>\n",
       "      <td>True</td>\n",
       "      <td>False</td>\n",
       "      <td>True</td>\n",
       "      <td>False</td>\n",
       "      <td>False</td>\n",
       "      <td>5</td>\n",
       "      <td>False</td>\n",
       "    </tr>\n",
       "    <tr>\n",
       "      <th>4</th>\n",
       "      <td>135000</td>\n",
       "      <td>3.0</td>\n",
       "      <td>3</td>\n",
       "      <td>2.0</td>\n",
       "      <td>46</td>\n",
       "      <td>15</td>\n",
       "      <td>True</td>\n",
       "      <td>True</td>\n",
       "      <td>False</td>\n",
       "      <td>False</td>\n",
       "      <td>True</td>\n",
       "      <td>39</td>\n",
       "      <td>False</td>\n",
       "    </tr>\n",
       "    <tr>\n",
       "      <th>...</th>\n",
       "      <td>...</td>\n",
       "      <td>...</td>\n",
       "      <td>...</td>\n",
       "      <td>...</td>\n",
       "      <td>...</td>\n",
       "      <td>...</td>\n",
       "      <td>...</td>\n",
       "      <td>...</td>\n",
       "      <td>...</td>\n",
       "      <td>...</td>\n",
       "      <td>...</td>\n",
       "      <td>...</td>\n",
       "      <td>...</td>\n",
       "    </tr>\n",
       "    <tr>\n",
       "      <th>15781</th>\n",
       "      <td>157500</td>\n",
       "      <td>3.0</td>\n",
       "      <td>3</td>\n",
       "      <td>2.0</td>\n",
       "      <td>39</td>\n",
       "      <td>12</td>\n",
       "      <td>True</td>\n",
       "      <td>True</td>\n",
       "      <td>False</td>\n",
       "      <td>False</td>\n",
       "      <td>True</td>\n",
       "      <td>29</td>\n",
       "      <td>False</td>\n",
       "    </tr>\n",
       "    <tr>\n",
       "      <th>15782</th>\n",
       "      <td>135000</td>\n",
       "      <td>3.0</td>\n",
       "      <td>3</td>\n",
       "      <td>3.0</td>\n",
       "      <td>30</td>\n",
       "      <td>2</td>\n",
       "      <td>True</td>\n",
       "      <td>False</td>\n",
       "      <td>True</td>\n",
       "      <td>True</td>\n",
       "      <td>False</td>\n",
       "      <td>36</td>\n",
       "      <td>False</td>\n",
       "    </tr>\n",
       "    <tr>\n",
       "      <th>15783</th>\n",
       "      <td>247500</td>\n",
       "      <td>1.0</td>\n",
       "      <td>3</td>\n",
       "      <td>3.0</td>\n",
       "      <td>42</td>\n",
       "      <td>2</td>\n",
       "      <td>True</td>\n",
       "      <td>False</td>\n",
       "      <td>True</td>\n",
       "      <td>True</td>\n",
       "      <td>True</td>\n",
       "      <td>37</td>\n",
       "      <td>False</td>\n",
       "    </tr>\n",
       "    <tr>\n",
       "      <th>15784</th>\n",
       "      <td>135000</td>\n",
       "      <td>2.0</td>\n",
       "      <td>3</td>\n",
       "      <td>1.0</td>\n",
       "      <td>48</td>\n",
       "      <td>0</td>\n",
       "      <td>True</td>\n",
       "      <td>False</td>\n",
       "      <td>False</td>\n",
       "      <td>False</td>\n",
       "      <td>False</td>\n",
       "      <td>55</td>\n",
       "      <td>False</td>\n",
       "    </tr>\n",
       "    <tr>\n",
       "      <th>15785</th>\n",
       "      <td>180000</td>\n",
       "      <td>1.0</td>\n",
       "      <td>3</td>\n",
       "      <td>2.0</td>\n",
       "      <td>51</td>\n",
       "      <td>16</td>\n",
       "      <td>True</td>\n",
       "      <td>True</td>\n",
       "      <td>True</td>\n",
       "      <td>True</td>\n",
       "      <td>False</td>\n",
       "      <td>52</td>\n",
       "      <td>False</td>\n",
       "    </tr>\n",
       "  </tbody>\n",
       "</table>\n",
       "<p>15786 rows × 13 columns</p>\n",
       "</div>"
      ],
      "text/plain": [
       "       annual_income  education_category  living_place  family_size  age  \\\n",
       "0             220500                 3.0             3          1.0   47   \n",
       "1             360000                 3.0             3          2.0   34   \n",
       "2             202500                 2.0             3          2.0   43   \n",
       "3             135000                 3.0             3          3.0   46   \n",
       "4             135000                 3.0             3          2.0   46   \n",
       "...              ...                 ...           ...          ...  ...   \n",
       "15781         157500                 3.0             3          2.0   39   \n",
       "15782         135000                 3.0             3          3.0   30   \n",
       "15783         247500                 1.0             3          3.0   42   \n",
       "15784         135000                 2.0             3          1.0   48   \n",
       "15785         180000                 1.0             3          2.0   51   \n",
       "\n",
       "       working_years  employed  emp_stability  has_children  \\\n",
       "0                  1      True          False         False   \n",
       "1                 11      True           True         False   \n",
       "2                 11      True           True         False   \n",
       "3                  3      True          False          True   \n",
       "4                 15      True           True         False   \n",
       "...              ...       ...            ...           ...   \n",
       "15781             12      True           True         False   \n",
       "15782              2      True          False          True   \n",
       "15783              2      True          False          True   \n",
       "15784              0      True          False         False   \n",
       "15785             16      True           True          True   \n",
       "\n",
       "       owns_realty_and_car  has_contact_information  credit_window  bad_client  \n",
       "0                    False                     True             10       False  \n",
       "1                    False                    False             35       False  \n",
       "2                     True                     True             38       False  \n",
       "3                    False                    False              5       False  \n",
       "4                    False                     True             39       False  \n",
       "...                    ...                      ...            ...         ...  \n",
       "15781                False                     True             29       False  \n",
       "15782                 True                    False             36       False  \n",
       "15783                 True                     True             37       False  \n",
       "15784                False                    False             55       False  \n",
       "15785                 True                    False             52       False  \n",
       "\n",
       "[15786 rows x 13 columns]"
      ]
     },
     "execution_count": 4,
     "metadata": {},
     "output_type": "execute_result"
    }
   ],
   "source": [
    "training_set"
   ]
  },
  {
   "cell_type": "code",
   "execution_count": 5,
   "metadata": {},
   "outputs": [
    {
     "data": {
      "text/plain": [
       "bad_client\n",
       "False    12784\n",
       "True       132\n",
       "Name: count, dtype: int64"
      ]
     },
     "execution_count": 5,
     "metadata": {},
     "output_type": "execute_result"
    }
   ],
   "source": [
    "testing_set['bad_client'].value_counts()"
   ]
  },
  {
   "cell_type": "markdown",
   "metadata": {},
   "source": [
    "Correlation between features"
   ]
  },
  {
   "cell_type": "code",
   "execution_count": 6,
   "metadata": {},
   "outputs": [
    {
     "data": {
      "text/plain": [
       "<Axes: >"
      ]
     },
     "execution_count": 6,
     "metadata": {},
     "output_type": "execute_result"
    },
    {
     "data": {
      "image/png": "[encoded data removed]",
      "text/plain": [
       "<Figure size 640x480 with 2 Axes>"
      ]
     },
     "metadata": {},
     "output_type": "display_data"
    }
   ],
   "source": [
    "sns.heatmap(training_set.corr())"
   ]
  },
  {
   "cell_type": "markdown",
   "metadata": {},
   "source": [
    "Initializing XG Boost Classifier"
   ]
  },
  {
   "cell_type": "code",
   "execution_count": 7,
   "metadata": {},
   "outputs": [],
   "source": [
    "xg_model = xgb.XGBClassifier()"
   ]
  },
  {
   "cell_type": "markdown",
   "metadata": {},
   "source": [
    "Hyperparameter Tuning for XGBoost Model using GridSearchCV on training set (imbalanced)"
   ]
  },
  {
   "cell_type": "code",
   "execution_count": 8,
   "metadata": {},
   "outputs": [],
   "source": [
    "x_training, y_training = training_set.drop(columns=['bad_client']), training_set['bad_client']"
   ]
  },
  {
   "cell_type": "code",
   "execution_count": null,
   "metadata": {},
   "outputs": [
    {
     "name": "stdout",
     "output_type": "stream",
     "text": [
      "fitting xgboost model....\n"
     ]
    }
   ],
   "source": [
    "# Selecting models and apply hyperparameter tuning\n",
    "from sklearn.model_selection import StratifiedKFold, GridSearchCV\n",
    "from sklearn.metrics import make_scorer, precision_recall_curve\n",
    "from scipy import integrate\n",
    "import numpy\n",
    "\n",
    "def calculate_auc_pr_score(y_true, y_pred):\n",
    "    \"\"\"\n",
    "    Function calculates auc pr score, based on ROC-AUC\n",
    "    \"\"\"\n",
    "    precisions, recalls, _ = precision_recall_curve(y_true, y_pred)\n",
    "    sorted_index = numpy.argsort(precisions)\n",
    "    precisions = numpy.array(precisions)[sorted_index]\n",
    "    recalls = numpy.array(recalls)[sorted_index]\n",
    "    return integrate.trapz(x=precisions, y=recalls)\n",
    "    \n",
    "score_function = make_scorer(calculate_auc_pr_score)\n",
    "\n",
    "# First Round \n",
    "xg_hyperparams = {\n",
    "    'min_child_weight': [1, 5, 10],\n",
    "    'gamma': [0, 0.25, 0.5],\n",
    "    'subsample': [0.6, 0.8, 1.0],\n",
    "    'colsample_bytree': [0.5, 0.6, 1.0],\n",
    "    'max_depth': [3, 4, 5]\n",
    "}\n",
    "\n",
    "new_cvs = GridSearchCV( \n",
    "    estimator=xg_model,\n",
    "    param_grid=xg_hyperparams,\n",
    "    scoring=score_function,\n",
    "    cv=StratifiedKFold(n_splits=10),\n",
    "    error_score=\"raise\",\n",
    "    n_jobs=-1,\n",
    ")\n",
    "\n",
    "\n",
    "print('fitting xgboost model....')\n",
    "new_cvs.fit(x_training, y_training)\n",
    "\n",
    "# the lower loss score is, the better model performs \n",
    "\n",
    "print('selecing optimal parameters...')\n",
    "optimal_params = new_cvs.best_params_\n",
    "\n",
    "opt_model = xgb.XGBClassifier(**optimal_params)"
   ]
  },
  {
   "cell_type": "code",
   "execution_count": null,
   "metadata": {},
   "outputs": [],
   "source": [
    "print('auc pr score for hp tuning - ', new_cvs.best_score_)"
   ]
  },
  {
   "cell_type": "markdown",
   "metadata": {},
   "source": [
    "Feature Selection using RFE (Recursive Feature Elimination) using validation set"
   ]
  },
  {
   "cell_type": "code",
   "execution_count": null,
   "metadata": {},
   "outputs": [],
   "source": [
    "# from sklearn.feature_selection import RFECV\n",
    "\n",
    "# x_validation = validation_set.drop(columns=['bad_client'])\n",
    "# y_validation = validation_set['bad_client']\n",
    "\n",
    "# # feature selector\n",
    "# estimator = RFECV(\n",
    "#     estimator=opt_model, \n",
    "#     step=2, min_features_to_select=5,\n",
    "#     cv=StratifiedKFold(n_splits=5),\n",
    "#     scoring=['accuracy', 'f1_score'],\n",
    "# )\n",
    "\n",
    "# # fitting the model \n",
    "# estimator.fit(x_validation, y_validation)\n",
    "    \n",
    "# features_idxs = list(\n",
    "#     filter(\n",
    "#         lambda feature: estimator.support_[feature] == True,\n",
    "#         range(len(x_validation.columns))\n",
    "#     )\n",
    "# )\n",
    "\n",
    "# feature_func = (lambda feature: training_set[0].columns[feature])\n",
    "\n",
    "# res = {\n",
    "#     'features': feature_func(features_idxs),\n",
    "#     'metrics': numpy.mean(estimator.cv_results_['mean_test_score'])    \n",
    "# }\n",
    "# res\n",
    "\n",
    "# important_features = res['features']\n",
    "\n",
    "# print(important_features)"
   ]
  },
  {
   "cell_type": "markdown",
   "metadata": {},
   "source": [
    "Splitting important data for testing set"
   ]
  },
  {
   "cell_type": "code",
   "execution_count": null,
   "metadata": {},
   "outputs": [],
   "source": [
    "# testing_set = testing_set[important_features]"
   ]
  },
  {
   "cell_type": "markdown",
   "metadata": {},
   "source": [
    "Cross-validating model on testing set"
   ]
  },
  {
   "cell_type": "code",
   "execution_count": null,
   "metadata": {},
   "outputs": [],
   "source": [
    "from sklearn.model_selection import cross_validate \n",
    "\n",
    "x_testing, y_testing = testing_set.drop(columns=['bad_client']), testing_set['bad_client']\n",
    "\n",
    "scores = cross_validate(\n",
    "    estimator=opt_model,\n",
    "    X=x_testing,\n",
    "    y=y_testing,\n",
    "    scoring=score_function,\n",
    ")\n",
    "print('auc-pr score (for cross-validation) - ', numpy.mean(scores['test_score']))"
   ]
  },
  {
   "cell_type": "markdown",
   "metadata": {},
   "source": [
    "Saving model object to the Pickle file"
   ]
  },
  {
   "cell_type": "code",
   "execution_count": null,
   "metadata": {},
   "outputs": [],
   "source": [
    "# saving machine learning model using pickle \n",
    "import pickle \n",
    "pickle.dump(opt_model, open(\"classifier.pkl\", mode=\"wb\"))"
   ]
  }
 ],
 "metadata": {
  "interpreter": {
   "hash": "953cdab6cce91cb4ff4265ecd1f71841d0f3ed6f837521e1b030c6273aab7b8e"
  },
  "kernelspec": {
   "display_name": "Python 3 (ipykernel)",
   "language": "python",
   "name": "python3"
  },
  "language_info": {
   "codemirror_mode": {
    "name": "ipython",
    "version": 3
   },
   "file_extension": ".py",
   "mimetype": "text/x-python",
   "name": "python",
   "nbconvert_exporter": "python",
   "pygments_lexer": "ipython3",
   "version": "3.9.2"
  }
 },
 "nbformat": 4,
 "nbformat_minor": 2
}
