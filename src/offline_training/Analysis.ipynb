{
 "cells": [
  {
   "cell_type": "markdown",
   "metadata": {},
   "source": [
    "Project Analysis\n",
    "\n",
    "Short Description:\n",
    "\n",
    "Analysis is dedicated to modeling and hyperparameter tuning stage, where we used\n",
    "preprocessed training and testing sets to evaluate our model. \n",
    "\n",
    "Pipeline has the following order:\n",
    "\n",
    "1. Initial Dataset Discovery \n",
    "2. Hyperparameter Tuning using Training Set\n",
    "3. Evaluating Model using AUC PR Metric \n",
    "\n",
    "4. Training model on Testing Set with Cross-Validation \n",
    "5. Evaluating model using same AUC PR Metric\n",
    "\n",
    "6. Conclusion"
   ]
  },
  {
   "cell_type": "code",
   "execution_count": 1,
   "metadata": {},
   "outputs": [],
   "source": [
    "import pandas, numpy\n",
    "import seaborn as sns\n",
    "from sklearn.model_selection import StratifiedKFold\n",
    "import xgboost as xgb"
   ]
  },
  {
   "cell_type": "code",
   "execution_count": 2,
   "metadata": {},
   "outputs": [
    {
     "name": "stdout",
     "output_type": "stream",
     "text": [
      "20091 8611\n"
     ]
    }
   ],
   "source": [
    "training_set = pandas.read_csv(\"../processed_data/training_set.csv\")\n",
    "testing_set = pandas.read_csv(\"../processed_data/testing_set.csv\")\n",
    "\n",
    "print(len(training_set), len(testing_set))\n"
   ]
  },
  {
   "cell_type": "code",
   "execution_count": 3,
   "metadata": {},
   "outputs": [],
   "source": [
    "for dataset in [training_set, testing_set]:\n",
    "    dataset.drop(columns=['Unnamed: 0'], inplace=True)"
   ]
  },
  {
   "cell_type": "code",
   "execution_count": 4,
   "metadata": {
    "scrolled": true
   },
   "outputs": [
    {
     "data": {
      "text/html": [
       "<div>\n",
       "<style scoped>\n",
       "    .dataframe tbody tr th:only-of-type {\n",
       "        vertical-align: middle;\n",
       "    }\n",
       "\n",
       "    .dataframe tbody tr th {\n",
       "        vertical-align: top;\n",
       "    }\n",
       "\n",
       "    .dataframe thead th {\n",
       "        text-align: right;\n",
       "    }\n",
       "</style>\n",
       "<table border=\"1\" class=\"dataframe\">\n",
       "  <thead>\n",
       "    <tr style=\"text-align: right;\">\n",
       "      <th></th>\n",
       "      <th>annual_income</th>\n",
       "      <th>education_category</th>\n",
       "      <th>living_place</th>\n",
       "      <th>family_size</th>\n",
       "      <th>age</th>\n",
       "      <th>working_years</th>\n",
       "      <th>emp_stability</th>\n",
       "      <th>has_children</th>\n",
       "      <th>owns_realty_and_car</th>\n",
       "      <th>has_contact_information</th>\n",
       "      <th>credit_window</th>\n",
       "      <th>bad_client</th>\n",
       "    </tr>\n",
       "  </thead>\n",
       "  <tbody>\n",
       "    <tr>\n",
       "      <th>0</th>\n",
       "      <td>166500</td>\n",
       "      <td>1.0</td>\n",
       "      <td>5</td>\n",
       "      <td>2.0</td>\n",
       "      <td>28</td>\n",
       "      <td>4</td>\n",
       "      <td>False</td>\n",
       "      <td>False</td>\n",
       "      <td>False</td>\n",
       "      <td>True</td>\n",
       "      <td>45</td>\n",
       "      <td>False</td>\n",
       "    </tr>\n",
       "    <tr>\n",
       "      <th>1</th>\n",
       "      <td>110250</td>\n",
       "      <td>1.0</td>\n",
       "      <td>3</td>\n",
       "      <td>1.0</td>\n",
       "      <td>38</td>\n",
       "      <td>15</td>\n",
       "      <td>True</td>\n",
       "      <td>False</td>\n",
       "      <td>True</td>\n",
       "      <td>False</td>\n",
       "      <td>44</td>\n",
       "      <td>False</td>\n",
       "    </tr>\n",
       "    <tr>\n",
       "      <th>2</th>\n",
       "      <td>360000</td>\n",
       "      <td>3.0</td>\n",
       "      <td>3</td>\n",
       "      <td>2.0</td>\n",
       "      <td>49</td>\n",
       "      <td>28</td>\n",
       "      <td>True</td>\n",
       "      <td>False</td>\n",
       "      <td>False</td>\n",
       "      <td>True</td>\n",
       "      <td>15</td>\n",
       "      <td>False</td>\n",
       "    </tr>\n",
       "    <tr>\n",
       "      <th>3</th>\n",
       "      <td>157500</td>\n",
       "      <td>3.0</td>\n",
       "      <td>5</td>\n",
       "      <td>3.0</td>\n",
       "      <td>38</td>\n",
       "      <td>4</td>\n",
       "      <td>False</td>\n",
       "      <td>True</td>\n",
       "      <td>False</td>\n",
       "      <td>False</td>\n",
       "      <td>10</td>\n",
       "      <td>False</td>\n",
       "    </tr>\n",
       "    <tr>\n",
       "      <th>4</th>\n",
       "      <td>135000</td>\n",
       "      <td>3.0</td>\n",
       "      <td>3</td>\n",
       "      <td>2.0</td>\n",
       "      <td>59</td>\n",
       "      <td>10</td>\n",
       "      <td>True</td>\n",
       "      <td>False</td>\n",
       "      <td>False</td>\n",
       "      <td>False</td>\n",
       "      <td>44</td>\n",
       "      <td>False</td>\n",
       "    </tr>\n",
       "    <tr>\n",
       "      <th>...</th>\n",
       "      <td>...</td>\n",
       "      <td>...</td>\n",
       "      <td>...</td>\n",
       "      <td>...</td>\n",
       "      <td>...</td>\n",
       "      <td>...</td>\n",
       "      <td>...</td>\n",
       "      <td>...</td>\n",
       "      <td>...</td>\n",
       "      <td>...</td>\n",
       "      <td>...</td>\n",
       "      <td>...</td>\n",
       "    </tr>\n",
       "    <tr>\n",
       "      <th>20086</th>\n",
       "      <td>247500</td>\n",
       "      <td>3.0</td>\n",
       "      <td>3</td>\n",
       "      <td>3.0</td>\n",
       "      <td>50</td>\n",
       "      <td>6</td>\n",
       "      <td>True</td>\n",
       "      <td>True</td>\n",
       "      <td>False</td>\n",
       "      <td>True</td>\n",
       "      <td>48</td>\n",
       "      <td>False</td>\n",
       "    </tr>\n",
       "    <tr>\n",
       "      <th>20087</th>\n",
       "      <td>180000</td>\n",
       "      <td>1.0</td>\n",
       "      <td>3</td>\n",
       "      <td>2.0</td>\n",
       "      <td>47</td>\n",
       "      <td>15</td>\n",
       "      <td>True</td>\n",
       "      <td>True</td>\n",
       "      <td>False</td>\n",
       "      <td>True</td>\n",
       "      <td>31</td>\n",
       "      <td>False</td>\n",
       "    </tr>\n",
       "    <tr>\n",
       "      <th>20088</th>\n",
       "      <td>171000</td>\n",
       "      <td>3.0</td>\n",
       "      <td>3</td>\n",
       "      <td>1.0</td>\n",
       "      <td>53</td>\n",
       "      <td>4</td>\n",
       "      <td>False</td>\n",
       "      <td>False</td>\n",
       "      <td>False</td>\n",
       "      <td>False</td>\n",
       "      <td>28</td>\n",
       "      <td>False</td>\n",
       "    </tr>\n",
       "    <tr>\n",
       "      <th>20089</th>\n",
       "      <td>270000</td>\n",
       "      <td>3.0</td>\n",
       "      <td>3</td>\n",
       "      <td>3.0</td>\n",
       "      <td>47</td>\n",
       "      <td>0</td>\n",
       "      <td>False</td>\n",
       "      <td>True</td>\n",
       "      <td>True</td>\n",
       "      <td>True</td>\n",
       "      <td>42</td>\n",
       "      <td>False</td>\n",
       "    </tr>\n",
       "    <tr>\n",
       "      <th>20090</th>\n",
       "      <td>121500</td>\n",
       "      <td>1.0</td>\n",
       "      <td>3</td>\n",
       "      <td>3.0</td>\n",
       "      <td>30</td>\n",
       "      <td>2</td>\n",
       "      <td>False</td>\n",
       "      <td>True</td>\n",
       "      <td>False</td>\n",
       "      <td>False</td>\n",
       "      <td>15</td>\n",
       "      <td>False</td>\n",
       "    </tr>\n",
       "  </tbody>\n",
       "</table>\n",
       "<p>20091 rows × 12 columns</p>\n",
       "</div>"
      ],
      "text/plain": [
       "       annual_income  education_category  living_place  family_size  age  \\\n",
       "0             166500                 1.0             5          2.0   28   \n",
       "1             110250                 1.0             3          1.0   38   \n",
       "2             360000                 3.0             3          2.0   49   \n",
       "3             157500                 3.0             5          3.0   38   \n",
       "4             135000                 3.0             3          2.0   59   \n",
       "...              ...                 ...           ...          ...  ...   \n",
       "20086         247500                 3.0             3          3.0   50   \n",
       "20087         180000                 1.0             3          2.0   47   \n",
       "20088         171000                 3.0             3          1.0   53   \n",
       "20089         270000                 3.0             3          3.0   47   \n",
       "20090         121500                 1.0             3          3.0   30   \n",
       "\n",
       "       working_years  emp_stability  has_children  owns_realty_and_car  \\\n",
       "0                  4          False         False                False   \n",
       "1                 15           True         False                 True   \n",
       "2                 28           True         False                False   \n",
       "3                  4          False          True                False   \n",
       "4                 10           True         False                False   \n",
       "...              ...            ...           ...                  ...   \n",
       "20086              6           True          True                False   \n",
       "20087             15           True          True                False   \n",
       "20088              4          False         False                False   \n",
       "20089              0          False          True                 True   \n",
       "20090              2          False          True                False   \n",
       "\n",
       "       has_contact_information  credit_window  bad_client  \n",
       "0                         True             45       False  \n",
       "1                        False             44       False  \n",
       "2                         True             15       False  \n",
       "3                        False             10       False  \n",
       "4                        False             44       False  \n",
       "...                        ...            ...         ...  \n",
       "20086                     True             48       False  \n",
       "20087                     True             31       False  \n",
       "20088                    False             28       False  \n",
       "20089                     True             42       False  \n",
       "20090                    False             15       False  \n",
       "\n",
       "[20091 rows x 12 columns]"
      ]
     },
     "execution_count": 4,
     "metadata": {},
     "output_type": "execute_result"
    }
   ],
   "source": [
    "training_set"
   ]
  },
  {
   "cell_type": "markdown",
   "metadata": {},
   "source": [
    "Correlation between features"
   ]
  },
  {
   "cell_type": "code",
   "execution_count": 5,
   "metadata": {},
   "outputs": [
    {
     "data": {
      "text/plain": [
       "<Axes: >"
      ]
     },
     "execution_count": 5,
     "metadata": {},
     "output_type": "execute_result"
    },
    {
     "data": {
      "image/png": "[encoded data removed]",
      "text/plain": [
       "<Figure size 640x480 with 2 Axes>"
      ]
     },
     "metadata": {},
     "output_type": "display_data"
    }
   ],
   "source": [
    "sns.heatmap(training_set.corr())"
   ]
  },
  {
   "cell_type": "markdown",
   "metadata": {},
   "source": [
    "Initializing XG Boost Classifier"
   ]
  },
  {
   "cell_type": "code",
   "execution_count": 6,
   "metadata": {},
   "outputs": [],
   "source": [
    "xg_model = xgb.XGBClassifier()"
   ]
  },
  {
   "cell_type": "markdown",
   "metadata": {},
   "source": [
    "Hyperparameter Tuning for XGBoost Model using GridSearchCV on training set (imbalanced)"
   ]
  },
  {
   "cell_type": "code",
   "execution_count": 7,
   "metadata": {},
   "outputs": [],
   "source": [
    "x_training, y_training = training_set.drop(columns=['bad_client']), training_set['bad_client']"
   ]
  },
  {
   "cell_type": "code",
   "execution_count": 8,
   "metadata": {},
   "outputs": [
    {
     "name": "stdout",
     "output_type": "stream",
     "text": [
      "fitting xgboost model....\n",
      "selecing optimal parameters...\n"
     ]
    }
   ],
   "source": [
    "# Selecting models and apply hyperparameter tuning\n",
    "from sklearn.model_selection import StratifiedKFold, GridSearchCV\n",
    "from sklearn.metrics import make_scorer, precision_recall_curve\n",
    "from scipy import integrate\n",
    "import numpy\n",
    "\n",
    "def calculate_auc_pr_score(y_true, y_pred):\n",
    "    \"\"\"\n",
    "    Function calculates auc pr score, based on ROC-AUC\n",
    "    \"\"\"\n",
    "    precisions, recalls, _ = precision_recall_curve(y_true, y_pred)\n",
    "    sorted_index = numpy.argsort(precisions)\n",
    "    precisions = numpy.array(precisions)[sorted_index]\n",
    "    recalls = numpy.array(recalls)[sorted_index]\n",
    "    return integrate.trapz(x=precisions, y=recalls)\n",
    "    \n",
    "score_function = make_scorer(calculate_auc_pr_score)\n",
    "\n",
    "xg_hyperparams = {\n",
    "    'min_child_weight': [1, 5, 10],\n",
    "    'gamma': [0, 0.25, 0.5],\n",
    "    'subsample': [0.6, 0.8, 1.0],\n",
    "    'colsample_bytree': [0.5, 0.6, 1.0],\n",
    "    'max_depth': [3, 4, 5]\n",
    "}\n",
    "\n",
    "new_cvs = GridSearchCV( \n",
    "    estimator=xg_model,\n",
    "    param_grid=xg_hyperparams,\n",
    "    scoring=score_function,\n",
    "    cv=StratifiedKFold(n_splits=10),\n",
    "    error_score=\"raise\",\n",
    "    n_jobs=-1,\n",
    ")\n",
    "\n",
    "\n",
    "print('fitting xgboost model....')\n",
    "new_cvs.fit(x_training, y_training)\n",
    "\n",
    "# the lower loss score is, the better model performs \n",
    "\n",
    "print('selecing optimal parameters...')\n",
    "optimal_params = new_cvs.best_params_\n",
    "\n",
    "opt_model = xgb.XGBClassifier(**optimal_params)"
   ]
  },
  {
   "cell_type": "code",
   "execution_count": 9,
   "metadata": {},
   "outputs": [
    {
     "name": "stdout",
     "output_type": "stream",
     "text": [
      "auc pr score for hp tuning -  0.5122784590554625\n"
     ]
    }
   ],
   "source": [
    "print('auc pr score for hp tuning - ', new_cvs.best_score_)"
   ]
  },
  {
   "cell_type": "markdown",
   "metadata": {},
   "source": [
    "Cross-validating model on testing set"
   ]
  },
  {
   "cell_type": "code",
   "execution_count": 10,
   "metadata": {},
   "outputs": [
    {
     "name": "stdout",
     "output_type": "stream",
     "text": [
      "auc-pr score (for cross-validation) -  0.49031392589027456\n"
     ]
    }
   ],
   "source": [
    "from sklearn.model_selection import cross_validate \n",
    "\n",
    "x_testing, y_testing = testing_set.drop(columns=['bad_client']), testing_set['bad_client']\n",
    "\n",
    "scores = cross_validate(\n",
    "    estimator=opt_model,\n",
    "    X=x_testing,\n",
    "    y=y_testing,\n",
    "    scoring=score_function,\n",
    ")\n",
    "print('auc-pr score (for cross-validation) - ', numpy.mean(scores['test_score']))"
   ]
  },
  {
   "cell_type": "markdown",
   "metadata": {},
   "source": [
    "Saving model object to the Pickle file"
   ]
  },
  {
   "cell_type": "code",
   "execution_count": 11,
   "metadata": {},
   "outputs": [],
   "source": [
    "# saving machine learning model using pickle \n",
    "import pickle \n",
    "pickle.dump(opt_model, open(\"../models/classifier.pkl\", mode=\"wb\"))"
   ]
  },
  {
   "cell_type": "markdown",
   "metadata": {},
   "source": [
    "Conclusion"
   ]
  },
  {
   "cell_type": "code",
   "execution_count": null,
   "metadata": {},
   "outputs": [],
   "source": []
  }
 ],
 "metadata": {
  "interpreter": {
   "hash": "953cdab6cce91cb4ff4265ecd1f71841d0f3ed6f837521e1b030c6273aab7b8e"
  },
  "kernelspec": {
   "display_name": "Python 3 (ipykernel)",
   "language": "python",
   "name": "python3"
  },
  "language_info": {
   "codemirror_mode": {
    "name": "ipython",
    "version": 3
   },
   "file_extension": ".py",
   "mimetype": "text/x-python",
   "name": "python",
   "nbconvert_exporter": "python",
   "pygments_lexer": "ipython3",
   "version": "3.9.2"
  }
 },
 "nbformat": 4,
 "nbformat_minor": 2
}
